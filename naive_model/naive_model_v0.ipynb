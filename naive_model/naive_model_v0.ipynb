{
 "cells": [
  {
   "cell_type": "markdown",
   "metadata": {},
   "source": [
    "# Naive Model (Play-Level Data) v0 \n",
    "\n",
    "__Date:__ 11/5/2023 <br>\n",
    "__Purpose:__ Program that uses the play-level data to predict expected yards gained <br>\n",
    "__Model and data specifications:__\n",
    "- Data: Plays dataframe and some stuff from games df (no outside supplemental data)\n",
    "- Models: Basic supervised learning"
   ]
  },
  {
   "cell_type": "markdown",
   "metadata": {},
   "source": [
    "## Step 0: Import Libraries"
   ]
  },
  {
   "cell_type": "code",
   "execution_count": 9,
   "metadata": {},
   "outputs": [],
   "source": [
    "import pandas as pd\n",
    "import numpy as np\n",
    "import matplotlib.pyplot as plt\n",
    "from sklearn.model_selection import GridSearchCV, train_test_split\n",
    "from sklearn.metrics import mean_squared_error, confusion_matrix, roc_auc_score, auc, f1_score, accuracy_score, roc_curve, RocCurveDisplay, r2_score\n",
    "import time \n",
    "import sys\n",
    "sys.path.append('../preprocessing')\n",
    "from Preprocessing_v1 import *\n",
    "from DataLoader import load_data\n",
    "\n",
    "# Regression models\n",
    "from sklearn.linear_model import LinearRegression, Lasso, Ridge, ElasticNet\n",
    "from sklearn.svm import SVR\n",
    "from sklearn.ensemble import RandomForestRegressor, AdaBoostRegressor\n",
    "import xgboost as xgb\n",
    "\n",
    "# Classification models\n",
    "from sklearn.linear_model import LogisticRegression\n",
    "from sklearn.linear_model import Perceptron\n",
    "from sklearn.svm import SVC\n",
    "from sklearn.naive_bayes import GaussianNB\n",
    "from sklearn.ensemble import RandomForestClassifier, AdaBoostClassifier\n"
   ]
  },
  {
   "cell_type": "markdown",
   "metadata": {},
   "source": [
    "## Step 1: Load Data"
   ]
  },
  {
   "cell_type": "code",
   "execution_count": 2,
   "metadata": {},
   "outputs": [
    {
     "name": "stdout",
     "output_type": "stream",
     "text": [
      "loaded games df\n",
      "shape: (136, 9)\n",
      "-----\n",
      "loaded players df\n",
      "shape: (1683, 7)\n",
      "-----\n",
      "loaded plays df\n",
      "shape: (12486, 35)\n",
      "-----\n",
      "loading tracking frames...\n",
      "loaded tracking frames\n",
      "shape: (12187398, 17)\n",
      "returning 4 frames\n"
     ]
    }
   ],
   "source": [
    "# Load data\n",
    "[games_df, players_df, plays_df, tracking_df] = load_data()"
   ]
  },
  {
   "cell_type": "markdown",
   "metadata": {},
   "source": [
    "## Step 2: Train models"
   ]
  },
  {
   "cell_type": "code",
   "execution_count": 3,
   "metadata": {},
   "outputs": [],
   "source": [
    "# Function that finishes preprocessing and does the train test split of plays df\n",
    "def plays_train_test_split(plays_df_clean):\n",
    "    # Drop game and play ID\n",
    "    plays_df_clean = plays_df_clean.drop(['gameId', 'playId'], axis = 1)\n",
    "    \n",
    "    # Get X and y matrices\n",
    "    y = plays_df_clean[\"TARGET\"]\n",
    "    X = plays_df_clean.drop([\"TARGET\"], axis = 1)\n",
    "\n",
    "    X_train, X_test, y_train, y_test = train_test_split(X, y, test_size=0.25, random_state=24)\n",
    "\n",
    "    # print('X_train shape : ', X_train.shape)\n",
    "    # print('y_train shape : ', y_train.shape)\n",
    "\n",
    "    # print('X_test shape  : ', X_test.shape)\n",
    "    # print('y_test shape  : ', y_test.shape)\n",
    "    \n",
    "    return X_train, X_test, y_train, y_test"
   ]
  },
  {
   "cell_type": "code",
   "execution_count": 10,
   "metadata": {},
   "outputs": [
    {
     "name": "stdout",
     "output_type": "stream",
     "text": [
      "final plays data shape: (6840, 289)\n",
      "training LogisticRegression\n"
     ]
    },
    {
     "name": "stderr",
     "output_type": "stream",
     "text": [
      "/Library/Frameworks/Python.framework/Versions/3.10/lib/python3.10/site-packages/sklearn/linear_model/_logistic.py:458: ConvergenceWarning: lbfgs failed to converge (status=1):\n",
      "STOP: TOTAL NO. of ITERATIONS REACHED LIMIT.\n",
      "\n",
      "Increase the number of iterations (max_iter) or scale the data as shown in:\n",
      "    https://scikit-learn.org/stable/modules/preprocessing.html\n",
      "Please also refer to the documentation for alternative solver options:\n",
      "    https://scikit-learn.org/stable/modules/linear_model.html#logistic-regression\n",
      "  n_iter_i = _check_optimize_result(\n"
     ]
    },
    {
     "name": "stdout",
     "output_type": "stream",
     "text": [
      "training Perceptron\n"
     ]
    },
    {
     "name": "stderr",
     "output_type": "stream",
     "text": [
      "/var/folders/nt/y2pysqbx2wg4rrlhdnq0djrc0000gn/T/ipykernel_16501/1568935172.py:93: FutureWarning: In a future version, object-dtype columns with all-bool values will not be included in reductions with bool_only=True. Explicitly cast to bool dtype instead.\n",
      "  results_df = pd.concat([results_df, new_row], ignore_index=True)\n"
     ]
    },
    {
     "name": "stdout",
     "output_type": "stream",
     "text": [
      "training SVC\n"
     ]
    },
    {
     "name": "stderr",
     "output_type": "stream",
     "text": [
      "/var/folders/nt/y2pysqbx2wg4rrlhdnq0djrc0000gn/T/ipykernel_16501/1568935172.py:93: FutureWarning: In a future version, object-dtype columns with all-bool values will not be included in reductions with bool_only=True. Explicitly cast to bool dtype instead.\n",
      "  results_df = pd.concat([results_df, new_row], ignore_index=True)\n",
      "/var/folders/nt/y2pysqbx2wg4rrlhdnq0djrc0000gn/T/ipykernel_16501/1568935172.py:93: FutureWarning: In a future version, object-dtype columns with all-bool values will not be included in reductions with bool_only=True. Explicitly cast to bool dtype instead.\n",
      "  results_df = pd.concat([results_df, new_row], ignore_index=True)\n"
     ]
    },
    {
     "name": "stdout",
     "output_type": "stream",
     "text": [
      "training GaussianNB\n",
      "training RandomForestClassifier\n"
     ]
    },
    {
     "name": "stderr",
     "output_type": "stream",
     "text": [
      "/var/folders/nt/y2pysqbx2wg4rrlhdnq0djrc0000gn/T/ipykernel_16501/1568935172.py:93: FutureWarning: In a future version, object-dtype columns with all-bool values will not be included in reductions with bool_only=True. Explicitly cast to bool dtype instead.\n",
      "  results_df = pd.concat([results_df, new_row], ignore_index=True)\n"
     ]
    },
    {
     "name": "stdout",
     "output_type": "stream",
     "text": [
      "training AdaBoostClassifier\n"
     ]
    },
    {
     "name": "stderr",
     "output_type": "stream",
     "text": [
      "/var/folders/nt/y2pysqbx2wg4rrlhdnq0djrc0000gn/T/ipykernel_16501/1568935172.py:93: FutureWarning: In a future version, object-dtype columns with all-bool values will not be included in reductions with bool_only=True. Explicitly cast to bool dtype instead.\n",
      "  results_df = pd.concat([results_df, new_row], ignore_index=True)\n"
     ]
    },
    {
     "name": "stdout",
     "output_type": "stream",
     "text": [
      "final plays data shape: (6840, 289)\n",
      "training LinearRegression\n"
     ]
    },
    {
     "name": "stderr",
     "output_type": "stream",
     "text": [
      "/var/folders/nt/y2pysqbx2wg4rrlhdnq0djrc0000gn/T/ipykernel_16501/1568935172.py:60: FutureWarning: In a future version, object-dtype columns with all-bool values will not be included in reductions with bool_only=True. Explicitly cast to bool dtype instead.\n",
      "  results_df = pd.concat([results_df, new_row], ignore_index=True)\n",
      "/var/folders/nt/y2pysqbx2wg4rrlhdnq0djrc0000gn/T/ipykernel_16501/1568935172.py:60: FutureWarning: In a future version, object-dtype columns with all-bool values will not be included in reductions with bool_only=True. Explicitly cast to bool dtype instead.\n",
      "  results_df = pd.concat([results_df, new_row], ignore_index=True)\n",
      "/var/folders/nt/y2pysqbx2wg4rrlhdnq0djrc0000gn/T/ipykernel_16501/1568935172.py:60: FutureWarning: In a future version, object-dtype columns with all-bool values will not be included in reductions with bool_only=True. Explicitly cast to bool dtype instead.\n",
      "  results_df = pd.concat([results_df, new_row], ignore_index=True)\n",
      "/var/folders/nt/y2pysqbx2wg4rrlhdnq0djrc0000gn/T/ipykernel_16501/1568935172.py:60: FutureWarning: In a future version, object-dtype columns with all-bool values will not be included in reductions with bool_only=True. Explicitly cast to bool dtype instead.\n",
      "  results_df = pd.concat([results_df, new_row], ignore_index=True)\n"
     ]
    },
    {
     "name": "stdout",
     "output_type": "stream",
     "text": [
      "training Lasso\n",
      "training Ridge\n",
      "training ElasticNet\n",
      "training SVR\n"
     ]
    },
    {
     "name": "stderr",
     "output_type": "stream",
     "text": [
      "/var/folders/nt/y2pysqbx2wg4rrlhdnq0djrc0000gn/T/ipykernel_16501/1568935172.py:60: FutureWarning: In a future version, object-dtype columns with all-bool values will not be included in reductions with bool_only=True. Explicitly cast to bool dtype instead.\n",
      "  results_df = pd.concat([results_df, new_row], ignore_index=True)\n"
     ]
    },
    {
     "name": "stdout",
     "output_type": "stream",
     "text": [
      "training RandomForestRegressor\n"
     ]
    },
    {
     "name": "stderr",
     "output_type": "stream",
     "text": [
      "/var/folders/nt/y2pysqbx2wg4rrlhdnq0djrc0000gn/T/ipykernel_16501/1568935172.py:60: FutureWarning: In a future version, object-dtype columns with all-bool values will not be included in reductions with bool_only=True. Explicitly cast to bool dtype instead.\n",
      "  results_df = pd.concat([results_df, new_row], ignore_index=True)\n"
     ]
    },
    {
     "name": "stdout",
     "output_type": "stream",
     "text": [
      "training AdaBoostRegressor\n"
     ]
    },
    {
     "name": "stderr",
     "output_type": "stream",
     "text": [
      "/var/folders/nt/y2pysqbx2wg4rrlhdnq0djrc0000gn/T/ipykernel_16501/1568935172.py:60: FutureWarning: In a future version, object-dtype columns with all-bool values will not be included in reductions with bool_only=True. Explicitly cast to bool dtype instead.\n",
      "  results_df = pd.concat([results_df, new_row], ignore_index=True)\n"
     ]
    },
    {
     "name": "stdout",
     "output_type": "stream",
     "text": [
      "final plays data shape: (6840, 289)\n",
      "training LogisticRegression\n"
     ]
    },
    {
     "name": "stderr",
     "output_type": "stream",
     "text": [
      "/Library/Frameworks/Python.framework/Versions/3.10/lib/python3.10/site-packages/sklearn/linear_model/_logistic.py:458: ConvergenceWarning: lbfgs failed to converge (status=1):\n",
      "STOP: TOTAL NO. of ITERATIONS REACHED LIMIT.\n",
      "\n",
      "Increase the number of iterations (max_iter) or scale the data as shown in:\n",
      "    https://scikit-learn.org/stable/modules/preprocessing.html\n",
      "Please also refer to the documentation for alternative solver options:\n",
      "    https://scikit-learn.org/stable/modules/linear_model.html#logistic-regression\n",
      "  n_iter_i = _check_optimize_result(\n",
      "/var/folders/nt/y2pysqbx2wg4rrlhdnq0djrc0000gn/T/ipykernel_16501/1568935172.py:93: FutureWarning: In a future version, object-dtype columns with all-bool values will not be included in reductions with bool_only=True. Explicitly cast to bool dtype instead.\n",
      "  results_df = pd.concat([results_df, new_row], ignore_index=True)\n"
     ]
    },
    {
     "name": "stdout",
     "output_type": "stream",
     "text": [
      "training Perceptron\n"
     ]
    },
    {
     "name": "stderr",
     "output_type": "stream",
     "text": [
      "/var/folders/nt/y2pysqbx2wg4rrlhdnq0djrc0000gn/T/ipykernel_16501/1568935172.py:93: FutureWarning: In a future version, object-dtype columns with all-bool values will not be included in reductions with bool_only=True. Explicitly cast to bool dtype instead.\n",
      "  results_df = pd.concat([results_df, new_row], ignore_index=True)\n"
     ]
    },
    {
     "name": "stdout",
     "output_type": "stream",
     "text": [
      "training SVC\n"
     ]
    },
    {
     "name": "stderr",
     "output_type": "stream",
     "text": [
      "/var/folders/nt/y2pysqbx2wg4rrlhdnq0djrc0000gn/T/ipykernel_16501/1568935172.py:93: FutureWarning: In a future version, object-dtype columns with all-bool values will not be included in reductions with bool_only=True. Explicitly cast to bool dtype instead.\n",
      "  results_df = pd.concat([results_df, new_row], ignore_index=True)\n",
      "/var/folders/nt/y2pysqbx2wg4rrlhdnq0djrc0000gn/T/ipykernel_16501/1568935172.py:93: FutureWarning: In a future version, object-dtype columns with all-bool values will not be included in reductions with bool_only=True. Explicitly cast to bool dtype instead.\n",
      "  results_df = pd.concat([results_df, new_row], ignore_index=True)\n"
     ]
    },
    {
     "name": "stdout",
     "output_type": "stream",
     "text": [
      "training GaussianNB\n",
      "training RandomForestClassifier\n"
     ]
    },
    {
     "name": "stderr",
     "output_type": "stream",
     "text": [
      "/var/folders/nt/y2pysqbx2wg4rrlhdnq0djrc0000gn/T/ipykernel_16501/1568935172.py:93: FutureWarning: In a future version, object-dtype columns with all-bool values will not be included in reductions with bool_only=True. Explicitly cast to bool dtype instead.\n",
      "  results_df = pd.concat([results_df, new_row], ignore_index=True)\n"
     ]
    },
    {
     "name": "stdout",
     "output_type": "stream",
     "text": [
      "training AdaBoostClassifier\n"
     ]
    },
    {
     "name": "stderr",
     "output_type": "stream",
     "text": [
      "/var/folders/nt/y2pysqbx2wg4rrlhdnq0djrc0000gn/T/ipykernel_16501/1568935172.py:93: FutureWarning: In a future version, object-dtype columns with all-bool values will not be included in reductions with bool_only=True. Explicitly cast to bool dtype instead.\n",
      "  results_df = pd.concat([results_df, new_row], ignore_index=True)\n"
     ]
    },
    {
     "name": "stdout",
     "output_type": "stream",
     "text": [
      "final plays data shape: (6840, 289)\n",
      "training LinearRegression\n",
      "training Lasso\n"
     ]
    },
    {
     "name": "stderr",
     "output_type": "stream",
     "text": [
      "/var/folders/nt/y2pysqbx2wg4rrlhdnq0djrc0000gn/T/ipykernel_16501/1568935172.py:60: FutureWarning: In a future version, object-dtype columns with all-bool values will not be included in reductions with bool_only=True. Explicitly cast to bool dtype instead.\n",
      "  results_df = pd.concat([results_df, new_row], ignore_index=True)\n",
      "/var/folders/nt/y2pysqbx2wg4rrlhdnq0djrc0000gn/T/ipykernel_16501/1568935172.py:60: FutureWarning: In a future version, object-dtype columns with all-bool values will not be included in reductions with bool_only=True. Explicitly cast to bool dtype instead.\n",
      "  results_df = pd.concat([results_df, new_row], ignore_index=True)\n",
      "/var/folders/nt/y2pysqbx2wg4rrlhdnq0djrc0000gn/T/ipykernel_16501/1568935172.py:60: FutureWarning: In a future version, object-dtype columns with all-bool values will not be included in reductions with bool_only=True. Explicitly cast to bool dtype instead.\n",
      "  results_df = pd.concat([results_df, new_row], ignore_index=True)\n",
      "/var/folders/nt/y2pysqbx2wg4rrlhdnq0djrc0000gn/T/ipykernel_16501/1568935172.py:60: FutureWarning: In a future version, object-dtype columns with all-bool values will not be included in reductions with bool_only=True. Explicitly cast to bool dtype instead.\n",
      "  results_df = pd.concat([results_df, new_row], ignore_index=True)\n"
     ]
    },
    {
     "name": "stdout",
     "output_type": "stream",
     "text": [
      "training Ridge\n",
      "training ElasticNet\n",
      "training SVR\n"
     ]
    },
    {
     "name": "stderr",
     "output_type": "stream",
     "text": [
      "/var/folders/nt/y2pysqbx2wg4rrlhdnq0djrc0000gn/T/ipykernel_16501/1568935172.py:60: FutureWarning: In a future version, object-dtype columns with all-bool values will not be included in reductions with bool_only=True. Explicitly cast to bool dtype instead.\n",
      "  results_df = pd.concat([results_df, new_row], ignore_index=True)\n"
     ]
    },
    {
     "name": "stdout",
     "output_type": "stream",
     "text": [
      "training RandomForestRegressor\n"
     ]
    },
    {
     "name": "stderr",
     "output_type": "stream",
     "text": [
      "/var/folders/nt/y2pysqbx2wg4rrlhdnq0djrc0000gn/T/ipykernel_16501/1568935172.py:60: FutureWarning: In a future version, object-dtype columns with all-bool values will not be included in reductions with bool_only=True. Explicitly cast to bool dtype instead.\n",
      "  results_df = pd.concat([results_df, new_row], ignore_index=True)\n"
     ]
    },
    {
     "name": "stdout",
     "output_type": "stream",
     "text": [
      "training AdaBoostRegressor\n"
     ]
    },
    {
     "name": "stderr",
     "output_type": "stream",
     "text": [
      "/var/folders/nt/y2pysqbx2wg4rrlhdnq0djrc0000gn/T/ipykernel_16501/1568935172.py:60: FutureWarning: In a future version, object-dtype columns with all-bool values will not be included in reductions with bool_only=True. Explicitly cast to bool dtype instead.\n",
      "  results_df = pd.concat([results_df, new_row], ignore_index=True)\n"
     ]
    },
    {
     "data": {
      "text/html": [
       "<div>\n",
       "<style scoped>\n",
       "    .dataframe tbody tr th:only-of-type {\n",
       "        vertical-align: middle;\n",
       "    }\n",
       "\n",
       "    .dataframe tbody tr th {\n",
       "        vertical-align: top;\n",
       "    }\n",
       "\n",
       "    .dataframe thead th {\n",
       "        text-align: right;\n",
       "    }\n",
       "</style>\n",
       "<table border=\"1\" class=\"dataframe\">\n",
       "  <thead>\n",
       "    <tr style=\"text-align: right;\">\n",
       "      <th></th>\n",
       "      <th>model</th>\n",
       "      <th>regression/classification</th>\n",
       "      <th>train_time</th>\n",
       "      <th>MSE pre-bin</th>\n",
       "      <th>r2_score</th>\n",
       "      <th>bin_output</th>\n",
       "      <th>include_nfl_features</th>\n",
       "      <th>f1_score</th>\n",
       "      <th>confusion_matrix</th>\n",
       "      <th>accuracy_score</th>\n",
       "    </tr>\n",
       "  </thead>\n",
       "  <tbody>\n",
       "    <tr>\n",
       "      <th>0</th>\n",
       "      <td>LogisticRegression</td>\n",
       "      <td>classification</td>\n",
       "      <td>0.621485</td>\n",
       "      <td>NaN</td>\n",
       "      <td>NaN</td>\n",
       "      <td>True</td>\n",
       "      <td>True</td>\n",
       "      <td>0.132776</td>\n",
       "      <td>[[0, 0, 0, 0, 90, 0, 0], [0, 0, 0, 0, 184, 0, ...</td>\n",
       "      <td>0.292982</td>\n",
       "    </tr>\n",
       "    <tr>\n",
       "      <th>1</th>\n",
       "      <td>Perceptron</td>\n",
       "      <td>classification</td>\n",
       "      <td>0.353455</td>\n",
       "      <td>NaN</td>\n",
       "      <td>NaN</td>\n",
       "      <td>True</td>\n",
       "      <td>True</td>\n",
       "      <td>0.132776</td>\n",
       "      <td>[[0, 0, 0, 0, 90, 0, 0], [0, 0, 0, 0, 184, 0, ...</td>\n",
       "      <td>0.292982</td>\n",
       "    </tr>\n",
       "    <tr>\n",
       "      <th>2</th>\n",
       "      <td>SVC</td>\n",
       "      <td>classification</td>\n",
       "      <td>7.149053</td>\n",
       "      <td>NaN</td>\n",
       "      <td>NaN</td>\n",
       "      <td>True</td>\n",
       "      <td>True</td>\n",
       "      <td>0.132776</td>\n",
       "      <td>[[0, 0, 0, 0, 90, 0, 0], [0, 0, 0, 0, 184, 0, ...</td>\n",
       "      <td>0.292982</td>\n",
       "    </tr>\n",
       "    <tr>\n",
       "      <th>3</th>\n",
       "      <td>GaussianNB</td>\n",
       "      <td>classification</td>\n",
       "      <td>0.034382</td>\n",
       "      <td>NaN</td>\n",
       "      <td>NaN</td>\n",
       "      <td>True</td>\n",
       "      <td>True</td>\n",
       "      <td>0.183787</td>\n",
       "      <td>[[24, 14, 8, 4, 16, 11, 13], [37, 41, 28, 11, ...</td>\n",
       "      <td>0.179532</td>\n",
       "    </tr>\n",
       "    <tr>\n",
       "      <th>4</th>\n",
       "      <td>RandomForestClassifier</td>\n",
       "      <td>classification</td>\n",
       "      <td>2.083192</td>\n",
       "      <td>NaN</td>\n",
       "      <td>NaN</td>\n",
       "      <td>True</td>\n",
       "      <td>True</td>\n",
       "      <td>0.214815</td>\n",
       "      <td>[[2, 7, 8, 2, 55, 13, 3], [0, 22, 13, 13, 113,...</td>\n",
       "      <td>0.271345</td>\n",
       "    </tr>\n",
       "  </tbody>\n",
       "</table>\n",
       "</div>"
      ],
      "text/plain": [
       "                    model regression/classification  train_time  MSE pre-bin  \\\n",
       "0      LogisticRegression            classification    0.621485          NaN   \n",
       "1              Perceptron            classification    0.353455          NaN   \n",
       "2                     SVC            classification    7.149053          NaN   \n",
       "3              GaussianNB            classification    0.034382          NaN   \n",
       "4  RandomForestClassifier            classification    2.083192          NaN   \n",
       "\n",
       "   r2_score bin_output include_nfl_features  f1_score  \\\n",
       "0       NaN       True                 True  0.132776   \n",
       "1       NaN       True                 True  0.132776   \n",
       "2       NaN       True                 True  0.132776   \n",
       "3       NaN       True                 True  0.183787   \n",
       "4       NaN       True                 True  0.214815   \n",
       "\n",
       "                                    confusion_matrix  accuracy_score  \n",
       "0  [[0, 0, 0, 0, 90, 0, 0], [0, 0, 0, 0, 184, 0, ...        0.292982  \n",
       "1  [[0, 0, 0, 0, 90, 0, 0], [0, 0, 0, 0, 184, 0, ...        0.292982  \n",
       "2  [[0, 0, 0, 0, 90, 0, 0], [0, 0, 0, 0, 184, 0, ...        0.292982  \n",
       "3  [[24, 14, 8, 4, 16, 11, 13], [37, 41, 28, 11, ...        0.179532  \n",
       "4  [[2, 7, 8, 2, 55, 13, 3], [0, 22, 13, 13, 113,...        0.271345  "
      ]
     },
     "execution_count": 10,
     "metadata": {},
     "output_type": "execute_result"
    }
   ],
   "source": [
    "include_nfl_features_params = [True, False]\n",
    "bin_ouput_params = [True, False]\n",
    "\n",
    "results_df = pd.DataFrame(columns = ['model', 'regression/classification', 'train_time',\n",
    "                                                'MSE pre-bin', 'r2_score',\n",
    "                                                'bin_output', 'include_nfl_features',\n",
    "                                                'f1_score','confusion_matrix', 'accuracy_score'])\n",
    "\n",
    "regression_models = [LinearRegression, Lasso, Ridge, ElasticNet, SVR, RandomForestRegressor, AdaBoostRegressor]\n",
    "classification_models = [LogisticRegression, Perceptron, SVC, GaussianNB, RandomForestClassifier, AdaBoostClassifier]\n",
    "\n",
    "for include_nfl_features in include_nfl_features_params:\n",
    "    for bin_output in bin_ouput_params: \n",
    "        # Prepreocessing \n",
    "        plays_df_clean = preprocess_plays_df_naive_models(plays_df, games_df, include_nfl_features, bin_output)\n",
    "\n",
    "        # Train test split\n",
    "        X_train, X_test, y_train, y_test = plays_train_test_split(plays_df_clean)\n",
    "\n",
    "        # Check if we need to do regression first\n",
    "        if not bin_output:\n",
    "            for model_class in regression_models:\n",
    "                # Train model\n",
    "                model = model_class()\n",
    "                print(\"training \" + type(model).__name__)\n",
    "\n",
    "                start_time = time.time()\n",
    "                model.fit(X_train, y_train)\n",
    "                train_time = time.time() - start_time\n",
    "\n",
    "                # Make predictions\n",
    "                y_pred = model.predict(X_test)\n",
    "\n",
    "                # Get accuracy\n",
    "                mse = mean_squared_error(y_test, y_pred)\n",
    "                r2 = r2_score(y_test, y_pred)\n",
    "\n",
    "                # Bin both and get post-binned metrics\n",
    "                bins = [float('-inf'), -2, 0, 1, 2.5, 5, 10, float('inf')]\n",
    "                y_pred_binned = pd.cut(y_pred, bins = bins, labels = range(len(bins) - 1))\n",
    "                y_test_binned = pd.cut(y_test, bins = bins, labels = range(len(bins) - 1))\n",
    "\n",
    "                f1_metric = f1_score(y_test_binned, y_pred_binned, average = 'weighted')\n",
    "                confusion_mat = confusion_matrix(y_test_binned, y_pred_binned)\n",
    "                accuracy = accuracy_score(y_test_binned, y_pred_binned)\n",
    "\n",
    "                # Record result\n",
    "                new_row = pd.DataFrame({\n",
    "                    'model': [type(model).__name__],\n",
    "                    'regression/classification': ['classification'], \n",
    "                    'train_time': [train_time],\n",
    "                    'MSE pre-bin': [mse], \n",
    "                    'r2_score': [r2],\n",
    "                    'bin_output': [bin_output], \n",
    "                    'include_nfl_features': [include_nfl_features],\n",
    "                    'f1_score': [f1_metric],\n",
    "                    'confusion_matrix': [confusion_mat], \n",
    "                    'accuracy_score': [accuracy]\n",
    "                })\n",
    "                results_df = pd.concat([results_df, new_row], ignore_index=True)\n",
    "\n",
    "        else:\n",
    "            for model_class in classification_models:\n",
    "                # Train model\n",
    "                model = model_class()\n",
    "                print(\"training \" + type(model).__name__)\n",
    "\n",
    "                start_time = time.time()\n",
    "                model.fit(X_train, y_train)\n",
    "                train_time = time.time() - start_time\n",
    "\n",
    "                # Make predictions\n",
    "                y_pred = model.predict(X_test)\n",
    "\n",
    "                # Get accuracy metrics\n",
    "                f1_metric = f1_score(y_test, y_pred, average = 'weighted')\n",
    "                confusion_mat = confusion_matrix(y_test, y_pred)\n",
    "                accuracy = accuracy_score(y_test, y_pred)\n",
    "\n",
    "                # Record result\n",
    "                new_row = pd.DataFrame({\n",
    "                    'model': [type(model).__name__],\n",
    "                    'regression/classification': ['classification'], \n",
    "                    'train_time': [train_time],\n",
    "                    'MSE pre-bin': [np.nan], \n",
    "                    'r2_score': [np.nan],\n",
    "                    'bin_output': [bin_output], \n",
    "                    'include_nfl_features': [include_nfl_features],\n",
    "                    'f1_score': [f1_metric],\n",
    "                    'confusion_matrix': [confusion_mat], \n",
    "                    'accuracy_score': [accuracy]\n",
    "                })\n",
    "                results_df = pd.concat([results_df, new_row], ignore_index=True)\n",
    "\n",
    "\n",
    "results_df.head()"
   ]
  },
  {
   "cell_type": "markdown",
   "metadata": {},
   "source": [
    "## Step 3: Get best model"
   ]
  },
  {
   "cell_type": "code",
   "execution_count": 12,
   "metadata": {},
   "outputs": [
    {
     "data": {
      "text/html": [
       "<div>\n",
       "<style scoped>\n",
       "    .dataframe tbody tr th:only-of-type {\n",
       "        vertical-align: middle;\n",
       "    }\n",
       "\n",
       "    .dataframe tbody tr th {\n",
       "        vertical-align: top;\n",
       "    }\n",
       "\n",
       "    .dataframe thead th {\n",
       "        text-align: right;\n",
       "    }\n",
       "</style>\n",
       "<table border=\"1\" class=\"dataframe\">\n",
       "  <thead>\n",
       "    <tr style=\"text-align: right;\">\n",
       "      <th></th>\n",
       "      <th>model</th>\n",
       "      <th>regression/classification</th>\n",
       "      <th>train_time</th>\n",
       "      <th>MSE pre-bin</th>\n",
       "      <th>r2_score</th>\n",
       "      <th>bin_output</th>\n",
       "      <th>include_nfl_features</th>\n",
       "      <th>f1_score</th>\n",
       "      <th>confusion_matrix</th>\n",
       "      <th>accuracy_score</th>\n",
       "    </tr>\n",
       "  </thead>\n",
       "  <tbody>\n",
       "    <tr>\n",
       "      <th>17</th>\n",
       "      <td>RandomForestClassifier</td>\n",
       "      <td>classification</td>\n",
       "      <td>1.948296</td>\n",
       "      <td>NaN</td>\n",
       "      <td>NaN</td>\n",
       "      <td>True</td>\n",
       "      <td>False</td>\n",
       "      <td>0.218807</td>\n",
       "      <td>[[3, 6, 8, 5, 53, 12, 3], [1, 21, 16, 18, 98, ...</td>\n",
       "      <td>0.265497</td>\n",
       "    </tr>\n",
       "    <tr>\n",
       "      <th>18</th>\n",
       "      <td>AdaBoostClassifier</td>\n",
       "      <td>classification</td>\n",
       "      <td>0.825116</td>\n",
       "      <td>NaN</td>\n",
       "      <td>NaN</td>\n",
       "      <td>True</td>\n",
       "      <td>False</td>\n",
       "      <td>0.217713</td>\n",
       "      <td>[[1, 7, 7, 3, 64, 7, 1], [0, 18, 14, 7, 131, 1...</td>\n",
       "      <td>0.296491</td>\n",
       "    </tr>\n",
       "    <tr>\n",
       "      <th>4</th>\n",
       "      <td>RandomForestClassifier</td>\n",
       "      <td>classification</td>\n",
       "      <td>2.083192</td>\n",
       "      <td>NaN</td>\n",
       "      <td>NaN</td>\n",
       "      <td>True</td>\n",
       "      <td>True</td>\n",
       "      <td>0.214815</td>\n",
       "      <td>[[2, 7, 8, 2, 55, 13, 3], [0, 22, 13, 13, 113,...</td>\n",
       "      <td>0.271345</td>\n",
       "    </tr>\n",
       "    <tr>\n",
       "      <th>5</th>\n",
       "      <td>AdaBoostClassifier</td>\n",
       "      <td>classification</td>\n",
       "      <td>0.953678</td>\n",
       "      <td>NaN</td>\n",
       "      <td>NaN</td>\n",
       "      <td>True</td>\n",
       "      <td>True</td>\n",
       "      <td>0.213334</td>\n",
       "      <td>[[1, 8, 2, 2, 69, 6, 2], [0, 19, 11, 7, 136, 1...</td>\n",
       "      <td>0.298246</td>\n",
       "    </tr>\n",
       "    <tr>\n",
       "      <th>24</th>\n",
       "      <td>RandomForestRegressor</td>\n",
       "      <td>classification</td>\n",
       "      <td>15.790036</td>\n",
       "      <td>4.646909e+01</td>\n",
       "      <td>-9.044223e-02</td>\n",
       "      <td>False</td>\n",
       "      <td>False</td>\n",
       "      <td>0.211944</td>\n",
       "      <td>[[0, 0, 2, 6, 52, 30, 0], [0, 1, 10, 17, 102, ...</td>\n",
       "      <td>0.269006</td>\n",
       "    </tr>\n",
       "    <tr>\n",
       "      <th>11</th>\n",
       "      <td>RandomForestRegressor</td>\n",
       "      <td>classification</td>\n",
       "      <td>18.688377</td>\n",
       "      <td>4.429121e+01</td>\n",
       "      <td>-3.933626e-02</td>\n",
       "      <td>False</td>\n",
       "      <td>True</td>\n",
       "      <td>0.211279</td>\n",
       "      <td>[[0, 1, 4, 4, 52, 29, 0], [0, 1, 10, 16, 98, 5...</td>\n",
       "      <td>0.273684</td>\n",
       "    </tr>\n",
       "    <tr>\n",
       "      <th>6</th>\n",
       "      <td>LinearRegression</td>\n",
       "      <td>classification</td>\n",
       "      <td>0.123169</td>\n",
       "      <td>6.190857e+13</td>\n",
       "      <td>-1.452745e+12</td>\n",
       "      <td>False</td>\n",
       "      <td>True</td>\n",
       "      <td>0.209398</td>\n",
       "      <td>[[1, 2, 4, 7, 46, 28, 2], [3, 2, 3, 25, 88, 61...</td>\n",
       "      <td>0.269591</td>\n",
       "    </tr>\n",
       "    <tr>\n",
       "      <th>8</th>\n",
       "      <td>Ridge</td>\n",
       "      <td>classification</td>\n",
       "      <td>0.040088</td>\n",
       "      <td>4.236483e+01</td>\n",
       "      <td>5.868126e-03</td>\n",
       "      <td>False</td>\n",
       "      <td>True</td>\n",
       "      <td>0.205164</td>\n",
       "      <td>[[0, 2, 4, 3, 52, 29, 0], [1, 2, 2, 25, 89, 64...</td>\n",
       "      <td>0.268421</td>\n",
       "    </tr>\n",
       "    <tr>\n",
       "      <th>19</th>\n",
       "      <td>LinearRegression</td>\n",
       "      <td>classification</td>\n",
       "      <td>0.116761</td>\n",
       "      <td>4.461528e+12</td>\n",
       "      <td>-1.046941e+11</td>\n",
       "      <td>False</td>\n",
       "      <td>False</td>\n",
       "      <td>0.193943</td>\n",
       "      <td>[[0, 1, 3, 8, 43, 32, 3], [3, 2, 2, 19, 103, 5...</td>\n",
       "      <td>0.255556</td>\n",
       "    </tr>\n",
       "    <tr>\n",
       "      <th>21</th>\n",
       "      <td>Ridge</td>\n",
       "      <td>classification</td>\n",
       "      <td>0.037083</td>\n",
       "      <td>4.283058e+01</td>\n",
       "      <td>-5.061226e-03</td>\n",
       "      <td>False</td>\n",
       "      <td>False</td>\n",
       "      <td>0.191236</td>\n",
       "      <td>[[0, 1, 4, 7, 45, 33, 0], [0, 3, 0, 20, 102, 5...</td>\n",
       "      <td>0.254386</td>\n",
       "    </tr>\n",
       "    <tr>\n",
       "      <th>3</th>\n",
       "      <td>GaussianNB</td>\n",
       "      <td>classification</td>\n",
       "      <td>0.034382</td>\n",
       "      <td>NaN</td>\n",
       "      <td>NaN</td>\n",
       "      <td>True</td>\n",
       "      <td>True</td>\n",
       "      <td>0.183787</td>\n",
       "      <td>[[24, 14, 8, 4, 16, 11, 13], [37, 41, 28, 11, ...</td>\n",
       "      <td>0.179532</td>\n",
       "    </tr>\n",
       "    <tr>\n",
       "      <th>16</th>\n",
       "      <td>GaussianNB</td>\n",
       "      <td>classification</td>\n",
       "      <td>0.034820</td>\n",
       "      <td>NaN</td>\n",
       "      <td>NaN</td>\n",
       "      <td>True</td>\n",
       "      <td>False</td>\n",
       "      <td>0.176455</td>\n",
       "      <td>[[23, 13, 8, 5, 15, 12, 14], [37, 38, 28, 11, ...</td>\n",
       "      <td>0.171930</td>\n",
       "    </tr>\n",
       "    <tr>\n",
       "      <th>9</th>\n",
       "      <td>ElasticNet</td>\n",
       "      <td>classification</td>\n",
       "      <td>0.033307</td>\n",
       "      <td>4.186152e+01</td>\n",
       "      <td>1.767875e-02</td>\n",
       "      <td>False</td>\n",
       "      <td>True</td>\n",
       "      <td>0.172279</td>\n",
       "      <td>[[0, 0, 0, 0, 58, 32, 0], [0, 0, 0, 0, 125, 59...</td>\n",
       "      <td>0.263158</td>\n",
       "    </tr>\n",
       "    <tr>\n",
       "      <th>7</th>\n",
       "      <td>Lasso</td>\n",
       "      <td>classification</td>\n",
       "      <td>0.034585</td>\n",
       "      <td>4.219983e+01</td>\n",
       "      <td>9.740051e-03</td>\n",
       "      <td>False</td>\n",
       "      <td>True</td>\n",
       "      <td>0.171351</td>\n",
       "      <td>[[0, 0, 0, 0, 61, 29, 0], [0, 0, 0, 0, 125, 59...</td>\n",
       "      <td>0.264912</td>\n",
       "    </tr>\n",
       "    <tr>\n",
       "      <th>22</th>\n",
       "      <td>ElasticNet</td>\n",
       "      <td>classification</td>\n",
       "      <td>0.035021</td>\n",
       "      <td>4.216492e+01</td>\n",
       "      <td>1.055918e-02</td>\n",
       "      <td>False</td>\n",
       "      <td>False</td>\n",
       "      <td>0.170147</td>\n",
       "      <td>[[0, 0, 0, 0, 56, 34, 0], [0, 0, 0, 0, 113, 71...</td>\n",
       "      <td>0.258480</td>\n",
       "    </tr>\n",
       "    <tr>\n",
       "      <th>20</th>\n",
       "      <td>Lasso</td>\n",
       "      <td>classification</td>\n",
       "      <td>0.032539</td>\n",
       "      <td>4.227143e+01</td>\n",
       "      <td>8.059950e-03</td>\n",
       "      <td>False</td>\n",
       "      <td>False</td>\n",
       "      <td>0.169616</td>\n",
       "      <td>[[0, 0, 0, 0, 59, 31, 0], [0, 0, 0, 0, 123, 61...</td>\n",
       "      <td>0.261404</td>\n",
       "    </tr>\n",
       "    <tr>\n",
       "      <th>23</th>\n",
       "      <td>SVR</td>\n",
       "      <td>classification</td>\n",
       "      <td>5.613181</td>\n",
       "      <td>4.559748e+01</td>\n",
       "      <td>-6.998910e-02</td>\n",
       "      <td>False</td>\n",
       "      <td>False</td>\n",
       "      <td>0.132776</td>\n",
       "      <td>[[0, 0, 0, 0, 90, 0, 0], [0, 0, 0, 0, 184, 0, ...</td>\n",
       "      <td>0.292982</td>\n",
       "    </tr>\n",
       "    <tr>\n",
       "      <th>0</th>\n",
       "      <td>LogisticRegression</td>\n",
       "      <td>classification</td>\n",
       "      <td>0.621485</td>\n",
       "      <td>NaN</td>\n",
       "      <td>NaN</td>\n",
       "      <td>True</td>\n",
       "      <td>True</td>\n",
       "      <td>0.132776</td>\n",
       "      <td>[[0, 0, 0, 0, 90, 0, 0], [0, 0, 0, 0, 184, 0, ...</td>\n",
       "      <td>0.292982</td>\n",
       "    </tr>\n",
       "    <tr>\n",
       "      <th>13</th>\n",
       "      <td>LogisticRegression</td>\n",
       "      <td>classification</td>\n",
       "      <td>0.542425</td>\n",
       "      <td>NaN</td>\n",
       "      <td>NaN</td>\n",
       "      <td>True</td>\n",
       "      <td>False</td>\n",
       "      <td>0.132776</td>\n",
       "      <td>[[0, 0, 0, 0, 90, 0, 0], [0, 0, 0, 0, 184, 0, ...</td>\n",
       "      <td>0.292982</td>\n",
       "    </tr>\n",
       "    <tr>\n",
       "      <th>15</th>\n",
       "      <td>SVC</td>\n",
       "      <td>classification</td>\n",
       "      <td>6.961571</td>\n",
       "      <td>NaN</td>\n",
       "      <td>NaN</td>\n",
       "      <td>True</td>\n",
       "      <td>False</td>\n",
       "      <td>0.132776</td>\n",
       "      <td>[[0, 0, 0, 0, 90, 0, 0], [0, 0, 0, 0, 184, 0, ...</td>\n",
       "      <td>0.292982</td>\n",
       "    </tr>\n",
       "    <tr>\n",
       "      <th>14</th>\n",
       "      <td>Perceptron</td>\n",
       "      <td>classification</td>\n",
       "      <td>0.385539</td>\n",
       "      <td>NaN</td>\n",
       "      <td>NaN</td>\n",
       "      <td>True</td>\n",
       "      <td>False</td>\n",
       "      <td>0.132776</td>\n",
       "      <td>[[0, 0, 0, 0, 90, 0, 0], [0, 0, 0, 0, 184, 0, ...</td>\n",
       "      <td>0.292982</td>\n",
       "    </tr>\n",
       "    <tr>\n",
       "      <th>1</th>\n",
       "      <td>Perceptron</td>\n",
       "      <td>classification</td>\n",
       "      <td>0.353455</td>\n",
       "      <td>NaN</td>\n",
       "      <td>NaN</td>\n",
       "      <td>True</td>\n",
       "      <td>True</td>\n",
       "      <td>0.132776</td>\n",
       "      <td>[[0, 0, 0, 0, 90, 0, 0], [0, 0, 0, 0, 184, 0, ...</td>\n",
       "      <td>0.292982</td>\n",
       "    </tr>\n",
       "    <tr>\n",
       "      <th>10</th>\n",
       "      <td>SVR</td>\n",
       "      <td>classification</td>\n",
       "      <td>5.758644</td>\n",
       "      <td>4.559832e+01</td>\n",
       "      <td>-7.000893e-02</td>\n",
       "      <td>False</td>\n",
       "      <td>True</td>\n",
       "      <td>0.132776</td>\n",
       "      <td>[[0, 0, 0, 0, 90, 0, 0], [0, 0, 0, 0, 184, 0, ...</td>\n",
       "      <td>0.292982</td>\n",
       "    </tr>\n",
       "    <tr>\n",
       "      <th>2</th>\n",
       "      <td>SVC</td>\n",
       "      <td>classification</td>\n",
       "      <td>7.149053</td>\n",
       "      <td>NaN</td>\n",
       "      <td>NaN</td>\n",
       "      <td>True</td>\n",
       "      <td>True</td>\n",
       "      <td>0.132776</td>\n",
       "      <td>[[0, 0, 0, 0, 90, 0, 0], [0, 0, 0, 0, 184, 0, ...</td>\n",
       "      <td>0.292982</td>\n",
       "    </tr>\n",
       "    <tr>\n",
       "      <th>12</th>\n",
       "      <td>AdaBoostRegressor</td>\n",
       "      <td>classification</td>\n",
       "      <td>1.237303</td>\n",
       "      <td>1.234490e+02</td>\n",
       "      <td>-1.896851e+00</td>\n",
       "      <td>False</td>\n",
       "      <td>True</td>\n",
       "      <td>0.107161</td>\n",
       "      <td>[[0, 0, 0, 0, 11, 39, 40], [0, 0, 0, 0, 23, 88...</td>\n",
       "      <td>0.172515</td>\n",
       "    </tr>\n",
       "    <tr>\n",
       "      <th>25</th>\n",
       "      <td>AdaBoostRegressor</td>\n",
       "      <td>classification</td>\n",
       "      <td>2.461646</td>\n",
       "      <td>2.756007e+02</td>\n",
       "      <td>-5.467239e+00</td>\n",
       "      <td>False</td>\n",
       "      <td>False</td>\n",
       "      <td>0.025085</td>\n",
       "      <td>[[0, 0, 0, 0, 1, 4, 85], [0, 0, 0, 0, 2, 14, 1...</td>\n",
       "      <td>0.116959</td>\n",
       "    </tr>\n",
       "  </tbody>\n",
       "</table>\n",
       "</div>"
      ],
      "text/plain": [
       "                     model regression/classification  train_time  \\\n",
       "17  RandomForestClassifier            classification    1.948296   \n",
       "18      AdaBoostClassifier            classification    0.825116   \n",
       "4   RandomForestClassifier            classification    2.083192   \n",
       "5       AdaBoostClassifier            classification    0.953678   \n",
       "24   RandomForestRegressor            classification   15.790036   \n",
       "11   RandomForestRegressor            classification   18.688377   \n",
       "6         LinearRegression            classification    0.123169   \n",
       "8                    Ridge            classification    0.040088   \n",
       "19        LinearRegression            classification    0.116761   \n",
       "21                   Ridge            classification    0.037083   \n",
       "3               GaussianNB            classification    0.034382   \n",
       "16              GaussianNB            classification    0.034820   \n",
       "9               ElasticNet            classification    0.033307   \n",
       "7                    Lasso            classification    0.034585   \n",
       "22              ElasticNet            classification    0.035021   \n",
       "20                   Lasso            classification    0.032539   \n",
       "23                     SVR            classification    5.613181   \n",
       "0       LogisticRegression            classification    0.621485   \n",
       "13      LogisticRegression            classification    0.542425   \n",
       "15                     SVC            classification    6.961571   \n",
       "14              Perceptron            classification    0.385539   \n",
       "1               Perceptron            classification    0.353455   \n",
       "10                     SVR            classification    5.758644   \n",
       "2                      SVC            classification    7.149053   \n",
       "12       AdaBoostRegressor            classification    1.237303   \n",
       "25       AdaBoostRegressor            classification    2.461646   \n",
       "\n",
       "     MSE pre-bin      r2_score bin_output include_nfl_features  f1_score  \\\n",
       "17           NaN           NaN       True                False  0.218807   \n",
       "18           NaN           NaN       True                False  0.217713   \n",
       "4            NaN           NaN       True                 True  0.214815   \n",
       "5            NaN           NaN       True                 True  0.213334   \n",
       "24  4.646909e+01 -9.044223e-02      False                False  0.211944   \n",
       "11  4.429121e+01 -3.933626e-02      False                 True  0.211279   \n",
       "6   6.190857e+13 -1.452745e+12      False                 True  0.209398   \n",
       "8   4.236483e+01  5.868126e-03      False                 True  0.205164   \n",
       "19  4.461528e+12 -1.046941e+11      False                False  0.193943   \n",
       "21  4.283058e+01 -5.061226e-03      False                False  0.191236   \n",
       "3            NaN           NaN       True                 True  0.183787   \n",
       "16           NaN           NaN       True                False  0.176455   \n",
       "9   4.186152e+01  1.767875e-02      False                 True  0.172279   \n",
       "7   4.219983e+01  9.740051e-03      False                 True  0.171351   \n",
       "22  4.216492e+01  1.055918e-02      False                False  0.170147   \n",
       "20  4.227143e+01  8.059950e-03      False                False  0.169616   \n",
       "23  4.559748e+01 -6.998910e-02      False                False  0.132776   \n",
       "0            NaN           NaN       True                 True  0.132776   \n",
       "13           NaN           NaN       True                False  0.132776   \n",
       "15           NaN           NaN       True                False  0.132776   \n",
       "14           NaN           NaN       True                False  0.132776   \n",
       "1            NaN           NaN       True                 True  0.132776   \n",
       "10  4.559832e+01 -7.000893e-02      False                 True  0.132776   \n",
       "2            NaN           NaN       True                 True  0.132776   \n",
       "12  1.234490e+02 -1.896851e+00      False                 True  0.107161   \n",
       "25  2.756007e+02 -5.467239e+00      False                False  0.025085   \n",
       "\n",
       "                                     confusion_matrix  accuracy_score  \n",
       "17  [[3, 6, 8, 5, 53, 12, 3], [1, 21, 16, 18, 98, ...        0.265497  \n",
       "18  [[1, 7, 7, 3, 64, 7, 1], [0, 18, 14, 7, 131, 1...        0.296491  \n",
       "4   [[2, 7, 8, 2, 55, 13, 3], [0, 22, 13, 13, 113,...        0.271345  \n",
       "5   [[1, 8, 2, 2, 69, 6, 2], [0, 19, 11, 7, 136, 1...        0.298246  \n",
       "24  [[0, 0, 2, 6, 52, 30, 0], [0, 1, 10, 17, 102, ...        0.269006  \n",
       "11  [[0, 1, 4, 4, 52, 29, 0], [0, 1, 10, 16, 98, 5...        0.273684  \n",
       "6   [[1, 2, 4, 7, 46, 28, 2], [3, 2, 3, 25, 88, 61...        0.269591  \n",
       "8   [[0, 2, 4, 3, 52, 29, 0], [1, 2, 2, 25, 89, 64...        0.268421  \n",
       "19  [[0, 1, 3, 8, 43, 32, 3], [3, 2, 2, 19, 103, 5...        0.255556  \n",
       "21  [[0, 1, 4, 7, 45, 33, 0], [0, 3, 0, 20, 102, 5...        0.254386  \n",
       "3   [[24, 14, 8, 4, 16, 11, 13], [37, 41, 28, 11, ...        0.179532  \n",
       "16  [[23, 13, 8, 5, 15, 12, 14], [37, 38, 28, 11, ...        0.171930  \n",
       "9   [[0, 0, 0, 0, 58, 32, 0], [0, 0, 0, 0, 125, 59...        0.263158  \n",
       "7   [[0, 0, 0, 0, 61, 29, 0], [0, 0, 0, 0, 125, 59...        0.264912  \n",
       "22  [[0, 0, 0, 0, 56, 34, 0], [0, 0, 0, 0, 113, 71...        0.258480  \n",
       "20  [[0, 0, 0, 0, 59, 31, 0], [0, 0, 0, 0, 123, 61...        0.261404  \n",
       "23  [[0, 0, 0, 0, 90, 0, 0], [0, 0, 0, 0, 184, 0, ...        0.292982  \n",
       "0   [[0, 0, 0, 0, 90, 0, 0], [0, 0, 0, 0, 184, 0, ...        0.292982  \n",
       "13  [[0, 0, 0, 0, 90, 0, 0], [0, 0, 0, 0, 184, 0, ...        0.292982  \n",
       "15  [[0, 0, 0, 0, 90, 0, 0], [0, 0, 0, 0, 184, 0, ...        0.292982  \n",
       "14  [[0, 0, 0, 0, 90, 0, 0], [0, 0, 0, 0, 184, 0, ...        0.292982  \n",
       "1   [[0, 0, 0, 0, 90, 0, 0], [0, 0, 0, 0, 184, 0, ...        0.292982  \n",
       "10  [[0, 0, 0, 0, 90, 0, 0], [0, 0, 0, 0, 184, 0, ...        0.292982  \n",
       "2   [[0, 0, 0, 0, 90, 0, 0], [0, 0, 0, 0, 184, 0, ...        0.292982  \n",
       "12  [[0, 0, 0, 0, 11, 39, 40], [0, 0, 0, 0, 23, 88...        0.172515  \n",
       "25  [[0, 0, 0, 0, 1, 4, 85], [0, 0, 0, 0, 2, 14, 1...        0.116959  "
      ]
     },
     "execution_count": 12,
     "metadata": {},
     "output_type": "execute_result"
    }
   ],
   "source": [
    "results_df.sort_values(by = 'f1_score', ascending = False)"
   ]
  },
  {
   "cell_type": "code",
   "execution_count": null,
   "metadata": {},
   "outputs": [],
   "source": []
  },
  {
   "cell_type": "markdown",
   "metadata": {},
   "source": [
    "## Depreciated - run through on one dataset/model"
   ]
  },
  {
   "cell_type": "code",
   "execution_count": null,
   "metadata": {},
   "outputs": [],
   "source": [
    "# Get X and y matrices\n",
    "y = plays_df_clean[\"TARGET\"]\n",
    "X = plays_df_clean.drop([\"TARGET\"], axis = 1)"
   ]
  },
  {
   "cell_type": "code",
   "execution_count": null,
   "metadata": {},
   "outputs": [
    {
     "name": "stdout",
     "output_type": "stream",
     "text": [
      "X_train shape :  (5127, 348)\n",
      "y_train shape :  (5127,)\n",
      "X_test shape  :  (1710, 348)\n",
      "y_test shape  :  (1710,)\n"
     ]
    }
   ],
   "source": [
    "X_train, X_test, y_train, y_test = train_test_split(X, y, test_size=0.25, random_state=24)\n",
    "\n",
    "print('X_train shape : ', X_train.shape)\n",
    "print('y_train shape : ', y_train.shape)\n",
    "\n",
    "print('X_test shape  : ', X_test.shape)\n",
    "print('y_test shape  : ', y_test.shape)"
   ]
  },
  {
   "cell_type": "code",
   "execution_count": null,
   "metadata": {},
   "outputs": [
    {
     "name": "stdout",
     "output_type": "stream",
     "text": [
      "training time: 15.882904052734375\n"
     ]
    }
   ],
   "source": [
    "start_time = time.time()\n",
    "model = RandomForestRegressor()\n",
    "model.fit(X = X_train, y = y_train)\n",
    "print(\"training time: \" + str(time.time() - start_time))"
   ]
  },
  {
   "cell_type": "code",
   "execution_count": null,
   "metadata": {},
   "outputs": [
    {
     "data": {
      "text/plain": [
       "'RandomForestRegressor'"
      ]
     },
     "metadata": {},
     "output_type": "display_data"
    }
   ],
   "source": [
    "type(model).__name__"
   ]
  },
  {
   "cell_type": "code",
   "execution_count": null,
   "metadata": {},
   "outputs": [],
   "source": [
    "y_pred = model.predict(X_test)"
   ]
  },
  {
   "cell_type": "code",
   "execution_count": null,
   "metadata": {},
   "outputs": [
    {
     "name": "stdout",
     "output_type": "stream",
     "text": [
      "MSE: \n",
      "45.21479333333333\n"
     ]
    }
   ],
   "source": [
    "print(\"MSE: \\n\" + str(mean_squared_error(y_test, y_pred)))"
   ]
  },
  {
   "cell_type": "code",
   "execution_count": null,
   "metadata": {},
   "outputs": [],
   "source": [
    "bins = [float('-inf'), -2, 0, 1, 2.5, 5, 10, float('inf')]\n",
    "y_pred_binned = pd.cut(y_pred, bins = bins, labels = range(len(bins) - 1))\n",
    "y_test_binned = pd.cut(y_test, bins = bins, labels = range(len(bins) - 1))"
   ]
  },
  {
   "cell_type": "code",
   "execution_count": null,
   "metadata": {},
   "outputs": [
    {
     "name": "stdout",
     "output_type": "stream",
     "text": [
      "Confusion matrix: \n",
      "[[  0   0   2   7  48  32   1]\n",
      " [  0   2  12  16 103  47   4]\n",
      " [  0   3  12  19  92  50   9]\n",
      " [  0   2   4  18 136  58   7]\n",
      " [  0   0   0  29 292 164  16]\n",
      " [  0   0   0  10 165 139  11]\n",
      " [  0   0   0   8  95  87  10]]\n",
      "F1 score: 0.216\n",
      "Accuracy score: 0.277\n"
     ]
    }
   ],
   "source": [
    "print(\"Confusion matrix: \\n\" + str(confusion_matrix(y_test_binned, y_pred_binned)))\n",
    "print(\"F1 score: \" + str(round(f1_score(y_test_binned, y_pred_binned, average='weighted'), 3)))\n",
    "print(\"Accuracy score: \" + str(round(accuracy_score(y_test_binned, y_pred_binned), 3)))"
   ]
  }
 ],
 "metadata": {
  "kernelspec": {
   "display_name": "Python 3",
   "language": "python",
   "name": "python3"
  },
  "language_info": {
   "codemirror_mode": {
    "name": "ipython",
    "version": 3
   },
   "file_extension": ".py",
   "mimetype": "text/x-python",
   "name": "python",
   "nbconvert_exporter": "python",
   "pygments_lexer": "ipython3",
   "version": "3.10.1"
  }
 },
 "nbformat": 4,
 "nbformat_minor": 2
}
