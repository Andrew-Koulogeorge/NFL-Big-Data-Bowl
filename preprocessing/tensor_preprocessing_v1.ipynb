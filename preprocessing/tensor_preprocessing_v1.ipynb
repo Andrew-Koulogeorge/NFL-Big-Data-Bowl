{
 "cells": [
  {
   "cell_type": "markdown",
   "metadata": {},
   "source": [
    "# Preprocessing to get tensors for all observations"
   ]
  },
  {
   "cell_type": "markdown",
   "metadata": {},
   "source": [
    "## Import libraries"
   ]
  },
  {
   "cell_type": "code",
   "execution_count": 58,
   "metadata": {},
   "outputs": [],
   "source": [
    "import numpy as np\n",
    "import pandas as pd\n",
    "import torch\n",
    "from Preprocessing_v2 import *\n",
    "from DataLoader import load_data"
   ]
  },
  {
   "cell_type": "markdown",
   "metadata": {},
   "source": [
    "## Step 0: Load and Preprocess data"
   ]
  },
  {
   "cell_type": "code",
   "execution_count": 59,
   "metadata": {},
   "outputs": [
    {
     "name": "stdout",
     "output_type": "stream",
     "text": [
      "loaded games df\n",
      "shape: (136, 9)\n",
      "-----\n",
      "loaded players df\n",
      "shape: (1683, 7)\n",
      "-----\n",
      "loaded plays df\n",
      "shape: (12486, 35)\n",
      "-----\n",
      "loading tracking frames...\n"
     ]
    }
   ],
   "source": [
    "# Load data\n",
    "[games_df, players_df, plays_df, tracking_df] = load_data()"
   ]
  },
  {
   "cell_type": "code",
   "execution_count": null,
   "metadata": {},
   "outputs": [
    {
     "name": "stdout",
     "output_type": "stream",
     "text": [
      "cleaning plays_df\n",
      "final plays data shape: (6840, 289)\n",
      "-----\n",
      "\n",
      "cleaning games_df\n",
      "-----\n",
      "\n",
      "cleaning players_df\n",
      "-----\n",
      "\n",
      "cleaning tracking_df\n",
      "original tracking df shape: (12187398, 17)\n",
      "unique play and game id combos: (6840, 2)\n",
      "filtered df shape: (8458178, 17)\n",
      "number of merge errors: 0\n",
      "joined plays and tracking dataframes\n",
      "original tracking shape: (8458178, 17)\n",
      "merged data shape: (8458178, 304)\n",
      "-------\n",
      "joined players and tracking dataframes\n",
      "original tracking shape: (8458178, 304)\n",
      "merged data shape: (8458178, 306)\n",
      "-------\n",
      "joined games and tracking dataframes\n",
      "original tracking shape: (8458178, 306)\n",
      "merged data shape: (8458178, 307)\n",
      "-------\n",
      "Old df shape:(8458178, 346)\n",
      "New df shape:(8458178, 346)\n",
      "-----\n",
      "\n"
     ]
    }
   ],
   "source": [
    "# Preprocess data\n",
    "tracking_df_clean = preprocess_all_df(plays_df, games_df, players_df, tracking_df)"
   ]
  },
  {
   "cell_type": "markdown",
   "metadata": {},
   "source": [
    "## Step 1: Filter observations by frame cutoff at handoff/run event"
   ]
  },
  {
   "cell_type": "markdown",
   "metadata": {},
   "source": [
    "### 1A) Get Frame cutoffs"
   ]
  },
  {
   "cell_type": "code",
   "execution_count": null,
   "metadata": {},
   "outputs": [
    {
     "data": {
      "text/html": [
       "<div>\n",
       "<style scoped>\n",
       "    .dataframe tbody tr th:only-of-type {\n",
       "        vertical-align: middle;\n",
       "    }\n",
       "\n",
       "    .dataframe tbody tr th {\n",
       "        vertical-align: top;\n",
       "    }\n",
       "\n",
       "    .dataframe thead th {\n",
       "        text-align: right;\n",
       "    }\n",
       "</style>\n",
       "<table border=\"1\" class=\"dataframe\">\n",
       "  <thead>\n",
       "    <tr style=\"text-align: right;\">\n",
       "      <th></th>\n",
       "      <th>gameId</th>\n",
       "      <th>playId</th>\n",
       "      <th>frame_cutoff</th>\n",
       "    </tr>\n",
       "  </thead>\n",
       "  <tbody>\n",
       "    <tr>\n",
       "      <th>5</th>\n",
       "      <td>2022090800</td>\n",
       "      <td>80</td>\n",
       "      <td>6</td>\n",
       "    </tr>\n",
       "    <tr>\n",
       "      <th>708</th>\n",
       "      <td>2022090800</td>\n",
       "      <td>101</td>\n",
       "      <td>19</td>\n",
       "    </tr>\n",
       "    <tr>\n",
       "      <th>1838</th>\n",
       "      <td>2022090800</td>\n",
       "      <td>146</td>\n",
       "      <td>22</td>\n",
       "    </tr>\n",
       "    <tr>\n",
       "      <th>3122</th>\n",
       "      <td>2022090800</td>\n",
       "      <td>191</td>\n",
       "      <td>18</td>\n",
       "    </tr>\n",
       "    <tr>\n",
       "      <th>4296</th>\n",
       "      <td>2022090800</td>\n",
       "      <td>299</td>\n",
       "      <td>19</td>\n",
       "    </tr>\n",
       "    <tr>\n",
       "      <th>...</th>\n",
       "      <td>...</td>\n",
       "      <td>...</td>\n",
       "      <td>...</td>\n",
       "    </tr>\n",
       "    <tr>\n",
       "      <th>8451732</th>\n",
       "      <td>2022110700</td>\n",
       "      <td>3630</td>\n",
       "      <td>18</td>\n",
       "    </tr>\n",
       "    <tr>\n",
       "      <th>8453136</th>\n",
       "      <td>2022110700</td>\n",
       "      <td>3686</td>\n",
       "      <td>19</td>\n",
       "    </tr>\n",
       "    <tr>\n",
       "      <th>8454884</th>\n",
       "      <td>2022110700</td>\n",
       "      <td>3707</td>\n",
       "      <td>19</td>\n",
       "    </tr>\n",
       "    <tr>\n",
       "      <th>8456220</th>\n",
       "      <td>2022110700</td>\n",
       "      <td>3740</td>\n",
       "      <td>21</td>\n",
       "    </tr>\n",
       "    <tr>\n",
       "      <th>8457180</th>\n",
       "      <td>2022110700</td>\n",
       "      <td>3787</td>\n",
       "      <td>15</td>\n",
       "    </tr>\n",
       "  </tbody>\n",
       "</table>\n",
       "<p>6794 rows × 3 columns</p>\n",
       "</div>"
      ],
      "text/plain": [
       "             gameId  playId  frame_cutoff\n",
       "5        2022090800      80             6\n",
       "708      2022090800     101            19\n",
       "1838     2022090800     146            22\n",
       "3122     2022090800     191            18\n",
       "4296     2022090800     299            19\n",
       "...             ...     ...           ...\n",
       "8451732  2022110700    3630            18\n",
       "8453136  2022110700    3686            19\n",
       "8454884  2022110700    3707            19\n",
       "8456220  2022110700    3740            21\n",
       "8457180  2022110700    3787            15\n",
       "\n",
       "[6794 rows x 3 columns]"
      ]
     },
     "execution_count": 37,
     "metadata": {},
     "output_type": "execute_result"
    }
   ],
   "source": [
    "# Filter for pre-handoff events \n",
    "\n",
    "# Step 1: Get the frames where handoff or run occurs \n",
    "frame_cutoffs = tracking_df_clean[(tracking_df_clean['event'] == 'run') | (tracking_df_clean['event'] == 'handoff')][['gameId', 'playId', 'frameId']].drop_duplicates()\n",
    "\n",
    "# Step 2: Handle duplicate handoffs \n",
    "\n",
    "# # Option A: Keep the final handoff event\n",
    "# frame_cutoffs = frame_cutoffs.loc[frame_cutoffs.groupby(['gameId', 'playId'])['frameId'].idxmax()]  # keeps the max frame with a duplicate\n",
    "\n",
    "# Option B: Drop duplicate handoff plays\n",
    "frame_cutoffs = frame_cutoffs.drop_duplicates(subset=['gameId', 'playId'], keep=False)\n",
    "\n",
    "# Step 3: Rename cutoff column\n",
    "frame_cutoffs = frame_cutoffs.rename(columns = {'frameId':'frame_cutoff'})\n",
    "frame_cutoffs"
   ]
  },
  {
   "cell_type": "code",
   "execution_count": null,
   "metadata": {},
   "outputs": [
    {
     "data": {
      "text/plain": [
       "count    6794.000000\n",
       "mean       17.944215\n",
       "std         4.214998\n",
       "min         6.000000\n",
       "25%        17.000000\n",
       "50%        19.000000\n",
       "75%        20.000000\n",
       "max        49.000000\n",
       "Name: frame_cutoff, dtype: float64"
      ]
     },
     "execution_count": 38,
     "metadata": {},
     "output_type": "execute_result"
    }
   ],
   "source": [
    "frame_cutoffs['frame_cutoff'].describe()"
   ]
  },
  {
   "cell_type": "markdown",
   "metadata": {},
   "source": [
    "### 1B) Filter tracking_df at cutoffs"
   ]
  },
  {
   "cell_type": "code",
   "execution_count": null,
   "metadata": {},
   "outputs": [
    {
     "name": "stdout",
     "output_type": "stream",
     "text": [
      "shape before filter: (8392214, 337)\n",
      "shape after filter: (2802745, 337)\n"
     ]
    }
   ],
   "source": [
    "# Step 4: Merge cutoffs with the original dataframe \n",
    "tracking_df_clean = pd.merge(tracking_df_clean, frame_cutoffs, on=['gameId', 'playId'])\n",
    "\n",
    "# Step 5: Filter tracking data before cutoff\n",
    "print(\"shape before filter: \" + str(tracking_df_clean.shape))\n",
    "tracking_df_clean = tracking_df_clean[tracking_df_clean['frameId'] <= tracking_df_clean['frame_cutoff']]\n",
    "print(\"shape after filter: \" + str(tracking_df_clean.shape))"
   ]
  },
  {
   "cell_type": "markdown",
   "metadata": {},
   "source": [
    "## Step 2: Build tensors for all frames"
   ]
  },
  {
   "cell_type": "markdown",
   "metadata": {},
   "source": [
    "### 2A) Set up df and helper functions"
   ]
  },
  {
   "cell_type": "code",
   "execution_count": null,
   "metadata": {},
   "outputs": [],
   "source": [
    "tensor_df = pd.DataFrame(columns = ['gameId', 'playId', 'frameId', 'frame_cutoff', 'field_tensor'])"
   ]
  },
  {
   "cell_type": "code",
   "execution_count": null,
   "metadata": {},
   "outputs": [],
   "source": [
    "def is_out_of_bounds(x, y):\n",
    "    i = int(x)\n",
    "    j = int(y)\n",
    "    return i < 0 or i > 119 or j < 0 or j > 53"
   ]
  },
  {
   "cell_type": "code",
   "execution_count": null,
   "metadata": {},
   "outputs": [],
   "source": [
    "# Get max s, a, height, weight for normalization\n",
    "max_a = tracking_df_clean['a'].max()\n",
    "max_s = tracking_df_clean['s'].max()\n",
    "max_height = tracking_df_clean['heightInches'].max()   \n",
    "max_weight = tracking_df_clean['weight'].max()  "
   ]
  },
  {
   "cell_type": "code",
   "execution_count": null,
   "metadata": {},
   "outputs": [],
   "source": [
    "# Helper function taht builds a tensor for a frame of tracking data\n",
    "def build_tensor(single_frame_data, max_s = max_s, max_a = max_a, max_height = max_height, max_weight = max_weight):\n",
    "    # STEP 0: Create a blank matrix\n",
    "    image = np.zeros((120, 54, 22))\n",
    "\n",
    "    # STEP 1: Record ball location before looping through players in Channel 1\n",
    "    i = int(single_frame_data[single_frame_data['nflId'].isnull()]['X_std'])\n",
    "    j = int(single_frame_data[single_frame_data['nflId'].isnull()]['Y_std'])\n",
    "    # Make sure ball is inbounds \n",
    "    if not is_out_of_bounds(i, j):\n",
    "        image[i, j, 1] = 1\n",
    "\n",
    "    # STEP 2: Drop football from dataframe\n",
    "    single_frame_data = single_frame_data.dropna(subset=['nflId'])\n",
    "\n",
    "    # STEP 3: Populate player channels, person by person\n",
    "    total_num_players_checked_on_field = 0\n",
    "    num_players = np.zeros((120, 54, 4))  # Depth 0 is offense channel Depth 1 is defense, depth 2 is home, depth 3 is away\n",
    "    temp_values = {}   # holds temporary values for calculating variances (0 = s, 1 = a, 2 = h, 3 = w)\n",
    "\n",
    "    for _, row in single_frame_data.iterrows():\n",
    "        # Keep track of x and y locations of player (matrix indices)\n",
    "        i = int(row['X_std'])\n",
    "        j = int(row['Y_std'])\n",
    "        \n",
    "        # Make sure player is in the frame \n",
    "        if is_out_of_bounds(i, j):\n",
    "            continue\n",
    "\n",
    "        # Update total number of players checked\n",
    "        total_num_players_checked_on_field += 1\n",
    "\n",
    "        # Channel 0: Record position of this player\n",
    "        image[i, j, 0] = (image[i, j, 0] * 22 + 1) / 22\n",
    "\n",
    "        # Keep track of people on offense and defense\n",
    "        if row['isOnOffense'] == 1:\n",
    "            num_players[i, j, 0] += 1  # record offensive player\n",
    "        else: \n",
    "            num_players[i, j, 1] += 1  # record defensive player\n",
    "        total_players_in_cell = num_players[i, j, 0] + num_players[i, j, 1]\n",
    "        \n",
    "        # Channel 2: % offensive players in this cell\n",
    "        # Channel 3: Record defensive player ratio\n",
    "        image[i, j, 2] = num_players[i, j, 0] / (num_players[i, j, 0] + num_players[i, j, 1])  # calculate % offensive players at this cell\n",
    "        image[i, j, 3] = num_players[i, j, 1] / (num_players[i, j, 0] + num_players[i, j, 1])  # calculate % offensive players at this cell\n",
    "\n",
    "        # Channel 4: Velocity (average, standardized 0-1)\n",
    "        image[i, j, 4] = (image[i, j, 4] * (total_players_in_cell - 1) + row['s'] / max_s) / total_players_in_cell\n",
    "\n",
    "        # Store continuous variables so we can calculate variances at the end\n",
    "        if (i, j) not in temp_values.keys():\n",
    "            temp_values[(i, j)] = {'s': [],\n",
    "                                'a': [],\n",
    "                                'heightInches':[],\n",
    "                                'weight': [],\n",
    "                                'offense_dir': [],\n",
    "                                'defense_dir': [],\n",
    "                                'offense_o': [],\n",
    "                                'defense_o': []}\n",
    "        temp_values[(i, j)]['s'] += [row['s'] / max_s]  # Channel 5: Velocity (variance, standardized 0-1)\n",
    "        temp_values[(i, j)]['a'] += [row['a'] / max_a]  # Channel 7: Acceleration (variance, standardized 0-1)\n",
    "        temp_values[(i, j)]['heightInches'] += [row['heightInches'] / max_height]  # Channel 9: Height (variance, standardized 0-1)\n",
    "        temp_values[(i, j)]['weight'] += [row['weight'] / max_weight]  # Channel 11: Weight (variance, standardized 0-1)\n",
    "        \n",
    "        # Channel 6: Acceleration (average, standardized 0-1)\n",
    "        image[i, j, 6] = (image[i, j, 6] * (total_players_in_cell - 1) + row['a'] / max_a) / total_players_in_cell\n",
    "        \n",
    "\n",
    "        # Store offense/defense o and dir variables for later\n",
    "        if row['Dir_std'] == 0:\n",
    "            dir = 360\n",
    "        else:\n",
    "            dir = row['Dir_std']\n",
    "        if row['O_std'] == 0:\n",
    "            o = 360\n",
    "        else:\n",
    "            o = row['O_std']\n",
    "\n",
    "        if row['isOnOffense']:\n",
    "            temp_values[(i,j)]['offense_dir'] += [dir / 360]\n",
    "            temp_values[(i,j)]['offense_o'] += [o / 360]\n",
    "        else:\n",
    "            temp_values[(i,j)]['defense_dir'] += [dir / 360]\n",
    "            temp_values[(i,j)]['defense_o'] += [o / 360]\n",
    "\n",
    "        # Channel 16: Height (average, standardized 0-1)\n",
    "        image[i, j, 16] = (image[i, j, 16] * (total_players_in_cell - 1) + row['heightInches'] / max_height) / total_players_in_cell\n",
    "        \n",
    "        # Channel 18: Weight (average, standardized 0-1)\n",
    "        image[i, j, 18] = (image[i, j, 18] * (total_players_in_cell - 1) + row['weight'] / max_weight) / total_players_in_cell\n",
    "\n",
    "        # Keep track of people home and away\n",
    "        if row['isHomeTeam'] == 1:\n",
    "            num_players[i, j, 2] += 1  # record home team player\n",
    "        else: \n",
    "            num_players[i, j, 3] += 1  # record away team player\n",
    "        # Update channels\n",
    "\n",
    "        # Channel 20: % home team in this cell\n",
    "        # Channel 21: % away team in this cell\n",
    "        image[i, j, 20] = num_players[i, j, 2] / total_players_in_cell  # calculate % home team players at this cell\n",
    "        image[i, j, 21] = num_players[i, j, 3] / total_players_in_cell  # calculate % away team players at this cell\n",
    "\n",
    "    # Compute variances \n",
    "    for (i, j) in temp_values.keys():\n",
    "        # Get sample size:\n",
    "        n = len(temp_values[(i,j)]['s'])\n",
    "\n",
    "        # Channel 5: Speed (variance, standardized 0-1)\n",
    "        image[i, j, 5] = np.var(temp_values[(i,j)]['s'], ddof = 1) if n > 1 else 0\n",
    "\n",
    "        # Channel 7: Acceleration (variance, standardized 0-1)\n",
    "        image[i, j, 7] = np.var(temp_values[(i,j)]['a'], ddof = 1) if n > 1 else 0\n",
    "\n",
    "        # Channel 8: Offense dir angle (average, standardized 0-1)\n",
    "        image[i, j, 8] = np.mean(temp_values[(i,j)]['offense_dir'])\n",
    "\n",
    "        # Channel 9: Offense dir angle (variance, standardized 0-1)\n",
    "        n_o = len(temp_values[(i,j)]['offense_dir'])  # keep track of # people on offense\n",
    "        image[i, j, 9] = np.var(temp_values[(i,j)]['offense_dir'], ddof = 1) if n_o > 1 else 0\n",
    "\n",
    "        # Channel 10: Defense dir angle (average, standardized 0-1)\n",
    "        image[i, j, 10] = np.mean(temp_values[(i,j)]['defense_dir'])\n",
    "\n",
    "        # Channel 11: Defense dir angle (variance, standardized 0-1)\n",
    "        n_d = len(temp_values[(i,j)]['defense_dir'])  # keep track of # people on defense\n",
    "        image[i, j, 11] = np.var(temp_values[(i,j)]['defense_dir'], ddof = 1) if n_d > 1 else 0\n",
    "\n",
    "        # Channel 12: Offense o angle (average, standardized 0-1)\n",
    "        image[i, j, 12] = np.mean(temp_values[(i,j)]['offense_o'])\n",
    "\n",
    "        # Channel 13: Offense o angle (variance, standardized 0-1)\n",
    "        image[i, j, 13] = np.var(temp_values[(i,j)]['offense_o'], ddof = 1) if n_o > 1 else 0\n",
    "\n",
    "        # Channel 14: Defense 0 angle (average, standardized 0-1)\n",
    "        image[i, j, 14] = np.mean(temp_values[(i,j)]['defense_o'])\n",
    "\n",
    "        # Channel 15: Defense o angle (variance, standardized 0-1)\n",
    "        image[i, j, 15] = np.var(temp_values[(i,j)]['defense_o'], ddof = 1) if n_d > 1 else 0\n",
    "\n",
    "        # Channel 17: Height (variance, standardized 0-1)\n",
    "        image[i, j, 17] = np.var(temp_values[(i,j)]['heightInches'], ddof = 1) if n > 1 else 0\n",
    "        \n",
    "        # Channel 19: Weight (variance, standardized 0-1)\n",
    "        image[i, j, 19] = np.var(temp_values[(i,j)]['weight'], ddof = 1) if n > 1 else 0\n",
    "        \n",
    "        # 22. PFF rating?\n",
    "    \n",
    "    # Convert matrix to a tensor\n",
    "    tensor = torch.from_numpy(image)\n",
    "    return tensor"
   ]
  },
  {
   "cell_type": "markdown",
   "metadata": {},
   "source": [
    "### 2B) Create tensors"
   ]
  },
  {
   "cell_type": "code",
   "execution_count": null,
   "metadata": {},
   "outputs": [
    {
     "ename": "KeyboardInterrupt",
     "evalue": "",
     "output_type": "error",
     "traceback": [
      "\u001b[0;31m---------------------------------------------------------------------------\u001b[0m",
      "\u001b[0;31mKeyboardInterrupt\u001b[0m                         Traceback (most recent call last)",
      "\u001b[1;32m/Users/jackfriedman/Documents/CS89 Final Project 2/NFL-Big-Data-Bowl/preprocessing/tensor_preprocessing_v1.ipynb Cell 20\u001b[0m line \u001b[0;36m6\n\u001b[1;32m      <a href='vscode-notebook-cell:/Users/jackfriedman/Documents/CS89%20Final%20Project%202/NFL-Big-Data-Bowl/preprocessing/tensor_preprocessing_v1.ipynb#X24sZmlsZQ%3D%3D?line=3'>4</a>\u001b[0m \u001b[39m# Loop through every play\u001b[39;00m\n\u001b[1;32m      <a href='vscode-notebook-cell:/Users/jackfriedman/Documents/CS89%20Final%20Project%202/NFL-Big-Data-Bowl/preprocessing/tensor_preprocessing_v1.ipynb#X24sZmlsZQ%3D%3D?line=4'>5</a>\u001b[0m play_groups \u001b[39m=\u001b[39m tracking_df_clean\u001b[39m.\u001b[39mgroupby([\u001b[39m'\u001b[39m\u001b[39mgameId\u001b[39m\u001b[39m'\u001b[39m, \u001b[39m'\u001b[39m\u001b[39mplayId\u001b[39m\u001b[39m'\u001b[39m])\n\u001b[0;32m----> <a href='vscode-notebook-cell:/Users/jackfriedman/Documents/CS89%20Final%20Project%202/NFL-Big-Data-Bowl/preprocessing/tensor_preprocessing_v1.ipynb#X24sZmlsZQ%3D%3D?line=5'>6</a>\u001b[0m \u001b[39mfor\u001b[39;00m (game_id, play_id), group_df \u001b[39min\u001b[39;00m play_groups:\n\u001b[1;32m      <a href='vscode-notebook-cell:/Users/jackfriedman/Documents/CS89%20Final%20Project%202/NFL-Big-Data-Bowl/preprocessing/tensor_preprocessing_v1.ipynb#X24sZmlsZQ%3D%3D?line=6'>7</a>\u001b[0m \n\u001b[1;32m      <a href='vscode-notebook-cell:/Users/jackfriedman/Documents/CS89%20Final%20Project%202/NFL-Big-Data-Bowl/preprocessing/tensor_preprocessing_v1.ipynb#X24sZmlsZQ%3D%3D?line=7'>8</a>\u001b[0m     \u001b[39m# Loop through every frame in that play\u001b[39;00m\n\u001b[1;32m      <a href='vscode-notebook-cell:/Users/jackfriedman/Documents/CS89%20Final%20Project%202/NFL-Big-Data-Bowl/preprocessing/tensor_preprocessing_v1.ipynb#X24sZmlsZQ%3D%3D?line=8'>9</a>\u001b[0m     frame_groups \u001b[39m=\u001b[39m group_df\u001b[39m.\u001b[39mgroupby([\u001b[39m'\u001b[39m\u001b[39mframeId\u001b[39m\u001b[39m'\u001b[39m])\n\u001b[1;32m     <a href='vscode-notebook-cell:/Users/jackfriedman/Documents/CS89%20Final%20Project%202/NFL-Big-Data-Bowl/preprocessing/tensor_preprocessing_v1.ipynb#X24sZmlsZQ%3D%3D?line=9'>10</a>\u001b[0m     \u001b[39mfor\u001b[39;00m frame_id, frame_df \u001b[39min\u001b[39;00m frame_groups:\n\u001b[1;32m     <a href='vscode-notebook-cell:/Users/jackfriedman/Documents/CS89%20Final%20Project%202/NFL-Big-Data-Bowl/preprocessing/tensor_preprocessing_v1.ipynb#X24sZmlsZQ%3D%3D?line=10'>11</a>\u001b[0m         \u001b[39m# Build tensor for that frame\u001b[39;00m\n",
      "File \u001b[0;32m/Library/Frameworks/Python.framework/Versions/3.10/lib/python3.10/site-packages/pandas/core/groupby/ops.py:790\u001b[0m, in \u001b[0;36mBaseGrouper.get_iterator\u001b[0;34m(self, data, axis)\u001b[0m\n\u001b[1;32m    788\u001b[0m splitter \u001b[39m=\u001b[39m \u001b[39mself\u001b[39m\u001b[39m.\u001b[39m_get_splitter(data, axis\u001b[39m=\u001b[39maxis)\n\u001b[1;32m    789\u001b[0m keys \u001b[39m=\u001b[39m \u001b[39mself\u001b[39m\u001b[39m.\u001b[39mgroup_keys_seq\n\u001b[0;32m--> 790\u001b[0m \u001b[39myield from\u001b[39;00m \u001b[39mzip\u001b[39m(keys, splitter)\n",
      "File \u001b[0;32m/Library/Frameworks/Python.framework/Versions/3.10/lib/python3.10/site-packages/pandas/core/groupby/ops.py:1322\u001b[0m, in \u001b[0;36mDataSplitter.__iter__\u001b[0;34m(self)\u001b[0m\n\u001b[1;32m   1321\u001b[0m \u001b[39mdef\u001b[39;00m \u001b[39m__iter__\u001b[39m(\u001b[39mself\u001b[39m):\n\u001b[0;32m-> 1322\u001b[0m     sdata \u001b[39m=\u001b[39m \u001b[39mself\u001b[39;49m\u001b[39m.\u001b[39;49msorted_data\n\u001b[1;32m   1324\u001b[0m     \u001b[39mif\u001b[39;00m \u001b[39mself\u001b[39m\u001b[39m.\u001b[39mngroups \u001b[39m==\u001b[39m \u001b[39m0\u001b[39m:\n\u001b[1;32m   1325\u001b[0m         \u001b[39m# we are inside a generator, rather than raise StopIteration\u001b[39;00m\n\u001b[1;32m   1326\u001b[0m         \u001b[39m# we merely return signal the end\u001b[39;00m\n\u001b[1;32m   1327\u001b[0m         \u001b[39mreturn\u001b[39;00m\n",
      "File \u001b[0;32m/Library/Frameworks/Python.framework/Versions/3.10/lib/python3.10/site-packages/pandas/_libs/properties.pyx:36\u001b[0m, in \u001b[0;36mpandas._libs.properties.CachedProperty.__get__\u001b[0;34m()\u001b[0m\n",
      "File \u001b[0;32m/Library/Frameworks/Python.framework/Versions/3.10/lib/python3.10/site-packages/pandas/core/groupby/ops.py:1336\u001b[0m, in \u001b[0;36mDataSplitter.sorted_data\u001b[0;34m(self)\u001b[0m\n\u001b[1;32m   1334\u001b[0m \u001b[39m@cache_readonly\u001b[39m\n\u001b[1;32m   1335\u001b[0m \u001b[39mdef\u001b[39;00m \u001b[39msorted_data\u001b[39m(\u001b[39mself\u001b[39m) \u001b[39m-\u001b[39m\u001b[39m>\u001b[39m NDFrameT:\n\u001b[0;32m-> 1336\u001b[0m     \u001b[39mreturn\u001b[39;00m \u001b[39mself\u001b[39;49m\u001b[39m.\u001b[39;49mdata\u001b[39m.\u001b[39;49mtake(\u001b[39mself\u001b[39;49m\u001b[39m.\u001b[39;49m_sort_idx, axis\u001b[39m=\u001b[39;49m\u001b[39mself\u001b[39;49m\u001b[39m.\u001b[39;49maxis)\n",
      "File \u001b[0;32m/Library/Frameworks/Python.framework/Versions/3.10/lib/python3.10/site-packages/pandas/core/generic.py:3871\u001b[0m, in \u001b[0;36mNDFrame.take\u001b[0;34m(self, indices, axis, is_copy, **kwargs)\u001b[0m\n\u001b[1;32m   3862\u001b[0m     warnings\u001b[39m.\u001b[39mwarn(\n\u001b[1;32m   3863\u001b[0m         \u001b[39m\"\u001b[39m\u001b[39mis_copy is deprecated and will be removed in a future version. \u001b[39m\u001b[39m\"\u001b[39m\n\u001b[1;32m   3864\u001b[0m         \u001b[39m\"\u001b[39m\u001b[39m'\u001b[39m\u001b[39mtake\u001b[39m\u001b[39m'\u001b[39m\u001b[39m always returns a copy, so there is no need to specify this.\u001b[39m\u001b[39m\"\u001b[39m,\n\u001b[1;32m   3865\u001b[0m         \u001b[39mFutureWarning\u001b[39;00m,\n\u001b[1;32m   3866\u001b[0m         stacklevel\u001b[39m=\u001b[39mfind_stack_level(),\n\u001b[1;32m   3867\u001b[0m     )\n\u001b[1;32m   3869\u001b[0m nv\u001b[39m.\u001b[39mvalidate_take((), kwargs)\n\u001b[0;32m-> 3871\u001b[0m \u001b[39mreturn\u001b[39;00m \u001b[39mself\u001b[39;49m\u001b[39m.\u001b[39;49m_take(indices, axis)\n",
      "File \u001b[0;32m/Library/Frameworks/Python.framework/Versions/3.10/lib/python3.10/site-packages/pandas/core/generic.py:3886\u001b[0m, in \u001b[0;36mNDFrame._take\u001b[0;34m(self, indices, axis, convert_indices)\u001b[0m\n\u001b[1;32m   3879\u001b[0m \u001b[39m\u001b[39m\u001b[39m\"\"\"\u001b[39;00m\n\u001b[1;32m   3880\u001b[0m \u001b[39mInternal version of the `take` allowing specification of additional args.\u001b[39;00m\n\u001b[1;32m   3881\u001b[0m \n\u001b[1;32m   3882\u001b[0m \u001b[39mSee the docstring of `take` for full explanation of the parameters.\u001b[39;00m\n\u001b[1;32m   3883\u001b[0m \u001b[39m\"\"\"\u001b[39;00m\n\u001b[1;32m   3884\u001b[0m \u001b[39mself\u001b[39m\u001b[39m.\u001b[39m_consolidate_inplace()\n\u001b[0;32m-> 3886\u001b[0m new_data \u001b[39m=\u001b[39m \u001b[39mself\u001b[39;49m\u001b[39m.\u001b[39;49m_mgr\u001b[39m.\u001b[39;49mtake(\n\u001b[1;32m   3887\u001b[0m     indices,\n\u001b[1;32m   3888\u001b[0m     axis\u001b[39m=\u001b[39;49m\u001b[39mself\u001b[39;49m\u001b[39m.\u001b[39;49m_get_block_manager_axis(axis),\n\u001b[1;32m   3889\u001b[0m     verify\u001b[39m=\u001b[39;49m\u001b[39mTrue\u001b[39;49;00m,\n\u001b[1;32m   3890\u001b[0m     convert_indices\u001b[39m=\u001b[39;49mconvert_indices,\n\u001b[1;32m   3891\u001b[0m )\n\u001b[1;32m   3892\u001b[0m \u001b[39mreturn\u001b[39;00m \u001b[39mself\u001b[39m\u001b[39m.\u001b[39m_constructor(new_data)\u001b[39m.\u001b[39m__finalize__(\u001b[39mself\u001b[39m, method\u001b[39m=\u001b[39m\u001b[39m\"\u001b[39m\u001b[39mtake\u001b[39m\u001b[39m\"\u001b[39m)\n",
      "File \u001b[0;32m/Library/Frameworks/Python.framework/Versions/3.10/lib/python3.10/site-packages/pandas/core/internals/managers.py:978\u001b[0m, in \u001b[0;36mBaseBlockManager.take\u001b[0;34m(self, indexer, axis, verify, convert_indices)\u001b[0m\n\u001b[1;32m    975\u001b[0m     indexer \u001b[39m=\u001b[39m maybe_convert_indices(indexer, n, verify\u001b[39m=\u001b[39mverify)\n\u001b[1;32m    977\u001b[0m new_labels \u001b[39m=\u001b[39m \u001b[39mself\u001b[39m\u001b[39m.\u001b[39maxes[axis]\u001b[39m.\u001b[39mtake(indexer)\n\u001b[0;32m--> 978\u001b[0m \u001b[39mreturn\u001b[39;00m \u001b[39mself\u001b[39;49m\u001b[39m.\u001b[39;49mreindex_indexer(\n\u001b[1;32m    979\u001b[0m     new_axis\u001b[39m=\u001b[39;49mnew_labels,\n\u001b[1;32m    980\u001b[0m     indexer\u001b[39m=\u001b[39;49mindexer,\n\u001b[1;32m    981\u001b[0m     axis\u001b[39m=\u001b[39;49maxis,\n\u001b[1;32m    982\u001b[0m     allow_dups\u001b[39m=\u001b[39;49m\u001b[39mTrue\u001b[39;49;00m,\n\u001b[1;32m    983\u001b[0m     copy\u001b[39m=\u001b[39;49m\u001b[39mNone\u001b[39;49;00m,\n\u001b[1;32m    984\u001b[0m )\n",
      "File \u001b[0;32m/Library/Frameworks/Python.framework/Versions/3.10/lib/python3.10/site-packages/pandas/core/internals/managers.py:751\u001b[0m, in \u001b[0;36mBaseBlockManager.reindex_indexer\u001b[0;34m(self, new_axis, indexer, axis, fill_value, allow_dups, copy, only_slice, use_na_proxy)\u001b[0m\n\u001b[1;32m    749\u001b[0m     parent \u001b[39m=\u001b[39m \u001b[39mNone\u001b[39;00m \u001b[39mif\u001b[39;00m com\u001b[39m.\u001b[39mall_none(\u001b[39m*\u001b[39mnew_refs) \u001b[39melse\u001b[39;00m \u001b[39mself\u001b[39m\n\u001b[1;32m    750\u001b[0m \u001b[39melse\u001b[39;00m:\n\u001b[0;32m--> 751\u001b[0m     new_blocks \u001b[39m=\u001b[39m [\n\u001b[1;32m    752\u001b[0m         blk\u001b[39m.\u001b[39mtake_nd(\n\u001b[1;32m    753\u001b[0m             indexer,\n\u001b[1;32m    754\u001b[0m             axis\u001b[39m=\u001b[39m\u001b[39m1\u001b[39m,\n\u001b[1;32m    755\u001b[0m             fill_value\u001b[39m=\u001b[39m(\n\u001b[1;32m    756\u001b[0m                 fill_value \u001b[39mif\u001b[39;00m fill_value \u001b[39mis\u001b[39;00m \u001b[39mnot\u001b[39;00m \u001b[39mNone\u001b[39;00m \u001b[39melse\u001b[39;00m blk\u001b[39m.\u001b[39mfill_value\n\u001b[1;32m    757\u001b[0m             ),\n\u001b[1;32m    758\u001b[0m         )\n\u001b[1;32m    759\u001b[0m         \u001b[39mfor\u001b[39;00m blk \u001b[39min\u001b[39;00m \u001b[39mself\u001b[39m\u001b[39m.\u001b[39mblocks\n\u001b[1;32m    760\u001b[0m     ]\n\u001b[1;32m    761\u001b[0m     new_refs \u001b[39m=\u001b[39m \u001b[39mNone\u001b[39;00m\n\u001b[1;32m    762\u001b[0m     parent \u001b[39m=\u001b[39m \u001b[39mNone\u001b[39;00m\n",
      "File \u001b[0;32m/Library/Frameworks/Python.framework/Versions/3.10/lib/python3.10/site-packages/pandas/core/internals/managers.py:752\u001b[0m, in \u001b[0;36m<listcomp>\u001b[0;34m(.0)\u001b[0m\n\u001b[1;32m    749\u001b[0m     parent \u001b[39m=\u001b[39m \u001b[39mNone\u001b[39;00m \u001b[39mif\u001b[39;00m com\u001b[39m.\u001b[39mall_none(\u001b[39m*\u001b[39mnew_refs) \u001b[39melse\u001b[39;00m \u001b[39mself\u001b[39m\n\u001b[1;32m    750\u001b[0m \u001b[39melse\u001b[39;00m:\n\u001b[1;32m    751\u001b[0m     new_blocks \u001b[39m=\u001b[39m [\n\u001b[0;32m--> 752\u001b[0m         blk\u001b[39m.\u001b[39;49mtake_nd(\n\u001b[1;32m    753\u001b[0m             indexer,\n\u001b[1;32m    754\u001b[0m             axis\u001b[39m=\u001b[39;49m\u001b[39m1\u001b[39;49m,\n\u001b[1;32m    755\u001b[0m             fill_value\u001b[39m=\u001b[39;49m(\n\u001b[1;32m    756\u001b[0m                 fill_value \u001b[39mif\u001b[39;49;00m fill_value \u001b[39mis\u001b[39;49;00m \u001b[39mnot\u001b[39;49;00m \u001b[39mNone\u001b[39;49;00m \u001b[39melse\u001b[39;49;00m blk\u001b[39m.\u001b[39;49mfill_value\n\u001b[1;32m    757\u001b[0m             ),\n\u001b[1;32m    758\u001b[0m         )\n\u001b[1;32m    759\u001b[0m         \u001b[39mfor\u001b[39;00m blk \u001b[39min\u001b[39;00m \u001b[39mself\u001b[39m\u001b[39m.\u001b[39mblocks\n\u001b[1;32m    760\u001b[0m     ]\n\u001b[1;32m    761\u001b[0m     new_refs \u001b[39m=\u001b[39m \u001b[39mNone\u001b[39;00m\n\u001b[1;32m    762\u001b[0m     parent \u001b[39m=\u001b[39m \u001b[39mNone\u001b[39;00m\n",
      "File \u001b[0;32m/Library/Frameworks/Python.framework/Versions/3.10/lib/python3.10/site-packages/pandas/core/internals/blocks.py:880\u001b[0m, in \u001b[0;36mBlock.take_nd\u001b[0;34m(self, indexer, axis, new_mgr_locs, fill_value)\u001b[0m\n\u001b[1;32m    877\u001b[0m     allow_fill \u001b[39m=\u001b[39m \u001b[39mTrue\u001b[39;00m\n\u001b[1;32m    879\u001b[0m \u001b[39m# Note: algos.take_nd has upcast logic similar to coerce_to_target_dtype\u001b[39;00m\n\u001b[0;32m--> 880\u001b[0m new_values \u001b[39m=\u001b[39m algos\u001b[39m.\u001b[39;49mtake_nd(\n\u001b[1;32m    881\u001b[0m     values, indexer, axis\u001b[39m=\u001b[39;49maxis, allow_fill\u001b[39m=\u001b[39;49mallow_fill, fill_value\u001b[39m=\u001b[39;49mfill_value\n\u001b[1;32m    882\u001b[0m )\n\u001b[1;32m    884\u001b[0m \u001b[39m# Called from three places in managers, all of which satisfy\u001b[39;00m\n\u001b[1;32m    885\u001b[0m \u001b[39m#  this assertion\u001b[39;00m\n\u001b[1;32m    886\u001b[0m \u001b[39massert\u001b[39;00m \u001b[39mnot\u001b[39;00m (axis \u001b[39m==\u001b[39m \u001b[39m0\u001b[39m \u001b[39mand\u001b[39;00m new_mgr_locs \u001b[39mis\u001b[39;00m \u001b[39mNone\u001b[39;00m)\n",
      "File \u001b[0;32m/Library/Frameworks/Python.framework/Versions/3.10/lib/python3.10/site-packages/pandas/core/array_algos/take.py:117\u001b[0m, in \u001b[0;36mtake_nd\u001b[0;34m(arr, indexer, axis, fill_value, allow_fill)\u001b[0m\n\u001b[1;32m    114\u001b[0m     \u001b[39mreturn\u001b[39;00m arr\u001b[39m.\u001b[39mtake(indexer, fill_value\u001b[39m=\u001b[39mfill_value, allow_fill\u001b[39m=\u001b[39mallow_fill)\n\u001b[1;32m    116\u001b[0m arr \u001b[39m=\u001b[39m np\u001b[39m.\u001b[39masarray(arr)\n\u001b[0;32m--> 117\u001b[0m \u001b[39mreturn\u001b[39;00m _take_nd_ndarray(arr, indexer, axis, fill_value, allow_fill)\n",
      "File \u001b[0;32m/Library/Frameworks/Python.framework/Versions/3.10/lib/python3.10/site-packages/pandas/core/array_algos/take.py:163\u001b[0m, in \u001b[0;36m_take_nd_ndarray\u001b[0;34m(arr, indexer, axis, fill_value, allow_fill)\u001b[0m\n\u001b[1;32m    158\u001b[0m     out \u001b[39m=\u001b[39m np\u001b[39m.\u001b[39mempty(out_shape, dtype\u001b[39m=\u001b[39mdtype)\n\u001b[1;32m    160\u001b[0m func \u001b[39m=\u001b[39m _get_take_nd_function(\n\u001b[1;32m    161\u001b[0m     arr\u001b[39m.\u001b[39mndim, arr\u001b[39m.\u001b[39mdtype, out\u001b[39m.\u001b[39mdtype, axis\u001b[39m=\u001b[39maxis, mask_info\u001b[39m=\u001b[39mmask_info\n\u001b[1;32m    162\u001b[0m )\n\u001b[0;32m--> 163\u001b[0m func(arr, indexer, out, fill_value)\n\u001b[1;32m    165\u001b[0m \u001b[39mif\u001b[39;00m flip_order:\n\u001b[1;32m    166\u001b[0m     out \u001b[39m=\u001b[39m out\u001b[39m.\u001b[39mT\n",
      "\u001b[0;31mKeyboardInterrupt\u001b[0m: "
     ]
    }
   ],
   "source": [
    "# Hold in an array (faster than concatenating a df every row)\n",
    "tensor_rows = []\n",
    "\n",
    "# Loop through every play\n",
    "play_groups = tracking_df_clean.groupby(['gameId', 'playId'])\n",
    "for (game_id, play_id), group_df in play_groups:\n",
    "\n",
    "    # Loop through every frame in that play\n",
    "    frame_groups = group_df.groupby(['frameId'])\n",
    "    for frame_id, frame_df in frame_groups:\n",
    "        # Build tensor for that frame\n",
    "        tensor = build_tensor(frame_df)\n",
    "        \n",
    "        # Keep track of row\n",
    "        new_row = {\n",
    "            'gameId': [game_id], \n",
    "            'playId': [play_id], \n",
    "            'frameId': [frame_id], \n",
    "            'frame_cutoff': [frame_df['frame_cutoff'].iloc[0]], \n",
    "            'field_tensor': [tensor]\n",
    "        }\n",
    "        tensor_rows += [new_row]\n",
    "\n",
    "# Build dataframe\n",
    "tensor_df = pd.DataFrame(tensor_rows)\n",
    "tensor_df.head()"
   ]
  },
  {
   "cell_type": "code",
   "execution_count": 55,
   "metadata": {},
   "outputs": [
    {
     "data": {
      "text/plain": [
       "(121913, 5)"
      ]
     },
     "execution_count": 55,
     "metadata": {},
     "output_type": "execute_result"
    }
   ],
   "source": [
    "tensor_df.shape"
   ]
  }
 ],
 "metadata": {
  "kernelspec": {
   "display_name": "Python 3",
   "language": "python",
   "name": "python3"
  },
  "language_info": {
   "codemirror_mode": {
    "name": "ipython",
    "version": 3
   },
   "file_extension": ".py",
   "mimetype": "text/x-python",
   "name": "python",
   "nbconvert_exporter": "python",
   "pygments_lexer": "ipython3",
   "version": "3.10.1"
  }
 },
 "nbformat": 4,
 "nbformat_minor": 2
}
