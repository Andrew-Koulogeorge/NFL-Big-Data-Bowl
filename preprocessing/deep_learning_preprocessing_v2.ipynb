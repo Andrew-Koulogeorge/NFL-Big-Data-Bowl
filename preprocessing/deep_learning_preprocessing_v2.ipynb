{
 "cells": [
  {
   "cell_type": "markdown",
   "metadata": {},
   "source": [
    "# Deep Learning Preprocessing v2 \n",
    "\n",
    "__Author:__ Jack Friedman <br>\n",
    "__Date:__ 11/6/2023 <br>\n",
    "__Purpose:__ Playground for converting data into position image"
   ]
  },
  {
   "cell_type": "code",
   "execution_count": 1,
   "metadata": {},
   "outputs": [],
   "source": [
    "import numpy as np\n",
    "import pandas as pd\n",
    "import matplotlib.pyplot as plt\n",
    "from Preprocessing_v2 import *\n",
    "from DataLoader import load_data"
   ]
  },
  {
   "cell_type": "code",
   "execution_count": 2,
   "metadata": {},
   "outputs": [
    {
     "name": "stdout",
     "output_type": "stream",
     "text": [
      "loaded games df\n",
      "shape: (136, 9)\n",
      "-----\n",
      "loaded players df\n",
      "shape: (1683, 7)\n",
      "-----\n",
      "loaded plays df\n",
      "shape: (12486, 35)\n",
      "-----\n",
      "loading tracking frames...\n",
      "loaded tracking frames\n",
      "shape: (12187398, 17)\n",
      "returning 4 frames\n"
     ]
    }
   ],
   "source": [
    "# Load data\n",
    "[games_df, players_df, plays_df, tracking_df] = load_data()"
   ]
  },
  {
   "cell_type": "code",
   "execution_count": 3,
   "metadata": {},
   "outputs": [
    {
     "name": "stdout",
     "output_type": "stream",
     "text": [
      "cleaning plays_df\n",
      "final plays data shape: (6840, 289)\n",
      "-----\n",
      "\n",
      "cleaning games_df\n",
      "-----\n",
      "\n",
      "cleaning players_df\n",
      "-----\n",
      "\n",
      "cleaning tracking_df\n",
      "original tracking df shape: (12187398, 17)\n",
      "unique play and game id combos: (6840, 2)\n",
      "filtered df shape: (8458178, 17)\n",
      "number of merge errors: 0\n",
      "joined plays and tracking dataframes\n",
      "original tracking shape: (8458178, 17)\n",
      "merged data shape: (8458178, 304)\n",
      "-------\n",
      "joined players and tracking dataframes\n",
      "original tracking shape: (8458178, 304)\n",
      "merged data shape: (8458178, 306)\n",
      "-------\n",
      "joined games and tracking dataframes\n",
      "original tracking shape: (8458178, 306)\n",
      "merged data shape: (8458178, 307)\n",
      "-------\n",
      "Old df shape:(8458178, 314)\n",
      "New df shape:(8458178, 346)\n",
      "-----\n",
      "\n"
     ]
    }
   ],
   "source": [
    "tracking_df_clean = preprocess_all_df(plays_df, games_df, players_df, tracking_df)"
   ]
  },
  {
   "cell_type": "code",
   "execution_count": 8,
   "metadata": {},
   "outputs": [
    {
     "name": "stdout",
     "output_type": "stream",
     "text": [
      "count    8.458178e+06\n",
      "mean     6.164130e+01\n",
      "std      2.501609e+01\n",
      "min     -1.770000e+00\n",
      "25%      4.097000e+01\n",
      "50%      5.877000e+01\n",
      "75%      8.157000e+01\n",
      "max      1.229600e+02\n",
      "Name: X_std, dtype: float64\n",
      "count    8.458178e+06\n",
      "mean     2.683753e+01\n",
      "std      8.461925e+00\n",
      "min     -1.489000e+01\n",
      "25%      2.189000e+01\n",
      "50%      2.681333e+01\n",
      "75%      3.177000e+01\n",
      "max      5.972000e+01\n",
      "Name: Y_std, dtype: float64\n",
      "count    8.458178e+06\n",
      "mean     1.523117e+02\n",
      "std      1.023835e+02\n",
      "min      0.000000e+00\n",
      "25%      6.999000e+01\n",
      "50%      1.370200e+02\n",
      "75%      2.224200e+02\n",
      "max      3.600000e+02\n",
      "Name: Dir_std, dtype: float64\n",
      "count    8.458178e+06\n",
      "mean     1.682117e+02\n",
      "std      9.996620e+01\n",
      "min      0.000000e+00\n",
      "25%      8.673000e+01\n",
      "50%      1.502200e+02\n",
      "75%      2.617200e+02\n",
      "max      3.600000e+02\n",
      "Name: O_std, dtype: float64\n"
     ]
    }
   ],
   "source": [
    "for var in ['X_std', 'Y_std', 'Dir_std', 'O_std']:\n",
    "    print(tracking_df_clean[var].describe())"
   ]
  },
  {
   "cell_type": "code",
   "execution_count": 5,
   "metadata": {},
   "outputs": [
    {
     "data": {
      "text/plain": [
       "count    5.875467e+06\n",
       "mean     1.646713e+02\n",
       "std      1.009563e+02\n",
       "min      0.000000e+00\n",
       "25%      8.106000e+01\n",
       "50%      1.474900e+02\n",
       "75%      2.569200e+02\n",
       "max      3.600000e+02\n",
       "Name: o, dtype: float64"
      ]
     },
     "execution_count": 5,
     "metadata": {},
     "output_type": "execute_result"
    }
   ],
   "source": [
    "tracking_df[tracking_df['playDirection'] == 'right']['o'].describe()"
   ]
  },
  {
   "cell_type": "code",
   "execution_count": 6,
   "metadata": {},
   "outputs": [
    {
     "data": {
      "text/plain": [
       "count    8.458178e+06\n",
       "mean     2.683753e+01\n",
       "std      8.461925e+00\n",
       "min     -1.489000e+01\n",
       "25%      2.189000e+01\n",
       "50%      2.681333e+01\n",
       "75%      3.177000e+01\n",
       "max      5.972000e+01\n",
       "Name: Y_std, dtype: float64"
      ]
     },
     "execution_count": 6,
     "metadata": {},
     "output_type": "execute_result"
    }
   ],
   "source": [
    "tracking_df_clean['Y_std'].describe()"
   ]
  },
  {
   "cell_type": "code",
   "execution_count": 7,
   "metadata": {},
   "outputs": [
    {
     "data": {
      "text/html": [
       "<div>\n",
       "<style scoped>\n",
       "    .dataframe tbody tr th:only-of-type {\n",
       "        vertical-align: middle;\n",
       "    }\n",
       "\n",
       "    .dataframe tbody tr th {\n",
       "        vertical-align: top;\n",
       "    }\n",
       "\n",
       "    .dataframe thead th {\n",
       "        text-align: right;\n",
       "    }\n",
       "</style>\n",
       "<table border=\"1\" class=\"dataframe\">\n",
       "  <thead>\n",
       "    <tr style=\"text-align: right;\">\n",
       "      <th></th>\n",
       "      <th>0</th>\n",
       "    </tr>\n",
       "  </thead>\n",
       "  <tbody>\n",
       "    <tr>\n",
       "      <th>count</th>\n",
       "      <td>1.218740e+07</td>\n",
       "    </tr>\n",
       "    <tr>\n",
       "      <th>mean</th>\n",
       "      <td>2.675240e+01</td>\n",
       "    </tr>\n",
       "    <tr>\n",
       "      <th>std</th>\n",
       "      <td>9.429006e+00</td>\n",
       "    </tr>\n",
       "    <tr>\n",
       "      <th>min</th>\n",
       "      <td>-1.489000e+01</td>\n",
       "    </tr>\n",
       "    <tr>\n",
       "      <th>25%</th>\n",
       "      <td>2.136333e+01</td>\n",
       "    </tr>\n",
       "    <tr>\n",
       "      <th>50%</th>\n",
       "      <td>2.675333e+01</td>\n",
       "    </tr>\n",
       "    <tr>\n",
       "      <th>75%</th>\n",
       "      <td>3.215333e+01</td>\n",
       "    </tr>\n",
       "    <tr>\n",
       "      <th>max</th>\n",
       "      <td>5.972000e+01</td>\n",
       "    </tr>\n",
       "  </tbody>\n",
       "</table>\n",
       "</div>"
      ],
      "text/plain": [
       "                  0\n",
       "count  1.218740e+07\n",
       "mean   2.675240e+01\n",
       "std    9.429006e+00\n",
       "min   -1.489000e+01\n",
       "25%    2.136333e+01\n",
       "50%    2.675333e+01\n",
       "75%    3.215333e+01\n",
       "max    5.972000e+01"
      ]
     },
     "execution_count": 7,
     "metadata": {},
     "output_type": "execute_result"
    }
   ],
   "source": [
    "pd.DataFrame(np.where(tracking_df['playDirection'] == 'left', 160/3  - tracking_df['y'], tracking_df['y'])).describe()\n"
   ]
  },
  {
   "cell_type": "code",
   "execution_count": null,
   "metadata": {},
   "outputs": [],
   "source": []
  }
 ],
 "metadata": {
  "kernelspec": {
   "display_name": "Python 3",
   "language": "python",
   "name": "python3"
  },
  "language_info": {
   "codemirror_mode": {
    "name": "ipython",
    "version": 3
   },
   "file_extension": ".py",
   "mimetype": "text/x-python",
   "name": "python",
   "nbconvert_exporter": "python",
   "pygments_lexer": "ipython3",
   "version": "3.10.1"
  }
 },
 "nbformat": 4,
 "nbformat_minor": 2
}
