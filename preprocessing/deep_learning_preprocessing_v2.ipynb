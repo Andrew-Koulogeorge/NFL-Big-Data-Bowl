{
 "cells": [
  {
   "cell_type": "markdown",
   "metadata": {},
   "source": [
    "# Deep Learning Preprocessing v2 \n",
    "\n",
    "__Author:__ Jack Friedman <br>\n",
    "__Date:__ 11/6/2023 <br>\n",
    "__Purpose:__ Playground for converting data into position image"
   ]
  },
  {
   "cell_type": "code",
   "execution_count": 2,
   "metadata": {},
   "outputs": [],
   "source": [
    "import numpy as np\n",
    "import pandas as pd\n",
    "import matplotlib.pyplot as plt\n",
    "from Preprocessing_v2 import *\n",
    "from DataLoader import load_data"
   ]
  },
  {
   "cell_type": "code",
   "execution_count": 3,
   "metadata": {},
   "outputs": [
    {
     "name": "stdout",
     "output_type": "stream",
     "text": [
      "loaded games df\n",
      "shape: (136, 9)\n",
      "-----\n",
      "loaded players df\n",
      "shape: (1683, 7)\n",
      "-----\n",
      "loaded plays df\n",
      "shape: (12486, 35)\n",
      "-----\n",
      "loading tracking frames...\n",
      "loaded tracking frames\n",
      "shape: (12187398, 17)\n",
      "returning 4 frames\n"
     ]
    }
   ],
   "source": [
    "# Load data\n",
    "[games_df, players_df, plays_df, tracking_df] = load_data()"
   ]
  },
  {
   "cell_type": "code",
   "execution_count": 4,
   "metadata": {},
   "outputs": [
    {
     "name": "stdout",
     "output_type": "stream",
     "text": [
      "cleaning plays_df\n",
      "final plays data shape: (6840, 289)\n",
      "-----\n",
      "\n",
      "cleaning games_df\n",
      "-----\n",
      "\n",
      "cleaning players_df\n",
      "-----\n",
      "\n",
      "cleaning tracking_df\n",
      "original tracking df shape: (12187398, 17)\n",
      "unique play and game id combos: (6840, 2)\n",
      "filtered df shape: (8458178, 17)\n",
      "number of merge errors: 0\n",
      "joined plays and tracking dataframes\n",
      "original tracking shape: (8458178, 17)\n",
      "merged data shape: (8458178, 304)\n",
      "-------\n",
      "joined players and tracking dataframes\n",
      "original tracking shape: (8458178, 304)\n",
      "merged data shape: (8458178, 306)\n",
      "-------\n",
      "joined games and tracking dataframes\n",
      "original tracking shape: (8458178, 306)\n",
      "merged data shape: (8458178, 307)\n",
      "-------\n",
      "Old df shape:(8458178, 314)\n",
      "New df shape:(8458178, 346)\n",
      "-----\n",
      "\n"
     ]
    }
   ],
   "source": [
    "tracking_df_clean = preprocess_all_df(plays_df, games_df, players_df, tracking_df)"
   ]
  },
  {
   "cell_type": "code",
   "execution_count": 5,
   "metadata": {},
   "outputs": [
    {
     "data": {
      "text/html": [
       "<div>\n",
       "<style scoped>\n",
       "    .dataframe tbody tr th:only-of-type {\n",
       "        vertical-align: middle;\n",
       "    }\n",
       "\n",
       "    .dataframe tbody tr th {\n",
       "        vertical-align: top;\n",
       "    }\n",
       "\n",
       "    .dataframe thead th {\n",
       "        text-align: right;\n",
       "    }\n",
       "</style>\n",
       "<table border=\"1\" class=\"dataframe\">\n",
       "  <thead>\n",
       "    <tr style=\"text-align: right;\">\n",
       "      <th></th>\n",
       "      <th>gameId</th>\n",
       "      <th>playId</th>\n",
       "      <th>nflId</th>\n",
       "      <th>frameId</th>\n",
       "      <th>time</th>\n",
       "      <th>s</th>\n",
       "      <th>a</th>\n",
       "      <th>dis</th>\n",
       "      <th>event</th>\n",
       "      <th>week</th>\n",
       "      <th>...</th>\n",
       "      <th>club_NYG</th>\n",
       "      <th>club_NYJ</th>\n",
       "      <th>club_PHI</th>\n",
       "      <th>club_PIT</th>\n",
       "      <th>club_SEA</th>\n",
       "      <th>club_SF</th>\n",
       "      <th>club_TB</th>\n",
       "      <th>club_TEN</th>\n",
       "      <th>club_WAS</th>\n",
       "      <th>club_football</th>\n",
       "    </tr>\n",
       "  </thead>\n",
       "  <tbody>\n",
       "    <tr>\n",
       "      <th>0</th>\n",
       "      <td>2022090800</td>\n",
       "      <td>80</td>\n",
       "      <td>35472.0</td>\n",
       "      <td>1</td>\n",
       "      <td>2022-09-08 20:24:35.700000</td>\n",
       "      <td>2.43</td>\n",
       "      <td>0.37</td>\n",
       "      <td>0.24</td>\n",
       "      <td>NaN</td>\n",
       "      <td>1</td>\n",
       "      <td>...</td>\n",
       "      <td>0</td>\n",
       "      <td>0</td>\n",
       "      <td>0</td>\n",
       "      <td>0</td>\n",
       "      <td>0</td>\n",
       "      <td>0</td>\n",
       "      <td>0</td>\n",
       "      <td>0</td>\n",
       "      <td>0</td>\n",
       "      <td>0</td>\n",
       "    </tr>\n",
       "    <tr>\n",
       "      <th>1</th>\n",
       "      <td>2022090800</td>\n",
       "      <td>80</td>\n",
       "      <td>35472.0</td>\n",
       "      <td>2</td>\n",
       "      <td>2022-09-08 20:24:35.799999</td>\n",
       "      <td>2.34</td>\n",
       "      <td>0.93</td>\n",
       "      <td>0.24</td>\n",
       "      <td>NaN</td>\n",
       "      <td>1</td>\n",
       "      <td>...</td>\n",
       "      <td>0</td>\n",
       "      <td>0</td>\n",
       "      <td>0</td>\n",
       "      <td>0</td>\n",
       "      <td>0</td>\n",
       "      <td>0</td>\n",
       "      <td>0</td>\n",
       "      <td>0</td>\n",
       "      <td>0</td>\n",
       "      <td>0</td>\n",
       "    </tr>\n",
       "    <tr>\n",
       "      <th>2</th>\n",
       "      <td>2022090800</td>\n",
       "      <td>80</td>\n",
       "      <td>35472.0</td>\n",
       "      <td>3</td>\n",
       "      <td>2022-09-08 20:24:35.900000</td>\n",
       "      <td>2.20</td>\n",
       "      <td>1.39</td>\n",
       "      <td>0.22</td>\n",
       "      <td>NaN</td>\n",
       "      <td>1</td>\n",
       "      <td>...</td>\n",
       "      <td>0</td>\n",
       "      <td>0</td>\n",
       "      <td>0</td>\n",
       "      <td>0</td>\n",
       "      <td>0</td>\n",
       "      <td>0</td>\n",
       "      <td>0</td>\n",
       "      <td>0</td>\n",
       "      <td>0</td>\n",
       "      <td>0</td>\n",
       "    </tr>\n",
       "    <tr>\n",
       "      <th>3</th>\n",
       "      <td>2022090800</td>\n",
       "      <td>80</td>\n",
       "      <td>35472.0</td>\n",
       "      <td>4</td>\n",
       "      <td>2022-09-08 20:24:36.000000</td>\n",
       "      <td>1.96</td>\n",
       "      <td>1.87</td>\n",
       "      <td>0.20</td>\n",
       "      <td>NaN</td>\n",
       "      <td>1</td>\n",
       "      <td>...</td>\n",
       "      <td>0</td>\n",
       "      <td>0</td>\n",
       "      <td>0</td>\n",
       "      <td>0</td>\n",
       "      <td>0</td>\n",
       "      <td>0</td>\n",
       "      <td>0</td>\n",
       "      <td>0</td>\n",
       "      <td>0</td>\n",
       "      <td>0</td>\n",
       "    </tr>\n",
       "    <tr>\n",
       "      <th>4</th>\n",
       "      <td>2022090800</td>\n",
       "      <td>80</td>\n",
       "      <td>35472.0</td>\n",
       "      <td>5</td>\n",
       "      <td>2022-09-08 20:24:36.099999</td>\n",
       "      <td>1.62</td>\n",
       "      <td>2.42</td>\n",
       "      <td>0.16</td>\n",
       "      <td>NaN</td>\n",
       "      <td>1</td>\n",
       "      <td>...</td>\n",
       "      <td>0</td>\n",
       "      <td>0</td>\n",
       "      <td>0</td>\n",
       "      <td>0</td>\n",
       "      <td>0</td>\n",
       "      <td>0</td>\n",
       "      <td>0</td>\n",
       "      <td>0</td>\n",
       "      <td>0</td>\n",
       "      <td>0</td>\n",
       "    </tr>\n",
       "  </tbody>\n",
       "</table>\n",
       "<p>5 rows × 336 columns</p>\n",
       "</div>"
      ],
      "text/plain": [
       "       gameId  playId    nflId  frameId                        time     s  \\\n",
       "0  2022090800      80  35472.0        1  2022-09-08 20:24:35.700000  2.43   \n",
       "1  2022090800      80  35472.0        2  2022-09-08 20:24:35.799999  2.34   \n",
       "2  2022090800      80  35472.0        3  2022-09-08 20:24:35.900000  2.20   \n",
       "3  2022090800      80  35472.0        4  2022-09-08 20:24:36.000000  1.96   \n",
       "4  2022090800      80  35472.0        5  2022-09-08 20:24:36.099999  1.62   \n",
       "\n",
       "      a   dis event  week  ...  club_NYG  club_NYJ  club_PHI  club_PIT  \\\n",
       "0  0.37  0.24   NaN     1  ...         0         0         0         0   \n",
       "1  0.93  0.24   NaN     1  ...         0         0         0         0   \n",
       "2  1.39  0.22   NaN     1  ...         0         0         0         0   \n",
       "3  1.87  0.20   NaN     1  ...         0         0         0         0   \n",
       "4  2.42  0.16   NaN     1  ...         0         0         0         0   \n",
       "\n",
       "   club_SEA  club_SF  club_TB  club_TEN  club_WAS  club_football  \n",
       "0         0        0        0         0         0              0  \n",
       "1         0        0        0         0         0              0  \n",
       "2         0        0        0         0         0              0  \n",
       "3         0        0        0         0         0              0  \n",
       "4         0        0        0         0         0              0  \n",
       "\n",
       "[5 rows x 336 columns]"
      ]
     },
     "execution_count": 5,
     "metadata": {},
     "output_type": "execute_result"
    }
   ],
   "source": [
    "tracking_df_clean.head()"
   ]
  },
  {
   "cell_type": "code",
   "execution_count": 9,
   "metadata": {},
   "outputs": [
    {
     "data": {
      "text/plain": [
       "count    8.458178e+06\n",
       "mean     3.750088e+01\n",
       "std      7.999520e-02\n",
       "min      3.742000e+01\n",
       "25%      3.742000e+01\n",
       "50%      3.758000e+01\n",
       "75%      3.758000e+01\n",
       "max      3.758000e+01\n",
       "Name: X_std, dtype: float64"
      ]
     },
     "execution_count": 9,
     "metadata": {},
     "output_type": "execute_result"
    }
   ],
   "source": [
    "tracking_df_clean['X_std'].describe()"
   ]
  },
  {
   "cell_type": "code",
   "execution_count": 11,
   "metadata": {},
   "outputs": [],
   "source": [
    "# Play direction\n",
    "tracking_df['isDirectionLeft'] = (tracking_df['playDirection'] == 'left').astype(int)\n",
    "    \n",
    "# Standardize location so all moving towards right end zone\n",
    "tracking_df['X_std'] = tracking_df['x']\n",
    "tracking_df.loc[tracking_df['isDirectionLeft'], 'X_std'] = 120 - tracking_df.loc[tracking_df['isDirectionLeft'], 'x']\n",
    "    "
   ]
  },
  {
   "cell_type": "code",
   "execution_count": 10,
   "metadata": {},
   "outputs": [
    {
     "data": {
      "text/plain": [
       "count    1.218740e+07\n",
       "mean     6.041303e+01\n",
       "std      2.459136e+01\n",
       "min     -3.550000e+00\n",
       "25%      4.102000e+01\n",
       "50%      6.083000e+01\n",
       "75%      7.981000e+01\n",
       "max      1.229600e+02\n",
       "Name: x, dtype: float64"
      ]
     },
     "execution_count": 10,
     "metadata": {},
     "output_type": "execute_result"
    }
   ],
   "source": [
    "tracking_df['x'].describe()"
   ]
  },
  {
   "cell_type": "code",
   "execution_count": null,
   "metadata": {},
   "outputs": [],
   "source": [
    "tracking_df[\"X_std\"].describe()"
   ]
  },
  {
   "cell_type": "code",
   "execution_count": null,
   "metadata": {},
   "outputs": [],
   "source": []
  }
 ],
 "metadata": {
  "language_info": {
   "name": "python"
  }
 },
 "nbformat": 4,
 "nbformat_minor": 2
}
