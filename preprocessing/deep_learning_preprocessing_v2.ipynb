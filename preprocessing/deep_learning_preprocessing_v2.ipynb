{
 "cells": [
  {
   "cell_type": "markdown",
   "metadata": {},
   "source": [
    "# Preprocess all data"
   ]
  },
  {
   "cell_type": "code",
   "execution_count": 30,
   "metadata": {},
   "outputs": [],
   "source": [
    "import pandas as pd\n",
    "import Preprocessing\n",
    "from DataLoader import DataLoader"
   ]
  },
  {
   "cell_type": "code",
   "execution_count": 31,
   "metadata": {},
   "outputs": [
    {
     "ename": "TypeError",
     "evalue": "DataLoader.load_data() takes 0 positional arguments but 1 was given",
     "output_type": "error",
     "traceback": [
      "\u001b[0;31m---------------------------------------------------------------------------\u001b[0m",
      "\u001b[0;31mTypeError\u001b[0m                                 Traceback (most recent call last)",
      "\u001b[1;32m/Users/jackfriedman/Documents/CS89 Final Project 2/NFL-Big-Data-Bowl/preprocessing/deep_learning_preprocessing_v2.ipynb Cell 3\u001b[0m line \u001b[0;36m2\n\u001b[1;32m      <a href='vscode-notebook-cell:/Users/jackfriedman/Documents/CS89%20Final%20Project%202/NFL-Big-Data-Bowl/preprocessing/deep_learning_preprocessing_v2.ipynb#X11sZmlsZQ%3D%3D?line=0'>1</a>\u001b[0m dl \u001b[39m=\u001b[39m DataLoader()\n\u001b[0;32m----> <a href='vscode-notebook-cell:/Users/jackfriedman/Documents/CS89%20Final%20Project%202/NFL-Big-Data-Bowl/preprocessing/deep_learning_preprocessing_v2.ipynb#X11sZmlsZQ%3D%3D?line=1'>2</a>\u001b[0m dl\u001b[39m.\u001b[39;49mload_data()\n",
      "\u001b[0;31mTypeError\u001b[0m: DataLoader.load_data() takes 0 positional arguments but 1 was given"
     ]
    }
   ],
   "source": [
    "dl = DataLoader()\n",
    "dl.load_data()"
   ]
  },
  {
   "cell_type": "code",
   "execution_count": 6,
   "metadata": {},
   "outputs": [],
   "source": [
    "frames = []\n",
    "for week in range(1,10):\n",
    "    filename = \"../data/tracking_week_\" + str(week) + \".csv\"\n",
    "    df = pd.read_csv(filename)\n",
    "    frames += [df]\n",
    "df = pd.concat(frames)"
   ]
  },
  {
   "cell_type": "code",
   "execution_count": 7,
   "metadata": {},
   "outputs": [
    {
     "data": {
      "text/plain": [
       "(12187398, 17)"
      ]
     },
     "execution_count": 7,
     "metadata": {},
     "output_type": "execute_result"
    }
   ],
   "source": [
    "df.shape"
   ]
  },
  {
   "cell_type": "code",
   "execution_count": 14,
   "metadata": {},
   "outputs": [
    {
     "ename": "TypeError",
     "evalue": "'module' object is not callable",
     "output_type": "error",
     "traceback": [
      "\u001b[0;31m---------------------------------------------------------------------------\u001b[0m",
      "\u001b[0;31mTypeError\u001b[0m                                 Traceback (most recent call last)",
      "\u001b[1;32m/Users/jackfriedman/Documents/CS89 Final Project 2/NFL-Big-Data-Bowl/preprocessing/deep_learning_preprocessing_v2.ipynb Cell 5\u001b[0m line \u001b[0;36m1\n\u001b[0;32m----> <a href='vscode-notebook-cell:/Users/jackfriedman/Documents/CS89%20Final%20Project%202/NFL-Big-Data-Bowl/preprocessing/deep_learning_preprocessing_v2.ipynb#W6sZmlsZQ%3D%3D?line=0'>1</a>\u001b[0m DataLoader()\n",
      "\u001b[0;31mTypeError\u001b[0m: 'module' object is not callable"
     ]
    }
   ],
   "source": [
    "DataLoader()"
   ]
  },
  {
   "cell_type": "code",
   "execution_count": null,
   "metadata": {},
   "outputs": [],
   "source": []
  }
 ],
 "metadata": {
  "kernelspec": {
   "display_name": "Python 3",
   "language": "python",
   "name": "python3"
  },
  "language_info": {
   "codemirror_mode": {
    "name": "ipython",
    "version": 3
   },
   "file_extension": ".py",
   "mimetype": "text/x-python",
   "name": "python",
   "nbconvert_exporter": "python",
   "pygments_lexer": "ipython3",
   "version": "3.10.1"
  }
 },
 "nbformat": 4,
 "nbformat_minor": 2
}
