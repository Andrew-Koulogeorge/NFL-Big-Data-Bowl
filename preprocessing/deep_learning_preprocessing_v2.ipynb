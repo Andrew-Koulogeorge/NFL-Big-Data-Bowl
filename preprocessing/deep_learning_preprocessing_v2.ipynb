{
 "cells": [
  {
   "cell_type": "markdown",
   "metadata": {},
   "source": [
    "# Deep Learning Preprocessing v2 \n",
    "\n",
    "__Author:__ Jack Friedman <br>\n",
    "__Date:__ 11/6/2023 <br>\n",
    "__Purpose:__ Playground for converting data into position image"
   ]
  },
  {
   "cell_type": "code",
   "execution_count": 1,
   "metadata": {},
   "outputs": [],
   "source": [
    "import numpy as np\n",
    "import pandas as pd\n",
    "import matplotlib.pyplot as plt\n",
    "from Preprocessing_v2 import *\n",
    "from DataLoader import load_data"
   ]
  },
  {
   "cell_type": "code",
   "execution_count": 2,
   "metadata": {},
   "outputs": [
    {
     "name": "stdout",
     "output_type": "stream",
     "text": [
      "loaded games df\n",
      "shape: (136, 9)\n",
      "-----\n",
      "loaded players df\n",
      "shape: (1683, 7)\n",
      "-----\n",
      "loaded plays df\n",
      "shape: (12486, 35)\n",
      "-----\n",
      "loading tracking frames...\n",
      "loaded tracking frames\n",
      "shape: (12187398, 17)\n",
      "returning 4 frames\n"
     ]
    }
   ],
   "source": [
    "# Load data\n",
    "[games_df, players_df, plays_df, tracking_df] = load_data()"
   ]
  },
  {
   "cell_type": "code",
   "execution_count": 3,
   "metadata": {},
   "outputs": [
    {
     "name": "stdout",
     "output_type": "stream",
     "text": [
      "cleaning plays_df\n",
      "final plays data shape: (6840, 289)\n",
      "-----\n",
      "\n",
      "cleaning games_df\n",
      "-----\n",
      "\n",
      "cleaning players_df\n",
      "-----\n",
      "\n",
      "cleaning tracking_df\n",
      "original tracking df shape: (12187398, 17)\n",
      "unique play and game id combos: (6840, 2)\n",
      "filtered df shape: (8458178, 17)\n",
      "number of merge errors: 0\n",
      "joined plays and tracking dataframes\n",
      "original tracking shape: (8458178, 17)\n",
      "merged data shape: (8458178, 304)\n",
      "-------\n",
      "joined players and tracking dataframes\n",
      "original tracking shape: (8458178, 304)\n",
      "merged data shape: (8458178, 306)\n",
      "-------\n",
      "joined games and tracking dataframes\n",
      "original tracking shape: (8458178, 306)\n",
      "merged data shape: (8458178, 307)\n",
      "-------\n",
      "Old df shape:(8458178, 346)\n",
      "New df shape:(8458178, 346)\n",
      "-----\n",
      "\n"
     ]
    }
   ],
   "source": [
    "tracking_df_clean = preprocess_all_df(plays_df, games_df, players_df, tracking_df)"
   ]
  },
  {
   "cell_type": "code",
   "execution_count": null,
   "metadata": {},
   "outputs": [],
   "source": [
    "# Check\n",
    "for var in ['X_std', 'Y_std', 'Dir_std', 'O_std']:\n",
    "    print(tracking_df_clean[var].describe())"
   ]
  },
  {
   "cell_type": "code",
   "execution_count": null,
   "metadata": {},
   "outputs": [],
   "source": [
    "tracking_df_clean[(tracking_df_clean['X_std'] > 10) & (tracking_df_clean['X_std'] < 11)]['X_std'].unique()"
   ]
  },
  {
   "cell_type": "code",
   "execution_count": null,
   "metadata": {},
   "outputs": [],
   "source": [
    "tracking_df_clean['event'].unique()"
   ]
  },
  {
   "cell_type": "markdown",
   "metadata": {},
   "source": [
    "### frame cutoffs"
   ]
  },
  {
   "cell_type": "code",
   "execution_count": null,
   "metadata": {},
   "outputs": [],
   "source": [
    "tracking_df_clean[(tracking_df_clean['gameId'] == 2022090800) & (tracking_df_clean['playId'] == 80) & (tracking_df_clean['frameId'] <= tracking_df_clean[(tracking_df_clean['event'] == 'run') | (tracking_df_clean['event'] == 'handoff')]['frameId'].max())]"
   ]
  },
  {
   "cell_type": "code",
   "execution_count": 4,
   "metadata": {},
   "outputs": [
    {
     "data": {
      "text/html": [
       "<div>\n",
       "<style scoped>\n",
       "    .dataframe tbody tr th:only-of-type {\n",
       "        vertical-align: middle;\n",
       "    }\n",
       "\n",
       "    .dataframe tbody tr th {\n",
       "        vertical-align: top;\n",
       "    }\n",
       "\n",
       "    .dataframe thead th {\n",
       "        text-align: right;\n",
       "    }\n",
       "</style>\n",
       "<table border=\"1\" class=\"dataframe\">\n",
       "  <thead>\n",
       "    <tr style=\"text-align: right;\">\n",
       "      <th></th>\n",
       "      <th>gameId</th>\n",
       "      <th>playId</th>\n",
       "      <th>frame_cutoff</th>\n",
       "    </tr>\n",
       "  </thead>\n",
       "  <tbody>\n",
       "    <tr>\n",
       "      <th>5</th>\n",
       "      <td>2022090800</td>\n",
       "      <td>80</td>\n",
       "      <td>6</td>\n",
       "    </tr>\n",
       "    <tr>\n",
       "      <th>708</th>\n",
       "      <td>2022090800</td>\n",
       "      <td>101</td>\n",
       "      <td>19</td>\n",
       "    </tr>\n",
       "    <tr>\n",
       "      <th>1838</th>\n",
       "      <td>2022090800</td>\n",
       "      <td>146</td>\n",
       "      <td>22</td>\n",
       "    </tr>\n",
       "    <tr>\n",
       "      <th>3122</th>\n",
       "      <td>2022090800</td>\n",
       "      <td>191</td>\n",
       "      <td>18</td>\n",
       "    </tr>\n",
       "    <tr>\n",
       "      <th>4296</th>\n",
       "      <td>2022090800</td>\n",
       "      <td>299</td>\n",
       "      <td>19</td>\n",
       "    </tr>\n",
       "    <tr>\n",
       "      <th>...</th>\n",
       "      <td>...</td>\n",
       "      <td>...</td>\n",
       "      <td>...</td>\n",
       "    </tr>\n",
       "    <tr>\n",
       "      <th>8451732</th>\n",
       "      <td>2022110700</td>\n",
       "      <td>3630</td>\n",
       "      <td>18</td>\n",
       "    </tr>\n",
       "    <tr>\n",
       "      <th>8453136</th>\n",
       "      <td>2022110700</td>\n",
       "      <td>3686</td>\n",
       "      <td>19</td>\n",
       "    </tr>\n",
       "    <tr>\n",
       "      <th>8454884</th>\n",
       "      <td>2022110700</td>\n",
       "      <td>3707</td>\n",
       "      <td>19</td>\n",
       "    </tr>\n",
       "    <tr>\n",
       "      <th>8456220</th>\n",
       "      <td>2022110700</td>\n",
       "      <td>3740</td>\n",
       "      <td>21</td>\n",
       "    </tr>\n",
       "    <tr>\n",
       "      <th>8457180</th>\n",
       "      <td>2022110700</td>\n",
       "      <td>3787</td>\n",
       "      <td>15</td>\n",
       "    </tr>\n",
       "  </tbody>\n",
       "</table>\n",
       "<p>6820 rows × 3 columns</p>\n",
       "</div>"
      ],
      "text/plain": [
       "             gameId  playId  frame_cutoff\n",
       "5        2022090800      80             6\n",
       "708      2022090800     101            19\n",
       "1838     2022090800     146            22\n",
       "3122     2022090800     191            18\n",
       "4296     2022090800     299            19\n",
       "...             ...     ...           ...\n",
       "8451732  2022110700    3630            18\n",
       "8453136  2022110700    3686            19\n",
       "8454884  2022110700    3707            19\n",
       "8456220  2022110700    3740            21\n",
       "8457180  2022110700    3787            15\n",
       "\n",
       "[6820 rows x 3 columns]"
      ]
     },
     "execution_count": 4,
     "metadata": {},
     "output_type": "execute_result"
    }
   ],
   "source": [
    "# Filter for pre-handoff events \n",
    "\n",
    "# Step 1: Get the frames where handoff or run occurs \n",
    "frame_cutoffs = tracking_df_clean[(tracking_df_clean['event'] == 'run') | (tracking_df_clean['event'] == 'handoff')][['gameId', 'playId', 'frameId']].drop_duplicates()\n",
    "frame_cutoffs = frame_cutoffs.rename(columns = {'frameId':'frame_cutoff'})\n",
    "frame_cutoffs"
   ]
  },
  {
   "cell_type": "code",
   "execution_count": 5,
   "metadata": {},
   "outputs": [
    {
     "data": {
      "text/plain": [
       "count    6820.000000\n",
       "mean       17.966129\n",
       "std         4.242868\n",
       "min         6.000000\n",
       "25%        17.000000\n",
       "50%        19.000000\n",
       "75%        20.000000\n",
       "max        49.000000\n",
       "Name: frame_cutoff, dtype: float64"
      ]
     },
     "execution_count": 5,
     "metadata": {},
     "output_type": "execute_result"
    }
   ],
   "source": [
    "# Look at distribution fo cutoffs\n",
    "frame_cutoffs['frame_cutoff'].describe()"
   ]
  },
  {
   "cell_type": "code",
   "execution_count": 6,
   "metadata": {},
   "outputs": [],
   "source": [
    "# Step 2: Merge the frame cutoffs with the original dataframe and filter the frames before the cutoff\n",
    "tracking_df_clean = pd.merge(tracking_df_clean, frame_cutoffs, on=['gameId', 'playId'])"
   ]
  },
  {
   "cell_type": "code",
   "execution_count": 7,
   "metadata": {},
   "outputs": [
    {
     "data": {
      "text/plain": [
       "array([nan, 'run', 'ball_snap', 'handoff', 'man_in_motion', 'play_action',\n",
       "       'line_set', 'shift', 'pass_forward', 'autoevent_passforward',\n",
       "       'autoevent_passinterrupted', 'run_pass_option',\n",
       "       'autoevent_ballsnap', 'snap_direct', 'fumble', 'first_contact',\n",
       "       'penalty_flag', 'pass_outcome_caught', 'pass_arrived'],\n",
       "      dtype=object)"
      ]
     },
     "execution_count": 7,
     "metadata": {},
     "output_type": "execute_result"
    }
   ],
   "source": [
    "tracking_df_clean[tracking_df_clean['frameId'] <= tracking_df_clean['frame_cutoff']]['event'].unique()"
   ]
  },
  {
   "cell_type": "markdown",
   "metadata": {},
   "source": [
    "### check passing plays"
   ]
  },
  {
   "cell_type": "code",
   "execution_count": 12,
   "metadata": {},
   "outputs": [
    {
     "data": {
      "text/plain": [
       "array([nan, 'run', 'first_contact', 'tackle', 'ball_snap', 'handoff',\n",
       "       'man_in_motion', 'fumble', 'out_of_bounds', 'play_action',\n",
       "       'touchdown', 'autoevent_passforward', 'autoevent_passinterrupted',\n",
       "       'line_set', 'qb_slide', 'shift', 'pass_forward',\n",
       "       'pass_outcome_caught', 'run_pass_option', 'qb_sack',\n",
       "       'autoevent_ballsnap', 'snap_direct', 'fumble_defense_recovered',\n",
       "       'safety', 'lateral', 'pass_arrived', 'penalty_flag',\n",
       "       'fumble_offense_recovered', 'penalty_accepted'], dtype=object)"
      ]
     },
     "execution_count": 12,
     "metadata": {},
     "output_type": "execute_result"
    }
   ],
   "source": [
    "tracking_df_clean['event'].unique()"
   ]
  },
  {
   "cell_type": "code",
   "execution_count": 14,
   "metadata": {},
   "outputs": [
    {
     "data": {
      "text/plain": [
       "1        (7:38) (Shotgun) C.Claypool right end to PIT 3...\n",
       "3        (13:12) M.Boone left tackle to DEN 44 for 7 ya...\n",
       "4        (8:33) D.Singletary right guard to TEN 32 for ...\n",
       "6        (13:31) (Shotgun) R.Tannehill scrambles up the...\n",
       "7        (15:00) J.Wilson left tackle to SF 32 for 7 ya...\n",
       "                               ...                        \n",
       "12477    (14:18) (Shotgun) M.Gordon left tackle to NYJ ...\n",
       "12481    (13:31) E.Elliott right tackle to WAS 38 for 1...\n",
       "12483    (9:35) (Shotgun) J.Mixon left end to CIN 47 fo...\n",
       "12484    (2:02) (Shotgun) J.Taylor up the middle to TEN...\n",
       "12485    (12:51) C.Heck reported in as eligible.  D.Pie...\n",
       "Name: playDescription, Length: 6840, dtype: object"
      ]
     },
     "execution_count": 14,
     "metadata": {},
     "output_type": "execute_result"
    }
   ],
   "source": [
    "plays_df[~plays_df['playDescription'].str.contains('pass', na=False)]['playDescription']"
   ]
  },
  {
   "cell_type": "code",
   "execution_count": null,
   "metadata": {},
   "outputs": [],
   "source": [
    "possible_pass_plays = tracking_df_clean[tracking_df_clean['event'].str.contains('pass', na=False)][['gameId', 'playId']].drop_duplicates()"
   ]
  },
  {
   "cell_type": "code",
   "execution_count": null,
   "metadata": {},
   "outputs": [],
   "source": [
    "pd.set_option('display.max_colwidth', None)\n",
    "pd.merge(plays_df, possible_pass_plays, on=['gameId', 'playId'], how='inner')"
   ]
  },
  {
   "cell_type": "code",
   "execution_count": null,
   "metadata": {},
   "outputs": [],
   "source": [
    "len(tracking_df_clean[(tracking_df_clean['event'] == 'run') | (tracking_df_clean['event'] == 'pass_forward')][['gameId', 'playId']].drop_duplicates())"
   ]
  },
  {
   "cell_type": "code",
   "execution_count": null,
   "metadata": {},
   "outputs": [],
   "source": [
    "plays_df[(plays_df['gameId'] == 2022090800) & (plays_df['playId'] == 80)]['playDescription']"
   ]
  },
  {
   "cell_type": "markdown",
   "metadata": {},
   "source": [
    "### Check when 2 players are in the same matrix cell (same yard^2) in a play"
   ]
  },
  {
   "cell_type": "code",
   "execution_count": 27,
   "metadata": {},
   "outputs": [
    {
     "name": "stderr",
     "output_type": "stream",
     "text": [
      "/var/folders/nt/y2pysqbx2wg4rrlhdnq0djrc0000gn/T/ipykernel_70440/75011450.py:10: FutureWarning: In a future version of pandas, a length 1 tuple will be returned when iterating over a groupby with a grouper equal to a list of length 1. Don't supply a list with a single grouper to avoid this warning.\n",
      "  for frame_id, frame_df in group_df.groupby(['frameId']):\n",
      "/var/folders/nt/y2pysqbx2wg4rrlhdnq0djrc0000gn/T/ipykernel_70440/75011450.py:10: FutureWarning: In a future version of pandas, a length 1 tuple will be returned when iterating over a groupby with a grouper equal to a list of length 1. Don't supply a list with a single grouper to avoid this warning.\n",
      "  for frame_id, frame_df in group_df.groupby(['frameId']):\n",
      "/var/folders/nt/y2pysqbx2wg4rrlhdnq0djrc0000gn/T/ipykernel_70440/75011450.py:10: FutureWarning: In a future version of pandas, a length 1 tuple will be returned when iterating over a groupby with a grouper equal to a list of length 1. Don't supply a list with a single grouper to avoid this warning.\n",
      "  for frame_id, frame_df in group_df.groupby(['frameId']):\n",
      "/var/folders/nt/y2pysqbx2wg4rrlhdnq0djrc0000gn/T/ipykernel_70440/75011450.py:10: FutureWarning: In a future version of pandas, a length 1 tuple will be returned when iterating over a groupby with a grouper equal to a list of length 1. Don't supply a list with a single grouper to avoid this warning.\n",
      "  for frame_id, frame_df in group_df.groupby(['frameId']):\n",
      "/var/folders/nt/y2pysqbx2wg4rrlhdnq0djrc0000gn/T/ipykernel_70440/75011450.py:10: FutureWarning: In a future version of pandas, a length 1 tuple will be returned when iterating over a groupby with a grouper equal to a list of length 1. Don't supply a list with a single grouper to avoid this warning.\n",
      "  for frame_id, frame_df in group_df.groupby(['frameId']):\n",
      "/var/folders/nt/y2pysqbx2wg4rrlhdnq0djrc0000gn/T/ipykernel_70440/75011450.py:10: FutureWarning: In a future version of pandas, a length 1 tuple will be returned when iterating over a groupby with a grouper equal to a list of length 1. Don't supply a list with a single grouper to avoid this warning.\n",
      "  for frame_id, frame_df in group_df.groupby(['frameId']):\n",
      "/var/folders/nt/y2pysqbx2wg4rrlhdnq0djrc0000gn/T/ipykernel_70440/75011450.py:10: FutureWarning: In a future version of pandas, a length 1 tuple will be returned when iterating over a groupby with a grouper equal to a list of length 1. Don't supply a list with a single grouper to avoid this warning.\n",
      "  for frame_id, frame_df in group_df.groupby(['frameId']):\n"
     ]
    },
    {
     "name": "stdout",
     "output_type": "stream",
     "text": [
      "found a conflict in (2022090800, 299, 19) at (26, 26)\n",
      "found a conflict in (2022090800, 933, 18) at (73, 34)\n"
     ]
    },
    {
     "name": "stderr",
     "output_type": "stream",
     "text": [
      "/var/folders/nt/y2pysqbx2wg4rrlhdnq0djrc0000gn/T/ipykernel_70440/75011450.py:10: FutureWarning: In a future version of pandas, a length 1 tuple will be returned when iterating over a groupby with a grouper equal to a list of length 1. Don't supply a list with a single grouper to avoid this warning.\n",
      "  for frame_id, frame_df in group_df.groupby(['frameId']):\n",
      "/var/folders/nt/y2pysqbx2wg4rrlhdnq0djrc0000gn/T/ipykernel_70440/75011450.py:10: FutureWarning: In a future version of pandas, a length 1 tuple will be returned when iterating over a groupby with a grouper equal to a list of length 1. Don't supply a list with a single grouper to avoid this warning.\n",
      "  for frame_id, frame_df in group_df.groupby(['frameId']):\n",
      "/var/folders/nt/y2pysqbx2wg4rrlhdnq0djrc0000gn/T/ipykernel_70440/75011450.py:10: FutureWarning: In a future version of pandas, a length 1 tuple will be returned when iterating over a groupby with a grouper equal to a list of length 1. Don't supply a list with a single grouper to avoid this warning.\n",
      "  for frame_id, frame_df in group_df.groupby(['frameId']):\n",
      "/var/folders/nt/y2pysqbx2wg4rrlhdnq0djrc0000gn/T/ipykernel_70440/75011450.py:10: FutureWarning: In a future version of pandas, a length 1 tuple will be returned when iterating over a groupby with a grouper equal to a list of length 1. Don't supply a list with a single grouper to avoid this warning.\n",
      "  for frame_id, frame_df in group_df.groupby(['frameId']):\n",
      "/var/folders/nt/y2pysqbx2wg4rrlhdnq0djrc0000gn/T/ipykernel_70440/75011450.py:10: FutureWarning: In a future version of pandas, a length 1 tuple will be returned when iterating over a groupby with a grouper equal to a list of length 1. Don't supply a list with a single grouper to avoid this warning.\n",
      "  for frame_id, frame_df in group_df.groupby(['frameId']):\n",
      "/var/folders/nt/y2pysqbx2wg4rrlhdnq0djrc0000gn/T/ipykernel_70440/75011450.py:10: FutureWarning: In a future version of pandas, a length 1 tuple will be returned when iterating over a groupby with a grouper equal to a list of length 1. Don't supply a list with a single grouper to avoid this warning.\n",
      "  for frame_id, frame_df in group_df.groupby(['frameId']):\n",
      "/var/folders/nt/y2pysqbx2wg4rrlhdnq0djrc0000gn/T/ipykernel_70440/75011450.py:10: FutureWarning: In a future version of pandas, a length 1 tuple will be returned when iterating over a groupby with a grouper equal to a list of length 1. Don't supply a list with a single grouper to avoid this warning.\n",
      "  for frame_id, frame_df in group_df.groupby(['frameId']):\n",
      "/var/folders/nt/y2pysqbx2wg4rrlhdnq0djrc0000gn/T/ipykernel_70440/75011450.py:10: FutureWarning: In a future version of pandas, a length 1 tuple will be returned when iterating over a groupby with a grouper equal to a list of length 1. Don't supply a list with a single grouper to avoid this warning.\n",
      "  for frame_id, frame_df in group_df.groupby(['frameId']):\n",
      "/var/folders/nt/y2pysqbx2wg4rrlhdnq0djrc0000gn/T/ipykernel_70440/75011450.py:10: FutureWarning: In a future version of pandas, a length 1 tuple will be returned when iterating over a groupby with a grouper equal to a list of length 1. Don't supply a list with a single grouper to avoid this warning.\n",
      "  for frame_id, frame_df in group_df.groupby(['frameId']):\n",
      "/var/folders/nt/y2pysqbx2wg4rrlhdnq0djrc0000gn/T/ipykernel_70440/75011450.py:10: FutureWarning: In a future version of pandas, a length 1 tuple will be returned when iterating over a groupby with a grouper equal to a list of length 1. Don't supply a list with a single grouper to avoid this warning.\n",
      "  for frame_id, frame_df in group_df.groupby(['frameId']):\n",
      "/var/folders/nt/y2pysqbx2wg4rrlhdnq0djrc0000gn/T/ipykernel_70440/75011450.py:10: FutureWarning: In a future version of pandas, a length 1 tuple will be returned when iterating over a groupby with a grouper equal to a list of length 1. Don't supply a list with a single grouper to avoid this warning.\n",
      "  for frame_id, frame_df in group_df.groupby(['frameId']):\n",
      "/var/folders/nt/y2pysqbx2wg4rrlhdnq0djrc0000gn/T/ipykernel_70440/75011450.py:10: FutureWarning: In a future version of pandas, a length 1 tuple will be returned when iterating over a groupby with a grouper equal to a list of length 1. Don't supply a list with a single grouper to avoid this warning.\n",
      "  for frame_id, frame_df in group_df.groupby(['frameId']):\n",
      "/var/folders/nt/y2pysqbx2wg4rrlhdnq0djrc0000gn/T/ipykernel_70440/75011450.py:10: FutureWarning: In a future version of pandas, a length 1 tuple will be returned when iterating over a groupby with a grouper equal to a list of length 1. Don't supply a list with a single grouper to avoid this warning.\n",
      "  for frame_id, frame_df in group_df.groupby(['frameId']):\n",
      "/var/folders/nt/y2pysqbx2wg4rrlhdnq0djrc0000gn/T/ipykernel_70440/75011450.py:10: FutureWarning: In a future version of pandas, a length 1 tuple will be returned when iterating over a groupby with a grouper equal to a list of length 1. Don't supply a list with a single grouper to avoid this warning.\n",
      "  for frame_id, frame_df in group_df.groupby(['frameId']):\n",
      "/var/folders/nt/y2pysqbx2wg4rrlhdnq0djrc0000gn/T/ipykernel_70440/75011450.py:10: FutureWarning: In a future version of pandas, a length 1 tuple will be returned when iterating over a groupby with a grouper equal to a list of length 1. Don't supply a list with a single grouper to avoid this warning.\n",
      "  for frame_id, frame_df in group_df.groupby(['frameId']):\n",
      "/var/folders/nt/y2pysqbx2wg4rrlhdnq0djrc0000gn/T/ipykernel_70440/75011450.py:10: FutureWarning: In a future version of pandas, a length 1 tuple will be returned when iterating over a groupby with a grouper equal to a list of length 1. Don't supply a list with a single grouper to avoid this warning.\n",
      "  for frame_id, frame_df in group_df.groupby(['frameId']):\n",
      "/var/folders/nt/y2pysqbx2wg4rrlhdnq0djrc0000gn/T/ipykernel_70440/75011450.py:10: FutureWarning: In a future version of pandas, a length 1 tuple will be returned when iterating over a groupby with a grouper equal to a list of length 1. Don't supply a list with a single grouper to avoid this warning.\n",
      "  for frame_id, frame_df in group_df.groupby(['frameId']):\n",
      "/var/folders/nt/y2pysqbx2wg4rrlhdnq0djrc0000gn/T/ipykernel_70440/75011450.py:10: FutureWarning: In a future version of pandas, a length 1 tuple will be returned when iterating over a groupby with a grouper equal to a list of length 1. Don't supply a list with a single grouper to avoid this warning.\n",
      "  for frame_id, frame_df in group_df.groupby(['frameId']):\n",
      "/var/folders/nt/y2pysqbx2wg4rrlhdnq0djrc0000gn/T/ipykernel_70440/75011450.py:10: FutureWarning: In a future version of pandas, a length 1 tuple will be returned when iterating over a groupby with a grouper equal to a list of length 1. Don't supply a list with a single grouper to avoid this warning.\n",
      "  for frame_id, frame_df in group_df.groupby(['frameId']):\n",
      "/var/folders/nt/y2pysqbx2wg4rrlhdnq0djrc0000gn/T/ipykernel_70440/75011450.py:10: FutureWarning: In a future version of pandas, a length 1 tuple will be returned when iterating over a groupby with a grouper equal to a list of length 1. Don't supply a list with a single grouper to avoid this warning.\n",
      "  for frame_id, frame_df in group_df.groupby(['frameId']):\n",
      "/var/folders/nt/y2pysqbx2wg4rrlhdnq0djrc0000gn/T/ipykernel_70440/75011450.py:10: FutureWarning: In a future version of pandas, a length 1 tuple will be returned when iterating over a groupby with a grouper equal to a list of length 1. Don't supply a list with a single grouper to avoid this warning.\n",
      "  for frame_id, frame_df in group_df.groupby(['frameId']):\n",
      "/var/folders/nt/y2pysqbx2wg4rrlhdnq0djrc0000gn/T/ipykernel_70440/75011450.py:10: FutureWarning: In a future version of pandas, a length 1 tuple will be returned when iterating over a groupby with a grouper equal to a list of length 1. Don't supply a list with a single grouper to avoid this warning.\n",
      "  for frame_id, frame_df in group_df.groupby(['frameId']):\n",
      "/var/folders/nt/y2pysqbx2wg4rrlhdnq0djrc0000gn/T/ipykernel_70440/75011450.py:10: FutureWarning: In a future version of pandas, a length 1 tuple will be returned when iterating over a groupby with a grouper equal to a list of length 1. Don't supply a list with a single grouper to avoid this warning.\n",
      "  for frame_id, frame_df in group_df.groupby(['frameId']):\n",
      "/var/folders/nt/y2pysqbx2wg4rrlhdnq0djrc0000gn/T/ipykernel_70440/75011450.py:10: FutureWarning: In a future version of pandas, a length 1 tuple will be returned when iterating over a groupby with a grouper equal to a list of length 1. Don't supply a list with a single grouper to avoid this warning.\n",
      "  for frame_id, frame_df in group_df.groupby(['frameId']):\n",
      "/var/folders/nt/y2pysqbx2wg4rrlhdnq0djrc0000gn/T/ipykernel_70440/75011450.py:10: FutureWarning: In a future version of pandas, a length 1 tuple will be returned when iterating over a groupby with a grouper equal to a list of length 1. Don't supply a list with a single grouper to avoid this warning.\n",
      "  for frame_id, frame_df in group_df.groupby(['frameId']):\n",
      "/var/folders/nt/y2pysqbx2wg4rrlhdnq0djrc0000gn/T/ipykernel_70440/75011450.py:10: FutureWarning: In a future version of pandas, a length 1 tuple will be returned when iterating over a groupby with a grouper equal to a list of length 1. Don't supply a list with a single grouper to avoid this warning.\n",
      "  for frame_id, frame_df in group_df.groupby(['frameId']):\n",
      "/var/folders/nt/y2pysqbx2wg4rrlhdnq0djrc0000gn/T/ipykernel_70440/75011450.py:10: FutureWarning: In a future version of pandas, a length 1 tuple will be returned when iterating over a groupby with a grouper equal to a list of length 1. Don't supply a list with a single grouper to avoid this warning.\n",
      "  for frame_id, frame_df in group_df.groupby(['frameId']):\n"
     ]
    },
    {
     "name": "stdout",
     "output_type": "stream",
     "text": [
      "found a conflict in (2022090800, 2712, 19) at (103, 29)\n",
      "found a conflict in (2022090800, 3283, 16) at (86, 29)\n"
     ]
    },
    {
     "name": "stderr",
     "output_type": "stream",
     "text": [
      "/var/folders/nt/y2pysqbx2wg4rrlhdnq0djrc0000gn/T/ipykernel_70440/75011450.py:10: FutureWarning: In a future version of pandas, a length 1 tuple will be returned when iterating over a groupby with a grouper equal to a list of length 1. Don't supply a list with a single grouper to avoid this warning.\n",
      "  for frame_id, frame_df in group_df.groupby(['frameId']):\n",
      "/var/folders/nt/y2pysqbx2wg4rrlhdnq0djrc0000gn/T/ipykernel_70440/75011450.py:10: FutureWarning: In a future version of pandas, a length 1 tuple will be returned when iterating over a groupby with a grouper equal to a list of length 1. Don't supply a list with a single grouper to avoid this warning.\n",
      "  for frame_id, frame_df in group_df.groupby(['frameId']):\n",
      "/var/folders/nt/y2pysqbx2wg4rrlhdnq0djrc0000gn/T/ipykernel_70440/75011450.py:10: FutureWarning: In a future version of pandas, a length 1 tuple will be returned when iterating over a groupby with a grouper equal to a list of length 1. Don't supply a list with a single grouper to avoid this warning.\n",
      "  for frame_id, frame_df in group_df.groupby(['frameId']):\n",
      "/var/folders/nt/y2pysqbx2wg4rrlhdnq0djrc0000gn/T/ipykernel_70440/75011450.py:10: FutureWarning: In a future version of pandas, a length 1 tuple will be returned when iterating over a groupby with a grouper equal to a list of length 1. Don't supply a list with a single grouper to avoid this warning.\n",
      "  for frame_id, frame_df in group_df.groupby(['frameId']):\n",
      "/var/folders/nt/y2pysqbx2wg4rrlhdnq0djrc0000gn/T/ipykernel_70440/75011450.py:10: FutureWarning: In a future version of pandas, a length 1 tuple will be returned when iterating over a groupby with a grouper equal to a list of length 1. Don't supply a list with a single grouper to avoid this warning.\n",
      "  for frame_id, frame_df in group_df.groupby(['frameId']):\n",
      "/var/folders/nt/y2pysqbx2wg4rrlhdnq0djrc0000gn/T/ipykernel_70440/75011450.py:10: FutureWarning: In a future version of pandas, a length 1 tuple will be returned when iterating over a groupby with a grouper equal to a list of length 1. Don't supply a list with a single grouper to avoid this warning.\n",
      "  for frame_id, frame_df in group_df.groupby(['frameId']):\n",
      "/var/folders/nt/y2pysqbx2wg4rrlhdnq0djrc0000gn/T/ipykernel_70440/75011450.py:10: FutureWarning: In a future version of pandas, a length 1 tuple will be returned when iterating over a groupby with a grouper equal to a list of length 1. Don't supply a list with a single grouper to avoid this warning.\n",
      "  for frame_id, frame_df in group_df.groupby(['frameId']):\n",
      "/var/folders/nt/y2pysqbx2wg4rrlhdnq0djrc0000gn/T/ipykernel_70440/75011450.py:10: FutureWarning: In a future version of pandas, a length 1 tuple will be returned when iterating over a groupby with a grouper equal to a list of length 1. Don't supply a list with a single grouper to avoid this warning.\n",
      "  for frame_id, frame_df in group_df.groupby(['frameId']):\n",
      "/var/folders/nt/y2pysqbx2wg4rrlhdnq0djrc0000gn/T/ipykernel_70440/75011450.py:10: FutureWarning: In a future version of pandas, a length 1 tuple will be returned when iterating over a groupby with a grouper equal to a list of length 1. Don't supply a list with a single grouper to avoid this warning.\n",
      "  for frame_id, frame_df in group_df.groupby(['frameId']):\n",
      "/var/folders/nt/y2pysqbx2wg4rrlhdnq0djrc0000gn/T/ipykernel_70440/75011450.py:10: FutureWarning: In a future version of pandas, a length 1 tuple will be returned when iterating over a groupby with a grouper equal to a list of length 1. Don't supply a list with a single grouper to avoid this warning.\n",
      "  for frame_id, frame_df in group_df.groupby(['frameId']):\n",
      "/var/folders/nt/y2pysqbx2wg4rrlhdnq0djrc0000gn/T/ipykernel_70440/75011450.py:10: FutureWarning: In a future version of pandas, a length 1 tuple will be returned when iterating over a groupby with a grouper equal to a list of length 1. Don't supply a list with a single grouper to avoid this warning.\n",
      "  for frame_id, frame_df in group_df.groupby(['frameId']):\n",
      "/var/folders/nt/y2pysqbx2wg4rrlhdnq0djrc0000gn/T/ipykernel_70440/75011450.py:10: FutureWarning: In a future version of pandas, a length 1 tuple will be returned when iterating over a groupby with a grouper equal to a list of length 1. Don't supply a list with a single grouper to avoid this warning.\n",
      "  for frame_id, frame_df in group_df.groupby(['frameId']):\n",
      "/var/folders/nt/y2pysqbx2wg4rrlhdnq0djrc0000gn/T/ipykernel_70440/75011450.py:10: FutureWarning: In a future version of pandas, a length 1 tuple will be returned when iterating over a groupby with a grouper equal to a list of length 1. Don't supply a list with a single grouper to avoid this warning.\n",
      "  for frame_id, frame_df in group_df.groupby(['frameId']):\n"
     ]
    },
    {
     "name": "stdout",
     "output_type": "stream",
     "text": [
      "found a conflict in (2022091100, 546, 15) at (41, 23)\n",
      "found a conflict in (2022091100, 546, 16) at (41, 23)\n",
      "found a conflict in (2022091100, 546, 17) at (41, 23)\n",
      "found a conflict in (2022091100, 546, 18) at (41, 23)\n"
     ]
    },
    {
     "name": "stderr",
     "output_type": "stream",
     "text": [
      "/var/folders/nt/y2pysqbx2wg4rrlhdnq0djrc0000gn/T/ipykernel_70440/75011450.py:10: FutureWarning: In a future version of pandas, a length 1 tuple will be returned when iterating over a groupby with a grouper equal to a list of length 1. Don't supply a list with a single grouper to avoid this warning.\n",
      "  for frame_id, frame_df in group_df.groupby(['frameId']):\n",
      "/var/folders/nt/y2pysqbx2wg4rrlhdnq0djrc0000gn/T/ipykernel_70440/75011450.py:10: FutureWarning: In a future version of pandas, a length 1 tuple will be returned when iterating over a groupby with a grouper equal to a list of length 1. Don't supply a list with a single grouper to avoid this warning.\n",
      "  for frame_id, frame_df in group_df.groupby(['frameId']):\n",
      "/var/folders/nt/y2pysqbx2wg4rrlhdnq0djrc0000gn/T/ipykernel_70440/75011450.py:10: FutureWarning: In a future version of pandas, a length 1 tuple will be returned when iterating over a groupby with a grouper equal to a list of length 1. Don't supply a list with a single grouper to avoid this warning.\n",
      "  for frame_id, frame_df in group_df.groupby(['frameId']):\n",
      "/var/folders/nt/y2pysqbx2wg4rrlhdnq0djrc0000gn/T/ipykernel_70440/75011450.py:10: FutureWarning: In a future version of pandas, a length 1 tuple will be returned when iterating over a groupby with a grouper equal to a list of length 1. Don't supply a list with a single grouper to avoid this warning.\n",
      "  for frame_id, frame_df in group_df.groupby(['frameId']):\n",
      "/var/folders/nt/y2pysqbx2wg4rrlhdnq0djrc0000gn/T/ipykernel_70440/75011450.py:10: FutureWarning: In a future version of pandas, a length 1 tuple will be returned when iterating over a groupby with a grouper equal to a list of length 1. Don't supply a list with a single grouper to avoid this warning.\n",
      "  for frame_id, frame_df in group_df.groupby(['frameId']):\n",
      "/var/folders/nt/y2pysqbx2wg4rrlhdnq0djrc0000gn/T/ipykernel_70440/75011450.py:10: FutureWarning: In a future version of pandas, a length 1 tuple will be returned when iterating over a groupby with a grouper equal to a list of length 1. Don't supply a list with a single grouper to avoid this warning.\n",
      "  for frame_id, frame_df in group_df.groupby(['frameId']):\n",
      "/var/folders/nt/y2pysqbx2wg4rrlhdnq0djrc0000gn/T/ipykernel_70440/75011450.py:10: FutureWarning: In a future version of pandas, a length 1 tuple will be returned when iterating over a groupby with a grouper equal to a list of length 1. Don't supply a list with a single grouper to avoid this warning.\n",
      "  for frame_id, frame_df in group_df.groupby(['frameId']):\n",
      "/var/folders/nt/y2pysqbx2wg4rrlhdnq0djrc0000gn/T/ipykernel_70440/75011450.py:10: FutureWarning: In a future version of pandas, a length 1 tuple will be returned when iterating over a groupby with a grouper equal to a list of length 1. Don't supply a list with a single grouper to avoid this warning.\n",
      "  for frame_id, frame_df in group_df.groupby(['frameId']):\n",
      "/var/folders/nt/y2pysqbx2wg4rrlhdnq0djrc0000gn/T/ipykernel_70440/75011450.py:10: FutureWarning: In a future version of pandas, a length 1 tuple will be returned when iterating over a groupby with a grouper equal to a list of length 1. Don't supply a list with a single grouper to avoid this warning.\n",
      "  for frame_id, frame_df in group_df.groupby(['frameId']):\n",
      "/var/folders/nt/y2pysqbx2wg4rrlhdnq0djrc0000gn/T/ipykernel_70440/75011450.py:10: FutureWarning: In a future version of pandas, a length 1 tuple will be returned when iterating over a groupby with a grouper equal to a list of length 1. Don't supply a list with a single grouper to avoid this warning.\n",
      "  for frame_id, frame_df in group_df.groupby(['frameId']):\n",
      "/var/folders/nt/y2pysqbx2wg4rrlhdnq0djrc0000gn/T/ipykernel_70440/75011450.py:10: FutureWarning: In a future version of pandas, a length 1 tuple will be returned when iterating over a groupby with a grouper equal to a list of length 1. Don't supply a list with a single grouper to avoid this warning.\n",
      "  for frame_id, frame_df in group_df.groupby(['frameId']):\n",
      "/var/folders/nt/y2pysqbx2wg4rrlhdnq0djrc0000gn/T/ipykernel_70440/75011450.py:10: FutureWarning: In a future version of pandas, a length 1 tuple will be returned when iterating over a groupby with a grouper equal to a list of length 1. Don't supply a list with a single grouper to avoid this warning.\n",
      "  for frame_id, frame_df in group_df.groupby(['frameId']):\n",
      "/var/folders/nt/y2pysqbx2wg4rrlhdnq0djrc0000gn/T/ipykernel_70440/75011450.py:10: FutureWarning: In a future version of pandas, a length 1 tuple will be returned when iterating over a groupby with a grouper equal to a list of length 1. Don't supply a list with a single grouper to avoid this warning.\n",
      "  for frame_id, frame_df in group_df.groupby(['frameId']):\n",
      "/var/folders/nt/y2pysqbx2wg4rrlhdnq0djrc0000gn/T/ipykernel_70440/75011450.py:10: FutureWarning: In a future version of pandas, a length 1 tuple will be returned when iterating over a groupby with a grouper equal to a list of length 1. Don't supply a list with a single grouper to avoid this warning.\n",
      "  for frame_id, frame_df in group_df.groupby(['frameId']):\n",
      "/var/folders/nt/y2pysqbx2wg4rrlhdnq0djrc0000gn/T/ipykernel_70440/75011450.py:10: FutureWarning: In a future version of pandas, a length 1 tuple will be returned when iterating over a groupby with a grouper equal to a list of length 1. Don't supply a list with a single grouper to avoid this warning.\n",
      "  for frame_id, frame_df in group_df.groupby(['frameId']):\n",
      "/var/folders/nt/y2pysqbx2wg4rrlhdnq0djrc0000gn/T/ipykernel_70440/75011450.py:10: FutureWarning: In a future version of pandas, a length 1 tuple will be returned when iterating over a groupby with a grouper equal to a list of length 1. Don't supply a list with a single grouper to avoid this warning.\n",
      "  for frame_id, frame_df in group_df.groupby(['frameId']):\n",
      "/var/folders/nt/y2pysqbx2wg4rrlhdnq0djrc0000gn/T/ipykernel_70440/75011450.py:10: FutureWarning: In a future version of pandas, a length 1 tuple will be returned when iterating over a groupby with a grouper equal to a list of length 1. Don't supply a list with a single grouper to avoid this warning.\n",
      "  for frame_id, frame_df in group_df.groupby(['frameId']):\n",
      "/var/folders/nt/y2pysqbx2wg4rrlhdnq0djrc0000gn/T/ipykernel_70440/75011450.py:10: FutureWarning: In a future version of pandas, a length 1 tuple will be returned when iterating over a groupby with a grouper equal to a list of length 1. Don't supply a list with a single grouper to avoid this warning.\n",
      "  for frame_id, frame_df in group_df.groupby(['frameId']):\n",
      "/var/folders/nt/y2pysqbx2wg4rrlhdnq0djrc0000gn/T/ipykernel_70440/75011450.py:10: FutureWarning: In a future version of pandas, a length 1 tuple will be returned when iterating over a groupby with a grouper equal to a list of length 1. Don't supply a list with a single grouper to avoid this warning.\n",
      "  for frame_id, frame_df in group_df.groupby(['frameId']):\n",
      "/var/folders/nt/y2pysqbx2wg4rrlhdnq0djrc0000gn/T/ipykernel_70440/75011450.py:10: FutureWarning: In a future version of pandas, a length 1 tuple will be returned when iterating over a groupby with a grouper equal to a list of length 1. Don't supply a list with a single grouper to avoid this warning.\n",
      "  for frame_id, frame_df in group_df.groupby(['frameId']):\n",
      "/var/folders/nt/y2pysqbx2wg4rrlhdnq0djrc0000gn/T/ipykernel_70440/75011450.py:10: FutureWarning: In a future version of pandas, a length 1 tuple will be returned when iterating over a groupby with a grouper equal to a list of length 1. Don't supply a list with a single grouper to avoid this warning.\n",
      "  for frame_id, frame_df in group_df.groupby(['frameId']):\n",
      "/var/folders/nt/y2pysqbx2wg4rrlhdnq0djrc0000gn/T/ipykernel_70440/75011450.py:10: FutureWarning: In a future version of pandas, a length 1 tuple will be returned when iterating over a groupby with a grouper equal to a list of length 1. Don't supply a list with a single grouper to avoid this warning.\n",
      "  for frame_id, frame_df in group_df.groupby(['frameId']):\n",
      "/var/folders/nt/y2pysqbx2wg4rrlhdnq0djrc0000gn/T/ipykernel_70440/75011450.py:10: FutureWarning: In a future version of pandas, a length 1 tuple will be returned when iterating over a groupby with a grouper equal to a list of length 1. Don't supply a list with a single grouper to avoid this warning.\n",
      "  for frame_id, frame_df in group_df.groupby(['frameId']):\n",
      "/var/folders/nt/y2pysqbx2wg4rrlhdnq0djrc0000gn/T/ipykernel_70440/75011450.py:10: FutureWarning: In a future version of pandas, a length 1 tuple will be returned when iterating over a groupby with a grouper equal to a list of length 1. Don't supply a list with a single grouper to avoid this warning.\n",
      "  for frame_id, frame_df in group_df.groupby(['frameId']):\n",
      "/var/folders/nt/y2pysqbx2wg4rrlhdnq0djrc0000gn/T/ipykernel_70440/75011450.py:10: FutureWarning: In a future version of pandas, a length 1 tuple will be returned when iterating over a groupby with a grouper equal to a list of length 1. Don't supply a list with a single grouper to avoid this warning.\n",
      "  for frame_id, frame_df in group_df.groupby(['frameId']):\n",
      "/var/folders/nt/y2pysqbx2wg4rrlhdnq0djrc0000gn/T/ipykernel_70440/75011450.py:10: FutureWarning: In a future version of pandas, a length 1 tuple will be returned when iterating over a groupby with a grouper equal to a list of length 1. Don't supply a list with a single grouper to avoid this warning.\n",
      "  for frame_id, frame_df in group_df.groupby(['frameId']):\n",
      "/var/folders/nt/y2pysqbx2wg4rrlhdnq0djrc0000gn/T/ipykernel_70440/75011450.py:10: FutureWarning: In a future version of pandas, a length 1 tuple will be returned when iterating over a groupby with a grouper equal to a list of length 1. Don't supply a list with a single grouper to avoid this warning.\n",
      "  for frame_id, frame_df in group_df.groupby(['frameId']):\n",
      "/var/folders/nt/y2pysqbx2wg4rrlhdnq0djrc0000gn/T/ipykernel_70440/75011450.py:10: FutureWarning: In a future version of pandas, a length 1 tuple will be returned when iterating over a groupby with a grouper equal to a list of length 1. Don't supply a list with a single grouper to avoid this warning.\n",
      "  for frame_id, frame_df in group_df.groupby(['frameId']):\n",
      "/var/folders/nt/y2pysqbx2wg4rrlhdnq0djrc0000gn/T/ipykernel_70440/75011450.py:10: FutureWarning: In a future version of pandas, a length 1 tuple will be returned when iterating over a groupby with a grouper equal to a list of length 1. Don't supply a list with a single grouper to avoid this warning.\n",
      "  for frame_id, frame_df in group_df.groupby(['frameId']):\n",
      "/var/folders/nt/y2pysqbx2wg4rrlhdnq0djrc0000gn/T/ipykernel_70440/75011450.py:10: FutureWarning: In a future version of pandas, a length 1 tuple will be returned when iterating over a groupby with a grouper equal to a list of length 1. Don't supply a list with a single grouper to avoid this warning.\n",
      "  for frame_id, frame_df in group_df.groupby(['frameId']):\n",
      "/var/folders/nt/y2pysqbx2wg4rrlhdnq0djrc0000gn/T/ipykernel_70440/75011450.py:10: FutureWarning: In a future version of pandas, a length 1 tuple will be returned when iterating over a groupby with a grouper equal to a list of length 1. Don't supply a list with a single grouper to avoid this warning.\n",
      "  for frame_id, frame_df in group_df.groupby(['frameId']):\n",
      "/var/folders/nt/y2pysqbx2wg4rrlhdnq0djrc0000gn/T/ipykernel_70440/75011450.py:10: FutureWarning: In a future version of pandas, a length 1 tuple will be returned when iterating over a groupby with a grouper equal to a list of length 1. Don't supply a list with a single grouper to avoid this warning.\n",
      "  for frame_id, frame_df in group_df.groupby(['frameId']):\n",
      "/var/folders/nt/y2pysqbx2wg4rrlhdnq0djrc0000gn/T/ipykernel_70440/75011450.py:10: FutureWarning: In a future version of pandas, a length 1 tuple will be returned when iterating over a groupby with a grouper equal to a list of length 1. Don't supply a list with a single grouper to avoid this warning.\n",
      "  for frame_id, frame_df in group_df.groupby(['frameId']):\n",
      "/var/folders/nt/y2pysqbx2wg4rrlhdnq0djrc0000gn/T/ipykernel_70440/75011450.py:10: FutureWarning: In a future version of pandas, a length 1 tuple will be returned when iterating over a groupby with a grouper equal to a list of length 1. Don't supply a list with a single grouper to avoid this warning.\n",
      "  for frame_id, frame_df in group_df.groupby(['frameId']):\n",
      "/var/folders/nt/y2pysqbx2wg4rrlhdnq0djrc0000gn/T/ipykernel_70440/75011450.py:10: FutureWarning: In a future version of pandas, a length 1 tuple will be returned when iterating over a groupby with a grouper equal to a list of length 1. Don't supply a list with a single grouper to avoid this warning.\n",
      "  for frame_id, frame_df in group_df.groupby(['frameId']):\n",
      "/var/folders/nt/y2pysqbx2wg4rrlhdnq0djrc0000gn/T/ipykernel_70440/75011450.py:10: FutureWarning: In a future version of pandas, a length 1 tuple will be returned when iterating over a groupby with a grouper equal to a list of length 1. Don't supply a list with a single grouper to avoid this warning.\n",
      "  for frame_id, frame_df in group_df.groupby(['frameId']):\n",
      "/var/folders/nt/y2pysqbx2wg4rrlhdnq0djrc0000gn/T/ipykernel_70440/75011450.py:10: FutureWarning: In a future version of pandas, a length 1 tuple will be returned when iterating over a groupby with a grouper equal to a list of length 1. Don't supply a list with a single grouper to avoid this warning.\n",
      "  for frame_id, frame_df in group_df.groupby(['frameId']):\n",
      "/var/folders/nt/y2pysqbx2wg4rrlhdnq0djrc0000gn/T/ipykernel_70440/75011450.py:10: FutureWarning: In a future version of pandas, a length 1 tuple will be returned when iterating over a groupby with a grouper equal to a list of length 1. Don't supply a list with a single grouper to avoid this warning.\n",
      "  for frame_id, frame_df in group_df.groupby(['frameId']):\n",
      "/var/folders/nt/y2pysqbx2wg4rrlhdnq0djrc0000gn/T/ipykernel_70440/75011450.py:10: FutureWarning: In a future version of pandas, a length 1 tuple will be returned when iterating over a groupby with a grouper equal to a list of length 1. Don't supply a list with a single grouper to avoid this warning.\n",
      "  for frame_id, frame_df in group_df.groupby(['frameId']):\n"
     ]
    },
    {
     "name": "stdout",
     "output_type": "stream",
     "text": [
      "found a conflict in (2022091100, 2899, 15) at (76, 30)\n",
      "found a conflict in (2022091100, 3289, 17) at (35, 30)\n"
     ]
    },
    {
     "name": "stderr",
     "output_type": "stream",
     "text": [
      "/var/folders/nt/y2pysqbx2wg4rrlhdnq0djrc0000gn/T/ipykernel_70440/75011450.py:10: FutureWarning: In a future version of pandas, a length 1 tuple will be returned when iterating over a groupby with a grouper equal to a list of length 1. Don't supply a list with a single grouper to avoid this warning.\n",
      "  for frame_id, frame_df in group_df.groupby(['frameId']):\n",
      "/var/folders/nt/y2pysqbx2wg4rrlhdnq0djrc0000gn/T/ipykernel_70440/75011450.py:10: FutureWarning: In a future version of pandas, a length 1 tuple will be returned when iterating over a groupby with a grouper equal to a list of length 1. Don't supply a list with a single grouper to avoid this warning.\n",
      "  for frame_id, frame_df in group_df.groupby(['frameId']):\n",
      "/var/folders/nt/y2pysqbx2wg4rrlhdnq0djrc0000gn/T/ipykernel_70440/75011450.py:10: FutureWarning: In a future version of pandas, a length 1 tuple will be returned when iterating over a groupby with a grouper equal to a list of length 1. Don't supply a list with a single grouper to avoid this warning.\n",
      "  for frame_id, frame_df in group_df.groupby(['frameId']):\n",
      "/var/folders/nt/y2pysqbx2wg4rrlhdnq0djrc0000gn/T/ipykernel_70440/75011450.py:10: FutureWarning: In a future version of pandas, a length 1 tuple will be returned when iterating over a groupby with a grouper equal to a list of length 1. Don't supply a list with a single grouper to avoid this warning.\n",
      "  for frame_id, frame_df in group_df.groupby(['frameId']):\n",
      "/var/folders/nt/y2pysqbx2wg4rrlhdnq0djrc0000gn/T/ipykernel_70440/75011450.py:10: FutureWarning: In a future version of pandas, a length 1 tuple will be returned when iterating over a groupby with a grouper equal to a list of length 1. Don't supply a list with a single grouper to avoid this warning.\n",
      "  for frame_id, frame_df in group_df.groupby(['frameId']):\n",
      "/var/folders/nt/y2pysqbx2wg4rrlhdnq0djrc0000gn/T/ipykernel_70440/75011450.py:10: FutureWarning: In a future version of pandas, a length 1 tuple will be returned when iterating over a groupby with a grouper equal to a list of length 1. Don't supply a list with a single grouper to avoid this warning.\n",
      "  for frame_id, frame_df in group_df.groupby(['frameId']):\n",
      "/var/folders/nt/y2pysqbx2wg4rrlhdnq0djrc0000gn/T/ipykernel_70440/75011450.py:10: FutureWarning: In a future version of pandas, a length 1 tuple will be returned when iterating over a groupby with a grouper equal to a list of length 1. Don't supply a list with a single grouper to avoid this warning.\n",
      "  for frame_id, frame_df in group_df.groupby(['frameId']):\n",
      "/var/folders/nt/y2pysqbx2wg4rrlhdnq0djrc0000gn/T/ipykernel_70440/75011450.py:10: FutureWarning: In a future version of pandas, a length 1 tuple will be returned when iterating over a groupby with a grouper equal to a list of length 1. Don't supply a list with a single grouper to avoid this warning.\n",
      "  for frame_id, frame_df in group_df.groupby(['frameId']):\n",
      "/var/folders/nt/y2pysqbx2wg4rrlhdnq0djrc0000gn/T/ipykernel_70440/75011450.py:10: FutureWarning: In a future version of pandas, a length 1 tuple will be returned when iterating over a groupby with a grouper equal to a list of length 1. Don't supply a list with a single grouper to avoid this warning.\n",
      "  for frame_id, frame_df in group_df.groupby(['frameId']):\n",
      "/var/folders/nt/y2pysqbx2wg4rrlhdnq0djrc0000gn/T/ipykernel_70440/75011450.py:10: FutureWarning: In a future version of pandas, a length 1 tuple will be returned when iterating over a groupby with a grouper equal to a list of length 1. Don't supply a list with a single grouper to avoid this warning.\n",
      "  for frame_id, frame_df in group_df.groupby(['frameId']):\n",
      "/var/folders/nt/y2pysqbx2wg4rrlhdnq0djrc0000gn/T/ipykernel_70440/75011450.py:10: FutureWarning: In a future version of pandas, a length 1 tuple will be returned when iterating over a groupby with a grouper equal to a list of length 1. Don't supply a list with a single grouper to avoid this warning.\n",
      "  for frame_id, frame_df in group_df.groupby(['frameId']):\n",
      "/var/folders/nt/y2pysqbx2wg4rrlhdnq0djrc0000gn/T/ipykernel_70440/75011450.py:10: FutureWarning: In a future version of pandas, a length 1 tuple will be returned when iterating over a groupby with a grouper equal to a list of length 1. Don't supply a list with a single grouper to avoid this warning.\n",
      "  for frame_id, frame_df in group_df.groupby(['frameId']):\n",
      "/var/folders/nt/y2pysqbx2wg4rrlhdnq0djrc0000gn/T/ipykernel_70440/75011450.py:10: FutureWarning: In a future version of pandas, a length 1 tuple will be returned when iterating over a groupby with a grouper equal to a list of length 1. Don't supply a list with a single grouper to avoid this warning.\n",
      "  for frame_id, frame_df in group_df.groupby(['frameId']):\n",
      "/var/folders/nt/y2pysqbx2wg4rrlhdnq0djrc0000gn/T/ipykernel_70440/75011450.py:10: FutureWarning: In a future version of pandas, a length 1 tuple will be returned when iterating over a groupby with a grouper equal to a list of length 1. Don't supply a list with a single grouper to avoid this warning.\n",
      "  for frame_id, frame_df in group_df.groupby(['frameId']):\n",
      "/var/folders/nt/y2pysqbx2wg4rrlhdnq0djrc0000gn/T/ipykernel_70440/75011450.py:10: FutureWarning: In a future version of pandas, a length 1 tuple will be returned when iterating over a groupby with a grouper equal to a list of length 1. Don't supply a list with a single grouper to avoid this warning.\n",
      "  for frame_id, frame_df in group_df.groupby(['frameId']):\n",
      "/var/folders/nt/y2pysqbx2wg4rrlhdnq0djrc0000gn/T/ipykernel_70440/75011450.py:10: FutureWarning: In a future version of pandas, a length 1 tuple will be returned when iterating over a groupby with a grouper equal to a list of length 1. Don't supply a list with a single grouper to avoid this warning.\n",
      "  for frame_id, frame_df in group_df.groupby(['frameId']):\n",
      "/var/folders/nt/y2pysqbx2wg4rrlhdnq0djrc0000gn/T/ipykernel_70440/75011450.py:10: FutureWarning: In a future version of pandas, a length 1 tuple will be returned when iterating over a groupby with a grouper equal to a list of length 1. Don't supply a list with a single grouper to avoid this warning.\n",
      "  for frame_id, frame_df in group_df.groupby(['frameId']):\n",
      "/var/folders/nt/y2pysqbx2wg4rrlhdnq0djrc0000gn/T/ipykernel_70440/75011450.py:10: FutureWarning: In a future version of pandas, a length 1 tuple will be returned when iterating over a groupby with a grouper equal to a list of length 1. Don't supply a list with a single grouper to avoid this warning.\n",
      "  for frame_id, frame_df in group_df.groupby(['frameId']):\n",
      "/var/folders/nt/y2pysqbx2wg4rrlhdnq0djrc0000gn/T/ipykernel_70440/75011450.py:10: FutureWarning: In a future version of pandas, a length 1 tuple will be returned when iterating over a groupby with a grouper equal to a list of length 1. Don't supply a list with a single grouper to avoid this warning.\n",
      "  for frame_id, frame_df in group_df.groupby(['frameId']):\n"
     ]
    },
    {
     "name": "stdout",
     "output_type": "stream",
     "text": [
      "found a conflict in (2022091101, 361, 15) at (45, 31)\n"
     ]
    },
    {
     "name": "stderr",
     "output_type": "stream",
     "text": [
      "/var/folders/nt/y2pysqbx2wg4rrlhdnq0djrc0000gn/T/ipykernel_70440/75011450.py:10: FutureWarning: In a future version of pandas, a length 1 tuple will be returned when iterating over a groupby with a grouper equal to a list of length 1. Don't supply a list with a single grouper to avoid this warning.\n",
      "  for frame_id, frame_df in group_df.groupby(['frameId']):\n",
      "/var/folders/nt/y2pysqbx2wg4rrlhdnq0djrc0000gn/T/ipykernel_70440/75011450.py:10: FutureWarning: In a future version of pandas, a length 1 tuple will be returned when iterating over a groupby with a grouper equal to a list of length 1. Don't supply a list with a single grouper to avoid this warning.\n",
      "  for frame_id, frame_df in group_df.groupby(['frameId']):\n",
      "/var/folders/nt/y2pysqbx2wg4rrlhdnq0djrc0000gn/T/ipykernel_70440/75011450.py:10: FutureWarning: In a future version of pandas, a length 1 tuple will be returned when iterating over a groupby with a grouper equal to a list of length 1. Don't supply a list with a single grouper to avoid this warning.\n",
      "  for frame_id, frame_df in group_df.groupby(['frameId']):\n",
      "/var/folders/nt/y2pysqbx2wg4rrlhdnq0djrc0000gn/T/ipykernel_70440/75011450.py:10: FutureWarning: In a future version of pandas, a length 1 tuple will be returned when iterating over a groupby with a grouper equal to a list of length 1. Don't supply a list with a single grouper to avoid this warning.\n",
      "  for frame_id, frame_df in group_df.groupby(['frameId']):\n",
      "/var/folders/nt/y2pysqbx2wg4rrlhdnq0djrc0000gn/T/ipykernel_70440/75011450.py:10: FutureWarning: In a future version of pandas, a length 1 tuple will be returned when iterating over a groupby with a grouper equal to a list of length 1. Don't supply a list with a single grouper to avoid this warning.\n",
      "  for frame_id, frame_df in group_df.groupby(['frameId']):\n",
      "/var/folders/nt/y2pysqbx2wg4rrlhdnq0djrc0000gn/T/ipykernel_70440/75011450.py:10: FutureWarning: In a future version of pandas, a length 1 tuple will be returned when iterating over a groupby with a grouper equal to a list of length 1. Don't supply a list with a single grouper to avoid this warning.\n",
      "  for frame_id, frame_df in group_df.groupby(['frameId']):\n",
      "/var/folders/nt/y2pysqbx2wg4rrlhdnq0djrc0000gn/T/ipykernel_70440/75011450.py:10: FutureWarning: In a future version of pandas, a length 1 tuple will be returned when iterating over a groupby with a grouper equal to a list of length 1. Don't supply a list with a single grouper to avoid this warning.\n",
      "  for frame_id, frame_df in group_df.groupby(['frameId']):\n",
      "/var/folders/nt/y2pysqbx2wg4rrlhdnq0djrc0000gn/T/ipykernel_70440/75011450.py:10: FutureWarning: In a future version of pandas, a length 1 tuple will be returned when iterating over a groupby with a grouper equal to a list of length 1. Don't supply a list with a single grouper to avoid this warning.\n",
      "  for frame_id, frame_df in group_df.groupby(['frameId']):\n",
      "/var/folders/nt/y2pysqbx2wg4rrlhdnq0djrc0000gn/T/ipykernel_70440/75011450.py:10: FutureWarning: In a future version of pandas, a length 1 tuple will be returned when iterating over a groupby with a grouper equal to a list of length 1. Don't supply a list with a single grouper to avoid this warning.\n",
      "  for frame_id, frame_df in group_df.groupby(['frameId']):\n",
      "/var/folders/nt/y2pysqbx2wg4rrlhdnq0djrc0000gn/T/ipykernel_70440/75011450.py:10: FutureWarning: In a future version of pandas, a length 1 tuple will be returned when iterating over a groupby with a grouper equal to a list of length 1. Don't supply a list with a single grouper to avoid this warning.\n",
      "  for frame_id, frame_df in group_df.groupby(['frameId']):\n",
      "/var/folders/nt/y2pysqbx2wg4rrlhdnq0djrc0000gn/T/ipykernel_70440/75011450.py:10: FutureWarning: In a future version of pandas, a length 1 tuple will be returned when iterating over a groupby with a grouper equal to a list of length 1. Don't supply a list with a single grouper to avoid this warning.\n",
      "  for frame_id, frame_df in group_df.groupby(['frameId']):\n",
      "/var/folders/nt/y2pysqbx2wg4rrlhdnq0djrc0000gn/T/ipykernel_70440/75011450.py:10: FutureWarning: In a future version of pandas, a length 1 tuple will be returned when iterating over a groupby with a grouper equal to a list of length 1. Don't supply a list with a single grouper to avoid this warning.\n",
      "  for frame_id, frame_df in group_df.groupby(['frameId']):\n",
      "/var/folders/nt/y2pysqbx2wg4rrlhdnq0djrc0000gn/T/ipykernel_70440/75011450.py:10: FutureWarning: In a future version of pandas, a length 1 tuple will be returned when iterating over a groupby with a grouper equal to a list of length 1. Don't supply a list with a single grouper to avoid this warning.\n",
      "  for frame_id, frame_df in group_df.groupby(['frameId']):\n",
      "/var/folders/nt/y2pysqbx2wg4rrlhdnq0djrc0000gn/T/ipykernel_70440/75011450.py:10: FutureWarning: In a future version of pandas, a length 1 tuple will be returned when iterating over a groupby with a grouper equal to a list of length 1. Don't supply a list with a single grouper to avoid this warning.\n",
      "  for frame_id, frame_df in group_df.groupby(['frameId']):\n",
      "/var/folders/nt/y2pysqbx2wg4rrlhdnq0djrc0000gn/T/ipykernel_70440/75011450.py:10: FutureWarning: In a future version of pandas, a length 1 tuple will be returned when iterating over a groupby with a grouper equal to a list of length 1. Don't supply a list with a single grouper to avoid this warning.\n",
      "  for frame_id, frame_df in group_df.groupby(['frameId']):\n"
     ]
    },
    {
     "name": "stdout",
     "output_type": "stream",
     "text": [
      "found a conflict in (2022091101, 1901, 18) at (48, 24)\n",
      "found a conflict in (2022091101, 1901, 19) at (48, 24)\n",
      "found a conflict in (2022091101, 1901, 20) at (48, 24)\n"
     ]
    },
    {
     "name": "stderr",
     "output_type": "stream",
     "text": [
      "/var/folders/nt/y2pysqbx2wg4rrlhdnq0djrc0000gn/T/ipykernel_70440/75011450.py:10: FutureWarning: In a future version of pandas, a length 1 tuple will be returned when iterating over a groupby with a grouper equal to a list of length 1. Don't supply a list with a single grouper to avoid this warning.\n",
      "  for frame_id, frame_df in group_df.groupby(['frameId']):\n",
      "/var/folders/nt/y2pysqbx2wg4rrlhdnq0djrc0000gn/T/ipykernel_70440/75011450.py:10: FutureWarning: In a future version of pandas, a length 1 tuple will be returned when iterating over a groupby with a grouper equal to a list of length 1. Don't supply a list with a single grouper to avoid this warning.\n",
      "  for frame_id, frame_df in group_df.groupby(['frameId']):\n",
      "/var/folders/nt/y2pysqbx2wg4rrlhdnq0djrc0000gn/T/ipykernel_70440/75011450.py:10: FutureWarning: In a future version of pandas, a length 1 tuple will be returned when iterating over a groupby with a grouper equal to a list of length 1. Don't supply a list with a single grouper to avoid this warning.\n",
      "  for frame_id, frame_df in group_df.groupby(['frameId']):\n",
      "/var/folders/nt/y2pysqbx2wg4rrlhdnq0djrc0000gn/T/ipykernel_70440/75011450.py:10: FutureWarning: In a future version of pandas, a length 1 tuple will be returned when iterating over a groupby with a grouper equal to a list of length 1. Don't supply a list with a single grouper to avoid this warning.\n",
      "  for frame_id, frame_df in group_df.groupby(['frameId']):\n",
      "/var/folders/nt/y2pysqbx2wg4rrlhdnq0djrc0000gn/T/ipykernel_70440/75011450.py:10: FutureWarning: In a future version of pandas, a length 1 tuple will be returned when iterating over a groupby with a grouper equal to a list of length 1. Don't supply a list with a single grouper to avoid this warning.\n",
      "  for frame_id, frame_df in group_df.groupby(['frameId']):\n"
     ]
    },
    {
     "name": "stdout",
     "output_type": "stream",
     "text": [
      "found a conflict in (2022091101, 2452, 15) at (58, 27)\n",
      "found a conflict in (2022091101, 2452, 16) at (58, 27)\n",
      "found a conflict in (2022091101, 2452, 17) at (55, 23)\n",
      "found a conflict in (2022091101, 2478, 16) at (74, 18)\n",
      "found a conflict in (2022091101, 2478, 17) at (74, 18)\n",
      "found a conflict in (2022091101, 2478, 18) at (74, 18)\n",
      "found a conflict in (2022091101, 2629, 15) at (27, 25)\n",
      "found a conflict in (2022091101, 2629, 20) at (27, 26)\n"
     ]
    },
    {
     "name": "stderr",
     "output_type": "stream",
     "text": [
      "/var/folders/nt/y2pysqbx2wg4rrlhdnq0djrc0000gn/T/ipykernel_70440/75011450.py:10: FutureWarning: In a future version of pandas, a length 1 tuple will be returned when iterating over a groupby with a grouper equal to a list of length 1. Don't supply a list with a single grouper to avoid this warning.\n",
      "  for frame_id, frame_df in group_df.groupby(['frameId']):\n",
      "/var/folders/nt/y2pysqbx2wg4rrlhdnq0djrc0000gn/T/ipykernel_70440/75011450.py:10: FutureWarning: In a future version of pandas, a length 1 tuple will be returned when iterating over a groupby with a grouper equal to a list of length 1. Don't supply a list with a single grouper to avoid this warning.\n",
      "  for frame_id, frame_df in group_df.groupby(['frameId']):\n",
      "/var/folders/nt/y2pysqbx2wg4rrlhdnq0djrc0000gn/T/ipykernel_70440/75011450.py:10: FutureWarning: In a future version of pandas, a length 1 tuple will be returned when iterating over a groupby with a grouper equal to a list of length 1. Don't supply a list with a single grouper to avoid this warning.\n",
      "  for frame_id, frame_df in group_df.groupby(['frameId']):\n",
      "/var/folders/nt/y2pysqbx2wg4rrlhdnq0djrc0000gn/T/ipykernel_70440/75011450.py:10: FutureWarning: In a future version of pandas, a length 1 tuple will be returned when iterating over a groupby with a grouper equal to a list of length 1. Don't supply a list with a single grouper to avoid this warning.\n",
      "  for frame_id, frame_df in group_df.groupby(['frameId']):\n",
      "/var/folders/nt/y2pysqbx2wg4rrlhdnq0djrc0000gn/T/ipykernel_70440/75011450.py:10: FutureWarning: In a future version of pandas, a length 1 tuple will be returned when iterating over a groupby with a grouper equal to a list of length 1. Don't supply a list with a single grouper to avoid this warning.\n",
      "  for frame_id, frame_df in group_df.groupby(['frameId']):\n",
      "/var/folders/nt/y2pysqbx2wg4rrlhdnq0djrc0000gn/T/ipykernel_70440/75011450.py:10: FutureWarning: In a future version of pandas, a length 1 tuple will be returned when iterating over a groupby with a grouper equal to a list of length 1. Don't supply a list with a single grouper to avoid this warning.\n",
      "  for frame_id, frame_df in group_df.groupby(['frameId']):\n",
      "/var/folders/nt/y2pysqbx2wg4rrlhdnq0djrc0000gn/T/ipykernel_70440/75011450.py:10: FutureWarning: In a future version of pandas, a length 1 tuple will be returned when iterating over a groupby with a grouper equal to a list of length 1. Don't supply a list with a single grouper to avoid this warning.\n",
      "  for frame_id, frame_df in group_df.groupby(['frameId']):\n",
      "/var/folders/nt/y2pysqbx2wg4rrlhdnq0djrc0000gn/T/ipykernel_70440/75011450.py:10: FutureWarning: In a future version of pandas, a length 1 tuple will be returned when iterating over a groupby with a grouper equal to a list of length 1. Don't supply a list with a single grouper to avoid this warning.\n",
      "  for frame_id, frame_df in group_df.groupby(['frameId']):\n",
      "/var/folders/nt/y2pysqbx2wg4rrlhdnq0djrc0000gn/T/ipykernel_70440/75011450.py:10: FutureWarning: In a future version of pandas, a length 1 tuple will be returned when iterating over a groupby with a grouper equal to a list of length 1. Don't supply a list with a single grouper to avoid this warning.\n",
      "  for frame_id, frame_df in group_df.groupby(['frameId']):\n",
      "/var/folders/nt/y2pysqbx2wg4rrlhdnq0djrc0000gn/T/ipykernel_70440/75011450.py:10: FutureWarning: In a future version of pandas, a length 1 tuple will be returned when iterating over a groupby with a grouper equal to a list of length 1. Don't supply a list with a single grouper to avoid this warning.\n",
      "  for frame_id, frame_df in group_df.groupby(['frameId']):\n",
      "/var/folders/nt/y2pysqbx2wg4rrlhdnq0djrc0000gn/T/ipykernel_70440/75011450.py:10: FutureWarning: In a future version of pandas, a length 1 tuple will be returned when iterating over a groupby with a grouper equal to a list of length 1. Don't supply a list with a single grouper to avoid this warning.\n",
      "  for frame_id, frame_df in group_df.groupby(['frameId']):\n"
     ]
    },
    {
     "name": "stdout",
     "output_type": "stream",
     "text": [
      "found a conflict in (2022091101, 2930, 16) at (41, 31)\n",
      "found a conflict in (2022091101, 2930, 17) at (41, 31)\n"
     ]
    },
    {
     "name": "stderr",
     "output_type": "stream",
     "text": [
      "/var/folders/nt/y2pysqbx2wg4rrlhdnq0djrc0000gn/T/ipykernel_70440/75011450.py:10: FutureWarning: In a future version of pandas, a length 1 tuple will be returned when iterating over a groupby with a grouper equal to a list of length 1. Don't supply a list with a single grouper to avoid this warning.\n",
      "  for frame_id, frame_df in group_df.groupby(['frameId']):\n",
      "/var/folders/nt/y2pysqbx2wg4rrlhdnq0djrc0000gn/T/ipykernel_70440/75011450.py:10: FutureWarning: In a future version of pandas, a length 1 tuple will be returned when iterating over a groupby with a grouper equal to a list of length 1. Don't supply a list with a single grouper to avoid this warning.\n",
      "  for frame_id, frame_df in group_df.groupby(['frameId']):\n",
      "/var/folders/nt/y2pysqbx2wg4rrlhdnq0djrc0000gn/T/ipykernel_70440/75011450.py:10: FutureWarning: In a future version of pandas, a length 1 tuple will be returned when iterating over a groupby with a grouper equal to a list of length 1. Don't supply a list with a single grouper to avoid this warning.\n",
      "  for frame_id, frame_df in group_df.groupby(['frameId']):\n",
      "/var/folders/nt/y2pysqbx2wg4rrlhdnq0djrc0000gn/T/ipykernel_70440/75011450.py:10: FutureWarning: In a future version of pandas, a length 1 tuple will be returned when iterating over a groupby with a grouper equal to a list of length 1. Don't supply a list with a single grouper to avoid this warning.\n",
      "  for frame_id, frame_df in group_df.groupby(['frameId']):\n",
      "/var/folders/nt/y2pysqbx2wg4rrlhdnq0djrc0000gn/T/ipykernel_70440/75011450.py:10: FutureWarning: In a future version of pandas, a length 1 tuple will be returned when iterating over a groupby with a grouper equal to a list of length 1. Don't supply a list with a single grouper to avoid this warning.\n",
      "  for frame_id, frame_df in group_df.groupby(['frameId']):\n",
      "/var/folders/nt/y2pysqbx2wg4rrlhdnq0djrc0000gn/T/ipykernel_70440/75011450.py:10: FutureWarning: In a future version of pandas, a length 1 tuple will be returned when iterating over a groupby with a grouper equal to a list of length 1. Don't supply a list with a single grouper to avoid this warning.\n",
      "  for frame_id, frame_df in group_df.groupby(['frameId']):\n",
      "/var/folders/nt/y2pysqbx2wg4rrlhdnq0djrc0000gn/T/ipykernel_70440/75011450.py:10: FutureWarning: In a future version of pandas, a length 1 tuple will be returned when iterating over a groupby with a grouper equal to a list of length 1. Don't supply a list with a single grouper to avoid this warning.\n",
      "  for frame_id, frame_df in group_df.groupby(['frameId']):\n",
      "/var/folders/nt/y2pysqbx2wg4rrlhdnq0djrc0000gn/T/ipykernel_70440/75011450.py:10: FutureWarning: In a future version of pandas, a length 1 tuple will be returned when iterating over a groupby with a grouper equal to a list of length 1. Don't supply a list with a single grouper to avoid this warning.\n",
      "  for frame_id, frame_df in group_df.groupby(['frameId']):\n",
      "/var/folders/nt/y2pysqbx2wg4rrlhdnq0djrc0000gn/T/ipykernel_70440/75011450.py:10: FutureWarning: In a future version of pandas, a length 1 tuple will be returned when iterating over a groupby with a grouper equal to a list of length 1. Don't supply a list with a single grouper to avoid this warning.\n",
      "  for frame_id, frame_df in group_df.groupby(['frameId']):\n",
      "/var/folders/nt/y2pysqbx2wg4rrlhdnq0djrc0000gn/T/ipykernel_70440/75011450.py:10: FutureWarning: In a future version of pandas, a length 1 tuple will be returned when iterating over a groupby with a grouper equal to a list of length 1. Don't supply a list with a single grouper to avoid this warning.\n",
      "  for frame_id, frame_df in group_df.groupby(['frameId']):\n",
      "/var/folders/nt/y2pysqbx2wg4rrlhdnq0djrc0000gn/T/ipykernel_70440/75011450.py:10: FutureWarning: In a future version of pandas, a length 1 tuple will be returned when iterating over a groupby with a grouper equal to a list of length 1. Don't supply a list with a single grouper to avoid this warning.\n",
      "  for frame_id, frame_df in group_df.groupby(['frameId']):\n",
      "/var/folders/nt/y2pysqbx2wg4rrlhdnq0djrc0000gn/T/ipykernel_70440/75011450.py:10: FutureWarning: In a future version of pandas, a length 1 tuple will be returned when iterating over a groupby with a grouper equal to a list of length 1. Don't supply a list with a single grouper to avoid this warning.\n",
      "  for frame_id, frame_df in group_df.groupby(['frameId']):\n",
      "/var/folders/nt/y2pysqbx2wg4rrlhdnq0djrc0000gn/T/ipykernel_70440/75011450.py:10: FutureWarning: In a future version of pandas, a length 1 tuple will be returned when iterating over a groupby with a grouper equal to a list of length 1. Don't supply a list with a single grouper to avoid this warning.\n",
      "  for frame_id, frame_df in group_df.groupby(['frameId']):\n",
      "/var/folders/nt/y2pysqbx2wg4rrlhdnq0djrc0000gn/T/ipykernel_70440/75011450.py:10: FutureWarning: In a future version of pandas, a length 1 tuple will be returned when iterating over a groupby with a grouper equal to a list of length 1. Don't supply a list with a single grouper to avoid this warning.\n",
      "  for frame_id, frame_df in group_df.groupby(['frameId']):\n",
      "/var/folders/nt/y2pysqbx2wg4rrlhdnq0djrc0000gn/T/ipykernel_70440/75011450.py:10: FutureWarning: In a future version of pandas, a length 1 tuple will be returned when iterating over a groupby with a grouper equal to a list of length 1. Don't supply a list with a single grouper to avoid this warning.\n",
      "  for frame_id, frame_df in group_df.groupby(['frameId']):\n",
      "/var/folders/nt/y2pysqbx2wg4rrlhdnq0djrc0000gn/T/ipykernel_70440/75011450.py:10: FutureWarning: In a future version of pandas, a length 1 tuple will be returned when iterating over a groupby with a grouper equal to a list of length 1. Don't supply a list with a single grouper to avoid this warning.\n",
      "  for frame_id, frame_df in group_df.groupby(['frameId']):\n",
      "/var/folders/nt/y2pysqbx2wg4rrlhdnq0djrc0000gn/T/ipykernel_70440/75011450.py:10: FutureWarning: In a future version of pandas, a length 1 tuple will be returned when iterating over a groupby with a grouper equal to a list of length 1. Don't supply a list with a single grouper to avoid this warning.\n",
      "  for frame_id, frame_df in group_df.groupby(['frameId']):\n",
      "/var/folders/nt/y2pysqbx2wg4rrlhdnq0djrc0000gn/T/ipykernel_70440/75011450.py:10: FutureWarning: In a future version of pandas, a length 1 tuple will be returned when iterating over a groupby with a grouper equal to a list of length 1. Don't supply a list with a single grouper to avoid this warning.\n",
      "  for frame_id, frame_df in group_df.groupby(['frameId']):\n",
      "/var/folders/nt/y2pysqbx2wg4rrlhdnq0djrc0000gn/T/ipykernel_70440/75011450.py:10: FutureWarning: In a future version of pandas, a length 1 tuple will be returned when iterating over a groupby with a grouper equal to a list of length 1. Don't supply a list with a single grouper to avoid this warning.\n",
      "  for frame_id, frame_df in group_df.groupby(['frameId']):\n"
     ]
    },
    {
     "name": "stdout",
     "output_type": "stream",
     "text": [
      "found a conflict in (2022091101, 3923, 15) at (94, 24)\n"
     ]
    },
    {
     "name": "stderr",
     "output_type": "stream",
     "text": [
      "/var/folders/nt/y2pysqbx2wg4rrlhdnq0djrc0000gn/T/ipykernel_70440/75011450.py:10: FutureWarning: In a future version of pandas, a length 1 tuple will be returned when iterating over a groupby with a grouper equal to a list of length 1. Don't supply a list with a single grouper to avoid this warning.\n",
      "  for frame_id, frame_df in group_df.groupby(['frameId']):\n",
      "/var/folders/nt/y2pysqbx2wg4rrlhdnq0djrc0000gn/T/ipykernel_70440/75011450.py:10: FutureWarning: In a future version of pandas, a length 1 tuple will be returned when iterating over a groupby with a grouper equal to a list of length 1. Don't supply a list with a single grouper to avoid this warning.\n",
      "  for frame_id, frame_df in group_df.groupby(['frameId']):\n",
      "/var/folders/nt/y2pysqbx2wg4rrlhdnq0djrc0000gn/T/ipykernel_70440/75011450.py:10: FutureWarning: In a future version of pandas, a length 1 tuple will be returned when iterating over a groupby with a grouper equal to a list of length 1. Don't supply a list with a single grouper to avoid this warning.\n",
      "  for frame_id, frame_df in group_df.groupby(['frameId']):\n",
      "/var/folders/nt/y2pysqbx2wg4rrlhdnq0djrc0000gn/T/ipykernel_70440/75011450.py:10: FutureWarning: In a future version of pandas, a length 1 tuple will be returned when iterating over a groupby with a grouper equal to a list of length 1. Don't supply a list with a single grouper to avoid this warning.\n",
      "  for frame_id, frame_df in group_df.groupby(['frameId']):\n",
      "/var/folders/nt/y2pysqbx2wg4rrlhdnq0djrc0000gn/T/ipykernel_70440/75011450.py:10: FutureWarning: In a future version of pandas, a length 1 tuple will be returned when iterating over a groupby with a grouper equal to a list of length 1. Don't supply a list with a single grouper to avoid this warning.\n",
      "  for frame_id, frame_df in group_df.groupby(['frameId']):\n",
      "/var/folders/nt/y2pysqbx2wg4rrlhdnq0djrc0000gn/T/ipykernel_70440/75011450.py:10: FutureWarning: In a future version of pandas, a length 1 tuple will be returned when iterating over a groupby with a grouper equal to a list of length 1. Don't supply a list with a single grouper to avoid this warning.\n",
      "  for frame_id, frame_df in group_df.groupby(['frameId']):\n"
     ]
    },
    {
     "name": "stdout",
     "output_type": "stream",
     "text": [
      "found a conflict in (2022091102, 467, 18) at (41, 30)\n",
      "found a conflict in (2022091102, 574, 16) at (78, 28)\n",
      "found a conflict in (2022091102, 698, 17) at (17, 26)\n",
      "found a conflict in (2022091102, 698, 18) at (18, 24)\n",
      "found a conflict in (2022091102, 719, 20) at (26, 28)\n",
      "found a conflict in (2022091102, 800, 18) at (36, 32)\n"
     ]
    },
    {
     "name": "stderr",
     "output_type": "stream",
     "text": [
      "/var/folders/nt/y2pysqbx2wg4rrlhdnq0djrc0000gn/T/ipykernel_70440/75011450.py:10: FutureWarning: In a future version of pandas, a length 1 tuple will be returned when iterating over a groupby with a grouper equal to a list of length 1. Don't supply a list with a single grouper to avoid this warning.\n",
      "  for frame_id, frame_df in group_df.groupby(['frameId']):\n",
      "/var/folders/nt/y2pysqbx2wg4rrlhdnq0djrc0000gn/T/ipykernel_70440/75011450.py:10: FutureWarning: In a future version of pandas, a length 1 tuple will be returned when iterating over a groupby with a grouper equal to a list of length 1. Don't supply a list with a single grouper to avoid this warning.\n",
      "  for frame_id, frame_df in group_df.groupby(['frameId']):\n",
      "/var/folders/nt/y2pysqbx2wg4rrlhdnq0djrc0000gn/T/ipykernel_70440/75011450.py:10: FutureWarning: In a future version of pandas, a length 1 tuple will be returned when iterating over a groupby with a grouper equal to a list of length 1. Don't supply a list with a single grouper to avoid this warning.\n",
      "  for frame_id, frame_df in group_df.groupby(['frameId']):\n",
      "/var/folders/nt/y2pysqbx2wg4rrlhdnq0djrc0000gn/T/ipykernel_70440/75011450.py:10: FutureWarning: In a future version of pandas, a length 1 tuple will be returned when iterating over a groupby with a grouper equal to a list of length 1. Don't supply a list with a single grouper to avoid this warning.\n",
      "  for frame_id, frame_df in group_df.groupby(['frameId']):\n",
      "/var/folders/nt/y2pysqbx2wg4rrlhdnq0djrc0000gn/T/ipykernel_70440/75011450.py:10: FutureWarning: In a future version of pandas, a length 1 tuple will be returned when iterating over a groupby with a grouper equal to a list of length 1. Don't supply a list with a single grouper to avoid this warning.\n",
      "  for frame_id, frame_df in group_df.groupby(['frameId']):\n",
      "/var/folders/nt/y2pysqbx2wg4rrlhdnq0djrc0000gn/T/ipykernel_70440/75011450.py:10: FutureWarning: In a future version of pandas, a length 1 tuple will be returned when iterating over a groupby with a grouper equal to a list of length 1. Don't supply a list with a single grouper to avoid this warning.\n",
      "  for frame_id, frame_df in group_df.groupby(['frameId']):\n",
      "/var/folders/nt/y2pysqbx2wg4rrlhdnq0djrc0000gn/T/ipykernel_70440/75011450.py:10: FutureWarning: In a future version of pandas, a length 1 tuple will be returned when iterating over a groupby with a grouper equal to a list of length 1. Don't supply a list with a single grouper to avoid this warning.\n",
      "  for frame_id, frame_df in group_df.groupby(['frameId']):\n",
      "/var/folders/nt/y2pysqbx2wg4rrlhdnq0djrc0000gn/T/ipykernel_70440/75011450.py:10: FutureWarning: In a future version of pandas, a length 1 tuple will be returned when iterating over a groupby with a grouper equal to a list of length 1. Don't supply a list with a single grouper to avoid this warning.\n",
      "  for frame_id, frame_df in group_df.groupby(['frameId']):\n",
      "/var/folders/nt/y2pysqbx2wg4rrlhdnq0djrc0000gn/T/ipykernel_70440/75011450.py:10: FutureWarning: In a future version of pandas, a length 1 tuple will be returned when iterating over a groupby with a grouper equal to a list of length 1. Don't supply a list with a single grouper to avoid this warning.\n",
      "  for frame_id, frame_df in group_df.groupby(['frameId']):\n",
      "/var/folders/nt/y2pysqbx2wg4rrlhdnq0djrc0000gn/T/ipykernel_70440/75011450.py:10: FutureWarning: In a future version of pandas, a length 1 tuple will be returned when iterating over a groupby with a grouper equal to a list of length 1. Don't supply a list with a single grouper to avoid this warning.\n",
      "  for frame_id, frame_df in group_df.groupby(['frameId']):\n",
      "/var/folders/nt/y2pysqbx2wg4rrlhdnq0djrc0000gn/T/ipykernel_70440/75011450.py:10: FutureWarning: In a future version of pandas, a length 1 tuple will be returned when iterating over a groupby with a grouper equal to a list of length 1. Don't supply a list with a single grouper to avoid this warning.\n",
      "  for frame_id, frame_df in group_df.groupby(['frameId']):\n",
      "/var/folders/nt/y2pysqbx2wg4rrlhdnq0djrc0000gn/T/ipykernel_70440/75011450.py:10: FutureWarning: In a future version of pandas, a length 1 tuple will be returned when iterating over a groupby with a grouper equal to a list of length 1. Don't supply a list with a single grouper to avoid this warning.\n",
      "  for frame_id, frame_df in group_df.groupby(['frameId']):\n",
      "/var/folders/nt/y2pysqbx2wg4rrlhdnq0djrc0000gn/T/ipykernel_70440/75011450.py:10: FutureWarning: In a future version of pandas, a length 1 tuple will be returned when iterating over a groupby with a grouper equal to a list of length 1. Don't supply a list with a single grouper to avoid this warning.\n",
      "  for frame_id, frame_df in group_df.groupby(['frameId']):\n",
      "/var/folders/nt/y2pysqbx2wg4rrlhdnq0djrc0000gn/T/ipykernel_70440/75011450.py:10: FutureWarning: In a future version of pandas, a length 1 tuple will be returned when iterating over a groupby with a grouper equal to a list of length 1. Don't supply a list with a single grouper to avoid this warning.\n",
      "  for frame_id, frame_df in group_df.groupby(['frameId']):\n",
      "/var/folders/nt/y2pysqbx2wg4rrlhdnq0djrc0000gn/T/ipykernel_70440/75011450.py:10: FutureWarning: In a future version of pandas, a length 1 tuple will be returned when iterating over a groupby with a grouper equal to a list of length 1. Don't supply a list with a single grouper to avoid this warning.\n",
      "  for frame_id, frame_df in group_df.groupby(['frameId']):\n",
      "/var/folders/nt/y2pysqbx2wg4rrlhdnq0djrc0000gn/T/ipykernel_70440/75011450.py:10: FutureWarning: In a future version of pandas, a length 1 tuple will be returned when iterating over a groupby with a grouper equal to a list of length 1. Don't supply a list with a single grouper to avoid this warning.\n",
      "  for frame_id, frame_df in group_df.groupby(['frameId']):\n",
      "/var/folders/nt/y2pysqbx2wg4rrlhdnq0djrc0000gn/T/ipykernel_70440/75011450.py:10: FutureWarning: In a future version of pandas, a length 1 tuple will be returned when iterating over a groupby with a grouper equal to a list of length 1. Don't supply a list with a single grouper to avoid this warning.\n",
      "  for frame_id, frame_df in group_df.groupby(['frameId']):\n",
      "/var/folders/nt/y2pysqbx2wg4rrlhdnq0djrc0000gn/T/ipykernel_70440/75011450.py:10: FutureWarning: In a future version of pandas, a length 1 tuple will be returned when iterating over a groupby with a grouper equal to a list of length 1. Don't supply a list with a single grouper to avoid this warning.\n",
      "  for frame_id, frame_df in group_df.groupby(['frameId']):\n",
      "/var/folders/nt/y2pysqbx2wg4rrlhdnq0djrc0000gn/T/ipykernel_70440/75011450.py:10: FutureWarning: In a future version of pandas, a length 1 tuple will be returned when iterating over a groupby with a grouper equal to a list of length 1. Don't supply a list with a single grouper to avoid this warning.\n",
      "  for frame_id, frame_df in group_df.groupby(['frameId']):\n",
      "/var/folders/nt/y2pysqbx2wg4rrlhdnq0djrc0000gn/T/ipykernel_70440/75011450.py:10: FutureWarning: In a future version of pandas, a length 1 tuple will be returned when iterating over a groupby with a grouper equal to a list of length 1. Don't supply a list with a single grouper to avoid this warning.\n",
      "  for frame_id, frame_df in group_df.groupby(['frameId']):\n",
      "/var/folders/nt/y2pysqbx2wg4rrlhdnq0djrc0000gn/T/ipykernel_70440/75011450.py:10: FutureWarning: In a future version of pandas, a length 1 tuple will be returned when iterating over a groupby with a grouper equal to a list of length 1. Don't supply a list with a single grouper to avoid this warning.\n",
      "  for frame_id, frame_df in group_df.groupby(['frameId']):\n",
      "/var/folders/nt/y2pysqbx2wg4rrlhdnq0djrc0000gn/T/ipykernel_70440/75011450.py:10: FutureWarning: In a future version of pandas, a length 1 tuple will be returned when iterating over a groupby with a grouper equal to a list of length 1. Don't supply a list with a single grouper to avoid this warning.\n",
      "  for frame_id, frame_df in group_df.groupby(['frameId']):\n"
     ]
    },
    {
     "name": "stdout",
     "output_type": "stream",
     "text": [
      "found a conflict in (2022091102, 1794, 16) at (50, 27)\n",
      "found a conflict in (2022091102, 1869, 17) at (63, 21)\n",
      "found a conflict in (2022091102, 1869, 18) at (63, 21)\n",
      "found a conflict in (2022091102, 1869, 19) at (64, 24)\n"
     ]
    },
    {
     "name": "stderr",
     "output_type": "stream",
     "text": [
      "/var/folders/nt/y2pysqbx2wg4rrlhdnq0djrc0000gn/T/ipykernel_70440/75011450.py:10: FutureWarning: In a future version of pandas, a length 1 tuple will be returned when iterating over a groupby with a grouper equal to a list of length 1. Don't supply a list with a single grouper to avoid this warning.\n",
      "  for frame_id, frame_df in group_df.groupby(['frameId']):\n",
      "/var/folders/nt/y2pysqbx2wg4rrlhdnq0djrc0000gn/T/ipykernel_70440/75011450.py:10: FutureWarning: In a future version of pandas, a length 1 tuple will be returned when iterating over a groupby with a grouper equal to a list of length 1. Don't supply a list with a single grouper to avoid this warning.\n",
      "  for frame_id, frame_df in group_df.groupby(['frameId']):\n",
      "/var/folders/nt/y2pysqbx2wg4rrlhdnq0djrc0000gn/T/ipykernel_70440/75011450.py:10: FutureWarning: In a future version of pandas, a length 1 tuple will be returned when iterating over a groupby with a grouper equal to a list of length 1. Don't supply a list with a single grouper to avoid this warning.\n",
      "  for frame_id, frame_df in group_df.groupby(['frameId']):\n",
      "/var/folders/nt/y2pysqbx2wg4rrlhdnq0djrc0000gn/T/ipykernel_70440/75011450.py:10: FutureWarning: In a future version of pandas, a length 1 tuple will be returned when iterating over a groupby with a grouper equal to a list of length 1. Don't supply a list with a single grouper to avoid this warning.\n",
      "  for frame_id, frame_df in group_df.groupby(['frameId']):\n",
      "/var/folders/nt/y2pysqbx2wg4rrlhdnq0djrc0000gn/T/ipykernel_70440/75011450.py:10: FutureWarning: In a future version of pandas, a length 1 tuple will be returned when iterating over a groupby with a grouper equal to a list of length 1. Don't supply a list with a single grouper to avoid this warning.\n",
      "  for frame_id, frame_df in group_df.groupby(['frameId']):\n",
      "/var/folders/nt/y2pysqbx2wg4rrlhdnq0djrc0000gn/T/ipykernel_70440/75011450.py:10: FutureWarning: In a future version of pandas, a length 1 tuple will be returned when iterating over a groupby with a grouper equal to a list of length 1. Don't supply a list with a single grouper to avoid this warning.\n",
      "  for frame_id, frame_df in group_df.groupby(['frameId']):\n",
      "/var/folders/nt/y2pysqbx2wg4rrlhdnq0djrc0000gn/T/ipykernel_70440/75011450.py:10: FutureWarning: In a future version of pandas, a length 1 tuple will be returned when iterating over a groupby with a grouper equal to a list of length 1. Don't supply a list with a single grouper to avoid this warning.\n",
      "  for frame_id, frame_df in group_df.groupby(['frameId']):\n",
      "/var/folders/nt/y2pysqbx2wg4rrlhdnq0djrc0000gn/T/ipykernel_70440/75011450.py:10: FutureWarning: In a future version of pandas, a length 1 tuple will be returned when iterating over a groupby with a grouper equal to a list of length 1. Don't supply a list with a single grouper to avoid this warning.\n",
      "  for frame_id, frame_df in group_df.groupby(['frameId']):\n",
      "/var/folders/nt/y2pysqbx2wg4rrlhdnq0djrc0000gn/T/ipykernel_70440/75011450.py:10: FutureWarning: In a future version of pandas, a length 1 tuple will be returned when iterating over a groupby with a grouper equal to a list of length 1. Don't supply a list with a single grouper to avoid this warning.\n",
      "  for frame_id, frame_df in group_df.groupby(['frameId']):\n",
      "/var/folders/nt/y2pysqbx2wg4rrlhdnq0djrc0000gn/T/ipykernel_70440/75011450.py:10: FutureWarning: In a future version of pandas, a length 1 tuple will be returned when iterating over a groupby with a grouper equal to a list of length 1. Don't supply a list with a single grouper to avoid this warning.\n",
      "  for frame_id, frame_df in group_df.groupby(['frameId']):\n",
      "/var/folders/nt/y2pysqbx2wg4rrlhdnq0djrc0000gn/T/ipykernel_70440/75011450.py:10: FutureWarning: In a future version of pandas, a length 1 tuple will be returned when iterating over a groupby with a grouper equal to a list of length 1. Don't supply a list with a single grouper to avoid this warning.\n",
      "  for frame_id, frame_df in group_df.groupby(['frameId']):\n",
      "/var/folders/nt/y2pysqbx2wg4rrlhdnq0djrc0000gn/T/ipykernel_70440/75011450.py:10: FutureWarning: In a future version of pandas, a length 1 tuple will be returned when iterating over a groupby with a grouper equal to a list of length 1. Don't supply a list with a single grouper to avoid this warning.\n",
      "  for frame_id, frame_df in group_df.groupby(['frameId']):\n",
      "/var/folders/nt/y2pysqbx2wg4rrlhdnq0djrc0000gn/T/ipykernel_70440/75011450.py:10: FutureWarning: In a future version of pandas, a length 1 tuple will be returned when iterating over a groupby with a grouper equal to a list of length 1. Don't supply a list with a single grouper to avoid this warning.\n",
      "  for frame_id, frame_df in group_df.groupby(['frameId']):\n"
     ]
    },
    {
     "name": "stdout",
     "output_type": "stream",
     "text": [
      "found a conflict in (2022091102, 2373, 14) at (102, 23)\n",
      "found a conflict in (2022091102, 2373, 15) at (102, 23)\n",
      "found a conflict in (2022091102, 2511, 20) at (38, 26)\n"
     ]
    },
    {
     "name": "stderr",
     "output_type": "stream",
     "text": [
      "/var/folders/nt/y2pysqbx2wg4rrlhdnq0djrc0000gn/T/ipykernel_70440/75011450.py:10: FutureWarning: In a future version of pandas, a length 1 tuple will be returned when iterating over a groupby with a grouper equal to a list of length 1. Don't supply a list with a single grouper to avoid this warning.\n",
      "  for frame_id, frame_df in group_df.groupby(['frameId']):\n",
      "/var/folders/nt/y2pysqbx2wg4rrlhdnq0djrc0000gn/T/ipykernel_70440/75011450.py:10: FutureWarning: In a future version of pandas, a length 1 tuple will be returned when iterating over a groupby with a grouper equal to a list of length 1. Don't supply a list with a single grouper to avoid this warning.\n",
      "  for frame_id, frame_df in group_df.groupby(['frameId']):\n",
      "/var/folders/nt/y2pysqbx2wg4rrlhdnq0djrc0000gn/T/ipykernel_70440/75011450.py:10: FutureWarning: In a future version of pandas, a length 1 tuple will be returned when iterating over a groupby with a grouper equal to a list of length 1. Don't supply a list with a single grouper to avoid this warning.\n",
      "  for frame_id, frame_df in group_df.groupby(['frameId']):\n",
      "/var/folders/nt/y2pysqbx2wg4rrlhdnq0djrc0000gn/T/ipykernel_70440/75011450.py:10: FutureWarning: In a future version of pandas, a length 1 tuple will be returned when iterating over a groupby with a grouper equal to a list of length 1. Don't supply a list with a single grouper to avoid this warning.\n",
      "  for frame_id, frame_df in group_df.groupby(['frameId']):\n",
      "/var/folders/nt/y2pysqbx2wg4rrlhdnq0djrc0000gn/T/ipykernel_70440/75011450.py:10: FutureWarning: In a future version of pandas, a length 1 tuple will be returned when iterating over a groupby with a grouper equal to a list of length 1. Don't supply a list with a single grouper to avoid this warning.\n",
      "  for frame_id, frame_df in group_df.groupby(['frameId']):\n",
      "/var/folders/nt/y2pysqbx2wg4rrlhdnq0djrc0000gn/T/ipykernel_70440/75011450.py:10: FutureWarning: In a future version of pandas, a length 1 tuple will be returned when iterating over a groupby with a grouper equal to a list of length 1. Don't supply a list with a single grouper to avoid this warning.\n",
      "  for frame_id, frame_df in group_df.groupby(['frameId']):\n",
      "/var/folders/nt/y2pysqbx2wg4rrlhdnq0djrc0000gn/T/ipykernel_70440/75011450.py:10: FutureWarning: In a future version of pandas, a length 1 tuple will be returned when iterating over a groupby with a grouper equal to a list of length 1. Don't supply a list with a single grouper to avoid this warning.\n",
      "  for frame_id, frame_df in group_df.groupby(['frameId']):\n",
      "/var/folders/nt/y2pysqbx2wg4rrlhdnq0djrc0000gn/T/ipykernel_70440/75011450.py:10: FutureWarning: In a future version of pandas, a length 1 tuple will be returned when iterating over a groupby with a grouper equal to a list of length 1. Don't supply a list with a single grouper to avoid this warning.\n",
      "  for frame_id, frame_df in group_df.groupby(['frameId']):\n",
      "/var/folders/nt/y2pysqbx2wg4rrlhdnq0djrc0000gn/T/ipykernel_70440/75011450.py:10: FutureWarning: In a future version of pandas, a length 1 tuple will be returned when iterating over a groupby with a grouper equal to a list of length 1. Don't supply a list with a single grouper to avoid this warning.\n",
      "  for frame_id, frame_df in group_df.groupby(['frameId']):\n",
      "/var/folders/nt/y2pysqbx2wg4rrlhdnq0djrc0000gn/T/ipykernel_70440/75011450.py:10: FutureWarning: In a future version of pandas, a length 1 tuple will be returned when iterating over a groupby with a grouper equal to a list of length 1. Don't supply a list with a single grouper to avoid this warning.\n",
      "  for frame_id, frame_df in group_df.groupby(['frameId']):\n",
      "/var/folders/nt/y2pysqbx2wg4rrlhdnq0djrc0000gn/T/ipykernel_70440/75011450.py:10: FutureWarning: In a future version of pandas, a length 1 tuple will be returned when iterating over a groupby with a grouper equal to a list of length 1. Don't supply a list with a single grouper to avoid this warning.\n",
      "  for frame_id, frame_df in group_df.groupby(['frameId']):\n",
      "/var/folders/nt/y2pysqbx2wg4rrlhdnq0djrc0000gn/T/ipykernel_70440/75011450.py:10: FutureWarning: In a future version of pandas, a length 1 tuple will be returned when iterating over a groupby with a grouper equal to a list of length 1. Don't supply a list with a single grouper to avoid this warning.\n",
      "  for frame_id, frame_df in group_df.groupby(['frameId']):\n",
      "/var/folders/nt/y2pysqbx2wg4rrlhdnq0djrc0000gn/T/ipykernel_70440/75011450.py:10: FutureWarning: In a future version of pandas, a length 1 tuple will be returned when iterating over a groupby with a grouper equal to a list of length 1. Don't supply a list with a single grouper to avoid this warning.\n",
      "  for frame_id, frame_df in group_df.groupby(['frameId']):\n",
      "/var/folders/nt/y2pysqbx2wg4rrlhdnq0djrc0000gn/T/ipykernel_70440/75011450.py:10: FutureWarning: In a future version of pandas, a length 1 tuple will be returned when iterating over a groupby with a grouper equal to a list of length 1. Don't supply a list with a single grouper to avoid this warning.\n",
      "  for frame_id, frame_df in group_df.groupby(['frameId']):\n",
      "/var/folders/nt/y2pysqbx2wg4rrlhdnq0djrc0000gn/T/ipykernel_70440/75011450.py:10: FutureWarning: In a future version of pandas, a length 1 tuple will be returned when iterating over a groupby with a grouper equal to a list of length 1. Don't supply a list with a single grouper to avoid this warning.\n",
      "  for frame_id, frame_df in group_df.groupby(['frameId']):\n",
      "/var/folders/nt/y2pysqbx2wg4rrlhdnq0djrc0000gn/T/ipykernel_70440/75011450.py:10: FutureWarning: In a future version of pandas, a length 1 tuple will be returned when iterating over a groupby with a grouper equal to a list of length 1. Don't supply a list with a single grouper to avoid this warning.\n",
      "  for frame_id, frame_df in group_df.groupby(['frameId']):\n",
      "/var/folders/nt/y2pysqbx2wg4rrlhdnq0djrc0000gn/T/ipykernel_70440/75011450.py:10: FutureWarning: In a future version of pandas, a length 1 tuple will be returned when iterating over a groupby with a grouper equal to a list of length 1. Don't supply a list with a single grouper to avoid this warning.\n",
      "  for frame_id, frame_df in group_df.groupby(['frameId']):\n",
      "/var/folders/nt/y2pysqbx2wg4rrlhdnq0djrc0000gn/T/ipykernel_70440/75011450.py:10: FutureWarning: In a future version of pandas, a length 1 tuple will be returned when iterating over a groupby with a grouper equal to a list of length 1. Don't supply a list with a single grouper to avoid this warning.\n",
      "  for frame_id, frame_df in group_df.groupby(['frameId']):\n",
      "/var/folders/nt/y2pysqbx2wg4rrlhdnq0djrc0000gn/T/ipykernel_70440/75011450.py:10: FutureWarning: In a future version of pandas, a length 1 tuple will be returned when iterating over a groupby with a grouper equal to a list of length 1. Don't supply a list with a single grouper to avoid this warning.\n",
      "  for frame_id, frame_df in group_df.groupby(['frameId']):\n",
      "/var/folders/nt/y2pysqbx2wg4rrlhdnq0djrc0000gn/T/ipykernel_70440/75011450.py:10: FutureWarning: In a future version of pandas, a length 1 tuple will be returned when iterating over a groupby with a grouper equal to a list of length 1. Don't supply a list with a single grouper to avoid this warning.\n",
      "  for frame_id, frame_df in group_df.groupby(['frameId']):\n",
      "/var/folders/nt/y2pysqbx2wg4rrlhdnq0djrc0000gn/T/ipykernel_70440/75011450.py:10: FutureWarning: In a future version of pandas, a length 1 tuple will be returned when iterating over a groupby with a grouper equal to a list of length 1. Don't supply a list with a single grouper to avoid this warning.\n",
      "  for frame_id, frame_df in group_df.groupby(['frameId']):\n",
      "/var/folders/nt/y2pysqbx2wg4rrlhdnq0djrc0000gn/T/ipykernel_70440/75011450.py:10: FutureWarning: In a future version of pandas, a length 1 tuple will be returned when iterating over a groupby with a grouper equal to a list of length 1. Don't supply a list with a single grouper to avoid this warning.\n",
      "  for frame_id, frame_df in group_df.groupby(['frameId']):\n",
      "/var/folders/nt/y2pysqbx2wg4rrlhdnq0djrc0000gn/T/ipykernel_70440/75011450.py:10: FutureWarning: In a future version of pandas, a length 1 tuple will be returned when iterating over a groupby with a grouper equal to a list of length 1. Don't supply a list with a single grouper to avoid this warning.\n",
      "  for frame_id, frame_df in group_df.groupby(['frameId']):\n",
      "/var/folders/nt/y2pysqbx2wg4rrlhdnq0djrc0000gn/T/ipykernel_70440/75011450.py:10: FutureWarning: In a future version of pandas, a length 1 tuple will be returned when iterating over a groupby with a grouper equal to a list of length 1. Don't supply a list with a single grouper to avoid this warning.\n",
      "  for frame_id, frame_df in group_df.groupby(['frameId']):\n"
     ]
    },
    {
     "name": "stdout",
     "output_type": "stream",
     "text": [
      "found a conflict in (2022091102, 3523, 16) at (106, 25)\n"
     ]
    },
    {
     "name": "stderr",
     "output_type": "stream",
     "text": [
      "/var/folders/nt/y2pysqbx2wg4rrlhdnq0djrc0000gn/T/ipykernel_70440/75011450.py:10: FutureWarning: In a future version of pandas, a length 1 tuple will be returned when iterating over a groupby with a grouper equal to a list of length 1. Don't supply a list with a single grouper to avoid this warning.\n",
      "  for frame_id, frame_df in group_df.groupby(['frameId']):\n",
      "/var/folders/nt/y2pysqbx2wg4rrlhdnq0djrc0000gn/T/ipykernel_70440/75011450.py:10: FutureWarning: In a future version of pandas, a length 1 tuple will be returned when iterating over a groupby with a grouper equal to a list of length 1. Don't supply a list with a single grouper to avoid this warning.\n",
      "  for frame_id, frame_df in group_df.groupby(['frameId']):\n",
      "/var/folders/nt/y2pysqbx2wg4rrlhdnq0djrc0000gn/T/ipykernel_70440/75011450.py:10: FutureWarning: In a future version of pandas, a length 1 tuple will be returned when iterating over a groupby with a grouper equal to a list of length 1. Don't supply a list with a single grouper to avoid this warning.\n",
      "  for frame_id, frame_df in group_df.groupby(['frameId']):\n",
      "/var/folders/nt/y2pysqbx2wg4rrlhdnq0djrc0000gn/T/ipykernel_70440/75011450.py:10: FutureWarning: In a future version of pandas, a length 1 tuple will be returned when iterating over a groupby with a grouper equal to a list of length 1. Don't supply a list with a single grouper to avoid this warning.\n",
      "  for frame_id, frame_df in group_df.groupby(['frameId']):\n",
      "/var/folders/nt/y2pysqbx2wg4rrlhdnq0djrc0000gn/T/ipykernel_70440/75011450.py:10: FutureWarning: In a future version of pandas, a length 1 tuple will be returned when iterating over a groupby with a grouper equal to a list of length 1. Don't supply a list with a single grouper to avoid this warning.\n",
      "  for frame_id, frame_df in group_df.groupby(['frameId']):\n",
      "/var/folders/nt/y2pysqbx2wg4rrlhdnq0djrc0000gn/T/ipykernel_70440/75011450.py:10: FutureWarning: In a future version of pandas, a length 1 tuple will be returned when iterating over a groupby with a grouper equal to a list of length 1. Don't supply a list with a single grouper to avoid this warning.\n",
      "  for frame_id, frame_df in group_df.groupby(['frameId']):\n",
      "/var/folders/nt/y2pysqbx2wg4rrlhdnq0djrc0000gn/T/ipykernel_70440/75011450.py:10: FutureWarning: In a future version of pandas, a length 1 tuple will be returned when iterating over a groupby with a grouper equal to a list of length 1. Don't supply a list with a single grouper to avoid this warning.\n",
      "  for frame_id, frame_df in group_df.groupby(['frameId']):\n",
      "/var/folders/nt/y2pysqbx2wg4rrlhdnq0djrc0000gn/T/ipykernel_70440/75011450.py:10: FutureWarning: In a future version of pandas, a length 1 tuple will be returned when iterating over a groupby with a grouper equal to a list of length 1. Don't supply a list with a single grouper to avoid this warning.\n",
      "  for frame_id, frame_df in group_df.groupby(['frameId']):\n",
      "/var/folders/nt/y2pysqbx2wg4rrlhdnq0djrc0000gn/T/ipykernel_70440/75011450.py:10: FutureWarning: In a future version of pandas, a length 1 tuple will be returned when iterating over a groupby with a grouper equal to a list of length 1. Don't supply a list with a single grouper to avoid this warning.\n",
      "  for frame_id, frame_df in group_df.groupby(['frameId']):\n",
      "/var/folders/nt/y2pysqbx2wg4rrlhdnq0djrc0000gn/T/ipykernel_70440/75011450.py:10: FutureWarning: In a future version of pandas, a length 1 tuple will be returned when iterating over a groupby with a grouper equal to a list of length 1. Don't supply a list with a single grouper to avoid this warning.\n",
      "  for frame_id, frame_df in group_df.groupby(['frameId']):\n"
     ]
    },
    {
     "name": "stdout",
     "output_type": "stream",
     "text": [
      "found a conflict in (2022091103, 611, 17) at (40, 31)\n",
      "found a conflict in (2022091103, 764, 12) at (108, 24)\n",
      "found a conflict in (2022091103, 764, 13) at (108, 22)\n",
      "found a conflict in (2022091103, 764, 14) at (108, 23)\n",
      "found a conflict in (2022091103, 764, 15) at (108, 23)\n",
      "found a conflict in (2022091103, 764, 16) at (108, 23)\n",
      "found a conflict in (2022091103, 764, 17) at (108, 22)\n",
      "found a conflict in (2022091103, 764, 18) at (108, 22)\n",
      "found a conflict in (2022091103, 764, 19) at (108, 22)\n",
      "found a conflict in (2022091103, 764, 20) at (108, 22)\n",
      "found a conflict in (2022091103, 881, 18) at (47, 23)\n"
     ]
    },
    {
     "name": "stderr",
     "output_type": "stream",
     "text": [
      "/var/folders/nt/y2pysqbx2wg4rrlhdnq0djrc0000gn/T/ipykernel_70440/75011450.py:10: FutureWarning: In a future version of pandas, a length 1 tuple will be returned when iterating over a groupby with a grouper equal to a list of length 1. Don't supply a list with a single grouper to avoid this warning.\n",
      "  for frame_id, frame_df in group_df.groupby(['frameId']):\n",
      "/var/folders/nt/y2pysqbx2wg4rrlhdnq0djrc0000gn/T/ipykernel_70440/75011450.py:10: FutureWarning: In a future version of pandas, a length 1 tuple will be returned when iterating over a groupby with a grouper equal to a list of length 1. Don't supply a list with a single grouper to avoid this warning.\n",
      "  for frame_id, frame_df in group_df.groupby(['frameId']):\n",
      "/var/folders/nt/y2pysqbx2wg4rrlhdnq0djrc0000gn/T/ipykernel_70440/75011450.py:10: FutureWarning: In a future version of pandas, a length 1 tuple will be returned when iterating over a groupby with a grouper equal to a list of length 1. Don't supply a list with a single grouper to avoid this warning.\n",
      "  for frame_id, frame_df in group_df.groupby(['frameId']):\n",
      "/var/folders/nt/y2pysqbx2wg4rrlhdnq0djrc0000gn/T/ipykernel_70440/75011450.py:10: FutureWarning: In a future version of pandas, a length 1 tuple will be returned when iterating over a groupby with a grouper equal to a list of length 1. Don't supply a list with a single grouper to avoid this warning.\n",
      "  for frame_id, frame_df in group_df.groupby(['frameId']):\n",
      "/var/folders/nt/y2pysqbx2wg4rrlhdnq0djrc0000gn/T/ipykernel_70440/75011450.py:10: FutureWarning: In a future version of pandas, a length 1 tuple will be returned when iterating over a groupby with a grouper equal to a list of length 1. Don't supply a list with a single grouper to avoid this warning.\n",
      "  for frame_id, frame_df in group_df.groupby(['frameId']):\n",
      "/var/folders/nt/y2pysqbx2wg4rrlhdnq0djrc0000gn/T/ipykernel_70440/75011450.py:10: FutureWarning: In a future version of pandas, a length 1 tuple will be returned when iterating over a groupby with a grouper equal to a list of length 1. Don't supply a list with a single grouper to avoid this warning.\n",
      "  for frame_id, frame_df in group_df.groupby(['frameId']):\n",
      "/var/folders/nt/y2pysqbx2wg4rrlhdnq0djrc0000gn/T/ipykernel_70440/75011450.py:10: FutureWarning: In a future version of pandas, a length 1 tuple will be returned when iterating over a groupby with a grouper equal to a list of length 1. Don't supply a list with a single grouper to avoid this warning.\n",
      "  for frame_id, frame_df in group_df.groupby(['frameId']):\n",
      "/var/folders/nt/y2pysqbx2wg4rrlhdnq0djrc0000gn/T/ipykernel_70440/75011450.py:10: FutureWarning: In a future version of pandas, a length 1 tuple will be returned when iterating over a groupby with a grouper equal to a list of length 1. Don't supply a list with a single grouper to avoid this warning.\n",
      "  for frame_id, frame_df in group_df.groupby(['frameId']):\n",
      "/var/folders/nt/y2pysqbx2wg4rrlhdnq0djrc0000gn/T/ipykernel_70440/75011450.py:10: FutureWarning: In a future version of pandas, a length 1 tuple will be returned when iterating over a groupby with a grouper equal to a list of length 1. Don't supply a list with a single grouper to avoid this warning.\n",
      "  for frame_id, frame_df in group_df.groupby(['frameId']):\n",
      "/var/folders/nt/y2pysqbx2wg4rrlhdnq0djrc0000gn/T/ipykernel_70440/75011450.py:10: FutureWarning: In a future version of pandas, a length 1 tuple will be returned when iterating over a groupby with a grouper equal to a list of length 1. Don't supply a list with a single grouper to avoid this warning.\n",
      "  for frame_id, frame_df in group_df.groupby(['frameId']):\n",
      "/var/folders/nt/y2pysqbx2wg4rrlhdnq0djrc0000gn/T/ipykernel_70440/75011450.py:10: FutureWarning: In a future version of pandas, a length 1 tuple will be returned when iterating over a groupby with a grouper equal to a list of length 1. Don't supply a list with a single grouper to avoid this warning.\n",
      "  for frame_id, frame_df in group_df.groupby(['frameId']):\n",
      "/var/folders/nt/y2pysqbx2wg4rrlhdnq0djrc0000gn/T/ipykernel_70440/75011450.py:10: FutureWarning: In a future version of pandas, a length 1 tuple will be returned when iterating over a groupby with a grouper equal to a list of length 1. Don't supply a list with a single grouper to avoid this warning.\n",
      "  for frame_id, frame_df in group_df.groupby(['frameId']):\n",
      "/var/folders/nt/y2pysqbx2wg4rrlhdnq0djrc0000gn/T/ipykernel_70440/75011450.py:10: FutureWarning: In a future version of pandas, a length 1 tuple will be returned when iterating over a groupby with a grouper equal to a list of length 1. Don't supply a list with a single grouper to avoid this warning.\n",
      "  for frame_id, frame_df in group_df.groupby(['frameId']):\n",
      "/var/folders/nt/y2pysqbx2wg4rrlhdnq0djrc0000gn/T/ipykernel_70440/75011450.py:10: FutureWarning: In a future version of pandas, a length 1 tuple will be returned when iterating over a groupby with a grouper equal to a list of length 1. Don't supply a list with a single grouper to avoid this warning.\n",
      "  for frame_id, frame_df in group_df.groupby(['frameId']):\n",
      "/var/folders/nt/y2pysqbx2wg4rrlhdnq0djrc0000gn/T/ipykernel_70440/75011450.py:10: FutureWarning: In a future version of pandas, a length 1 tuple will be returned when iterating over a groupby with a grouper equal to a list of length 1. Don't supply a list with a single grouper to avoid this warning.\n",
      "  for frame_id, frame_df in group_df.groupby(['frameId']):\n",
      "/var/folders/nt/y2pysqbx2wg4rrlhdnq0djrc0000gn/T/ipykernel_70440/75011450.py:10: FutureWarning: In a future version of pandas, a length 1 tuple will be returned when iterating over a groupby with a grouper equal to a list of length 1. Don't supply a list with a single grouper to avoid this warning.\n",
      "  for frame_id, frame_df in group_df.groupby(['frameId']):\n",
      "/var/folders/nt/y2pysqbx2wg4rrlhdnq0djrc0000gn/T/ipykernel_70440/75011450.py:10: FutureWarning: In a future version of pandas, a length 1 tuple will be returned when iterating over a groupby with a grouper equal to a list of length 1. Don't supply a list with a single grouper to avoid this warning.\n",
      "  for frame_id, frame_df in group_df.groupby(['frameId']):\n",
      "/var/folders/nt/y2pysqbx2wg4rrlhdnq0djrc0000gn/T/ipykernel_70440/75011450.py:10: FutureWarning: In a future version of pandas, a length 1 tuple will be returned when iterating over a groupby with a grouper equal to a list of length 1. Don't supply a list with a single grouper to avoid this warning.\n",
      "  for frame_id, frame_df in group_df.groupby(['frameId']):\n",
      "/var/folders/nt/y2pysqbx2wg4rrlhdnq0djrc0000gn/T/ipykernel_70440/75011450.py:10: FutureWarning: In a future version of pandas, a length 1 tuple will be returned when iterating over a groupby with a grouper equal to a list of length 1. Don't supply a list with a single grouper to avoid this warning.\n",
      "  for frame_id, frame_df in group_df.groupby(['frameId']):\n",
      "/var/folders/nt/y2pysqbx2wg4rrlhdnq0djrc0000gn/T/ipykernel_70440/75011450.py:10: FutureWarning: In a future version of pandas, a length 1 tuple will be returned when iterating over a groupby with a grouper equal to a list of length 1. Don't supply a list with a single grouper to avoid this warning.\n",
      "  for frame_id, frame_df in group_df.groupby(['frameId']):\n"
     ]
    },
    {
     "name": "stdout",
     "output_type": "stream",
     "text": [
      "found a conflict in (2022091103, 1700, 17) at (105, 21)\n",
      "found a conflict in (2022091103, 2037, 19) at (18, 23)\n"
     ]
    },
    {
     "name": "stderr",
     "output_type": "stream",
     "text": [
      "/var/folders/nt/y2pysqbx2wg4rrlhdnq0djrc0000gn/T/ipykernel_70440/75011450.py:10: FutureWarning: In a future version of pandas, a length 1 tuple will be returned when iterating over a groupby with a grouper equal to a list of length 1. Don't supply a list with a single grouper to avoid this warning.\n",
      "  for frame_id, frame_df in group_df.groupby(['frameId']):\n",
      "/var/folders/nt/y2pysqbx2wg4rrlhdnq0djrc0000gn/T/ipykernel_70440/75011450.py:10: FutureWarning: In a future version of pandas, a length 1 tuple will be returned when iterating over a groupby with a grouper equal to a list of length 1. Don't supply a list with a single grouper to avoid this warning.\n",
      "  for frame_id, frame_df in group_df.groupby(['frameId']):\n"
     ]
    },
    {
     "ename": "KeyboardInterrupt",
     "evalue": "",
     "output_type": "error",
     "traceback": [
      "\u001b[0;31m---------------------------------------------------------------------------\u001b[0m",
      "\u001b[0;31mKeyboardInterrupt\u001b[0m                         Traceback (most recent call last)",
      "\u001b[1;32m/Users/jackfriedman/Documents/CS89 Final Project 2/NFL-Big-Data-Bowl/preprocessing/deep_learning_preprocessing_v2.ipynb Cell 22\u001b[0m line \u001b[0;36m1\n\u001b[1;32m     <a href='vscode-notebook-cell:/Users/jackfriedman/Documents/CS89%20Final%20Project%202/NFL-Big-Data-Bowl/preprocessing/deep_learning_preprocessing_v2.ipynb#X26sZmlsZQ%3D%3D?line=9'>10</a>\u001b[0m \u001b[39mfor\u001b[39;00m frame_id, frame_df \u001b[39min\u001b[39;00m group_df\u001b[39m.\u001b[39mgroupby([\u001b[39m'\u001b[39m\u001b[39mframeId\u001b[39m\u001b[39m'\u001b[39m]):\n\u001b[1;32m     <a href='vscode-notebook-cell:/Users/jackfriedman/Documents/CS89%20Final%20Project%202/NFL-Big-Data-Bowl/preprocessing/deep_learning_preprocessing_v2.ipynb#X26sZmlsZQ%3D%3D?line=10'>11</a>\u001b[0m     \u001b[39m# Create a blank matrix of the field\u001b[39;00m\n\u001b[1;32m     <a href='vscode-notebook-cell:/Users/jackfriedman/Documents/CS89%20Final%20Project%202/NFL-Big-Data-Bowl/preprocessing/deep_learning_preprocessing_v2.ipynb#X26sZmlsZQ%3D%3D?line=11'>12</a>\u001b[0m     image \u001b[39m=\u001b[39m np\u001b[39m.\u001b[39mzeros((\u001b[39m120\u001b[39m, \u001b[39m54\u001b[39m))\n\u001b[0;32m---> <a href='vscode-notebook-cell:/Users/jackfriedman/Documents/CS89%20Final%20Project%202/NFL-Big-Data-Bowl/preprocessing/deep_learning_preprocessing_v2.ipynb#X26sZmlsZQ%3D%3D?line=13'>14</a>\u001b[0m     \u001b[39mfor\u001b[39;00m _, row \u001b[39min\u001b[39;00m frame_df\u001b[39m.\u001b[39miterrows():\n\u001b[1;32m     <a href='vscode-notebook-cell:/Users/jackfriedman/Documents/CS89%20Final%20Project%202/NFL-Big-Data-Bowl/preprocessing/deep_learning_preprocessing_v2.ipynb#X26sZmlsZQ%3D%3D?line=14'>15</a>\u001b[0m         \u001b[39mif\u001b[39;00m pd\u001b[39m.\u001b[39misnull(row[\u001b[39m'\u001b[39m\u001b[39mnflId\u001b[39m\u001b[39m'\u001b[39m]):\n\u001b[1;32m     <a href='vscode-notebook-cell:/Users/jackfriedman/Documents/CS89%20Final%20Project%202/NFL-Big-Data-Bowl/preprocessing/deep_learning_preprocessing_v2.ipynb#X26sZmlsZQ%3D%3D?line=15'>16</a>\u001b[0m             \u001b[39mcontinue\u001b[39;00m\n",
      "File \u001b[0;32m/Library/Frameworks/Python.framework/Versions/3.10/lib/python3.10/site-packages/pandas/core/frame.py:1411\u001b[0m, in \u001b[0;36mDataFrame.iterrows\u001b[0;34m(self)\u001b[0m\n\u001b[1;32m   1409\u001b[0m klass \u001b[39m=\u001b[39m \u001b[39mself\u001b[39m\u001b[39m.\u001b[39m_constructor_sliced\n\u001b[1;32m   1410\u001b[0m \u001b[39mfor\u001b[39;00m k, v \u001b[39min\u001b[39;00m \u001b[39mzip\u001b[39m(\u001b[39mself\u001b[39m\u001b[39m.\u001b[39mindex, \u001b[39mself\u001b[39m\u001b[39m.\u001b[39mvalues):\n\u001b[0;32m-> 1411\u001b[0m     s \u001b[39m=\u001b[39m klass(v, index\u001b[39m=\u001b[39;49mcolumns, name\u001b[39m=\u001b[39;49mk)\u001b[39m.\u001b[39m__finalize__(\u001b[39mself\u001b[39m)\n\u001b[1;32m   1412\u001b[0m     \u001b[39myield\u001b[39;00m k, s\n",
      "File \u001b[0;32m/Library/Frameworks/Python.framework/Versions/3.10/lib/python3.10/site-packages/pandas/core/series.py:474\u001b[0m, in \u001b[0;36mSeries.__init__\u001b[0;34m(self, data, index, dtype, name, copy, fastpath)\u001b[0m\n\u001b[1;32m    472\u001b[0m manager \u001b[39m=\u001b[39m get_option(\u001b[39m\"\u001b[39m\u001b[39mmode.data_manager\u001b[39m\u001b[39m\"\u001b[39m)\n\u001b[1;32m    473\u001b[0m \u001b[39mif\u001b[39;00m manager \u001b[39m==\u001b[39m \u001b[39m\"\u001b[39m\u001b[39mblock\u001b[39m\u001b[39m\"\u001b[39m:\n\u001b[0;32m--> 474\u001b[0m     data \u001b[39m=\u001b[39m SingleBlockManager\u001b[39m.\u001b[39;49mfrom_array(data, index)\n\u001b[1;32m    475\u001b[0m \u001b[39melif\u001b[39;00m manager \u001b[39m==\u001b[39m \u001b[39m\"\u001b[39m\u001b[39marray\u001b[39m\u001b[39m\"\u001b[39m:\n\u001b[1;32m    476\u001b[0m     data \u001b[39m=\u001b[39m SingleArrayManager\u001b[39m.\u001b[39mfrom_array(data, index)\n",
      "File \u001b[0;32m/Library/Frameworks/Python.framework/Versions/3.10/lib/python3.10/site-packages/pandas/core/internals/managers.py:1939\u001b[0m, in \u001b[0;36mSingleBlockManager.from_array\u001b[0;34m(cls, array, index)\u001b[0m\n\u001b[1;32m   1934\u001b[0m \u001b[39m@classmethod\u001b[39m\n\u001b[1;32m   1935\u001b[0m \u001b[39mdef\u001b[39;00m \u001b[39mfrom_array\u001b[39m(\u001b[39mcls\u001b[39m, array: ArrayLike, index: Index) \u001b[39m-\u001b[39m\u001b[39m>\u001b[39m SingleBlockManager:\n\u001b[1;32m   1936\u001b[0m \u001b[39m    \u001b[39m\u001b[39m\"\"\"\u001b[39;00m\n\u001b[1;32m   1937\u001b[0m \u001b[39m    Constructor for if we have an array that is not yet a Block.\u001b[39;00m\n\u001b[1;32m   1938\u001b[0m \u001b[39m    \"\"\"\u001b[39;00m\n\u001b[0;32m-> 1939\u001b[0m     block \u001b[39m=\u001b[39m new_block(array, placement\u001b[39m=\u001b[39;49m\u001b[39mslice\u001b[39;49m(\u001b[39m0\u001b[39;49m, \u001b[39mlen\u001b[39;49m(index)), ndim\u001b[39m=\u001b[39;49m\u001b[39m1\u001b[39;49m)\n\u001b[1;32m   1940\u001b[0m     \u001b[39mreturn\u001b[39;00m \u001b[39mcls\u001b[39m(block, index)\n",
      "File \u001b[0;32m/Library/Frameworks/Python.framework/Versions/3.10/lib/python3.10/site-packages/pandas/core/internals/blocks.py:2180\u001b[0m, in \u001b[0;36mnew_block\u001b[0;34m(values, placement, ndim)\u001b[0m\n\u001b[1;32m   2176\u001b[0m     placement \u001b[39m=\u001b[39m BlockPlacement(placement)\n\u001b[1;32m   2178\u001b[0m check_ndim(values, placement, ndim)\n\u001b[0;32m-> 2180\u001b[0m klass \u001b[39m=\u001b[39m get_block_type(values\u001b[39m.\u001b[39;49mdtype)\n\u001b[1;32m   2182\u001b[0m values \u001b[39m=\u001b[39m maybe_coerce_values(values)\n\u001b[1;32m   2183\u001b[0m \u001b[39mreturn\u001b[39;00m klass(values, ndim\u001b[39m=\u001b[39mndim, placement\u001b[39m=\u001b[39mplacement)\n",
      "File \u001b[0;32m/Library/Frameworks/Python.framework/Versions/3.10/lib/python3.10/site-packages/pandas/core/internals/blocks.py:2146\u001b[0m, in \u001b[0;36mget_block_type\u001b[0;34m(dtype)\u001b[0m\n\u001b[1;32m   2144\u001b[0m \u001b[39melif\u001b[39;00m vtype \u001b[39mis\u001b[39;00m Timestamp:\n\u001b[1;32m   2145\u001b[0m     \u001b[39mcls\u001b[39m \u001b[39m=\u001b[39m DatetimeTZBlock\n\u001b[0;32m-> 2146\u001b[0m \u001b[39melif\u001b[39;00m \u001b[39misinstance\u001b[39;49m(dtype, PeriodDtype):\n\u001b[1;32m   2147\u001b[0m     \u001b[39mcls\u001b[39m \u001b[39m=\u001b[39m NDArrayBackedExtensionBlock\n\u001b[1;32m   2148\u001b[0m \u001b[39melif\u001b[39;00m \u001b[39misinstance\u001b[39m(dtype, ExtensionDtype):\n\u001b[1;32m   2149\u001b[0m     \u001b[39m# Note: need to be sure PandasArray is unwrapped before we get here\u001b[39;00m\n",
      "\u001b[0;31mKeyboardInterrupt\u001b[0m: "
     ]
    }
   ],
   "source": [
    "def is_out_of_bounds(x, y):\n",
    "    i = int(x)\n",
    "    j = int(y)\n",
    "    return i < 0 or i > 119 or j < 0 or j > 53\n",
    "\n",
    "# Keep track of number of conflicts when 2+ players are in a cell\n",
    "num_conflicts = 0\n",
    "pre_cutoff_rows = tracking_df_clean[tracking_df_clean['frameId'] <= tracking_df_clean['frame_cutoff']]\n",
    "for (game_id, play_id), group_df in pre_cutoff_rows.groupby(['gameId', 'playId']):\n",
    "    for frame_id, frame_df in group_df.groupby(['frameId']):\n",
    "        # Create a blank matrix of the field\n",
    "        image = np.zeros((120, 54))\n",
    "\n",
    "        for _, row in frame_df.iterrows():\n",
    "            if pd.isnull(row['nflId']):\n",
    "                continue\n",
    "\n",
    "            # Keep track of x and y locations of player (matrix indices)\n",
    "            i = int(row['X_std'])\n",
    "            j = int(row['Y_std'])\n",
    "\n",
    "            # Make sure player is in the frame \n",
    "            if is_out_of_bounds(i, j):\n",
    "                continue\n",
    "\n",
    "            image[i, j] += 1\n",
    "\n",
    "            if image[i,j] > 2:\n",
    "                num_conflicts += 1\n",
    "                print(\"found a conflict in \" + str((game_id, play_id, frame_id)) + \" at \" + str((i, j)))\n",
    "                break\n",
    "\n",
    "print('total conflicts: ' + str(num_conflicts))"
   ]
  },
  {
   "cell_type": "code",
   "execution_count": 1,
   "metadata": {},
   "outputs": [
    {
     "ename": "NameError",
     "evalue": "name 'num_conflicts' is not defined",
     "output_type": "error",
     "traceback": [
      "\u001b[0;31m---------------------------------------------------------------------------\u001b[0m",
      "\u001b[0;31mNameError\u001b[0m                                 Traceback (most recent call last)",
      "\u001b[1;32m/Users/jackfriedman/Documents/CS89 Final Project 2/NFL-Big-Data-Bowl/preprocessing/deep_learning_preprocessing_v2.ipynb Cell 22\u001b[0m line \u001b[0;36m1\n\u001b[0;32m----> <a href='vscode-notebook-cell:/Users/jackfriedman/Documents/CS89%20Final%20Project%202/NFL-Big-Data-Bowl/preprocessing/deep_learning_preprocessing_v2.ipynb#X54sZmlsZQ%3D%3D?line=0'>1</a>\u001b[0m \u001b[39mprint\u001b[39m(num_conflicts)\n",
      "\u001b[0;31mNameError\u001b[0m: name 'num_conflicts' is not defined"
     ]
    }
   ],
   "source": [
    "print(num_conflicts)"
   ]
  },
  {
   "cell_type": "code",
   "execution_count": null,
   "metadata": {},
   "outputs": [],
   "source": [
    "tracking_df_clean['Y_std'].astype(int).describe()"
   ]
  },
  {
   "cell_type": "code",
   "execution_count": null,
   "metadata": {},
   "outputs": [],
   "source": [
    "# EXAMINE Conflict in 1 frame\n",
    "\n",
    " # Create a blank matrix of the field\n",
    "image = np.zeros((120, 54))\n",
    "\n",
    "# found a conflict at (2022090800, 146, 15)\n",
    "frame = tracking_df_clean[(tracking_df_clean['gameId'] == 2022092502) & (tracking_df_clean['playId'] == 2196) & (tracking_df_clean['frameId'] == 19)]\n",
    "for _, row in frame.iterrows():\n",
    "    if pd.isnull(row['nflId']):\n",
    "        continue\n",
    "\n",
    "    # Keep track of x and y locations of player (matrix indices)\n",
    "    i = int(row['X_std'])\n",
    "    j = int(row['Y_std'])\n",
    "\n",
    "    # Make sure player is in the frame \n",
    "    if is_out_of_bounds(i, j):\n",
    "        continue\n",
    "\n",
    "    image[i, j] += 1\n",
    "\n",
    "    if image[i, j] > 1:\n",
    "        print(i, j)\n",
    "\n",
    "image"
   ]
  },
  {
   "cell_type": "markdown",
   "metadata": {},
   "source": [
    "## Create Image of the field"
   ]
  },
  {
   "cell_type": "markdown",
   "metadata": {},
   "source": [
    "Notes from soroush meeting\n",
    "\n",
    "1. Channels - 0 to 1 - for num players\n",
    "2. Ratio of teams- if all in same team (1, half-half is 0.5, 2/3 on one team) --> 0 to 1\n",
    "3. Offense ratio- 0-1 ratio of offense (1 = only offense, 0 = nobody there)\n",
    "4. Defense ratio- 0 -1 ratio of defense (1 = only defense, 0 = )\n",
    "5. Velocity - average velocity and \n",
    "6. ariance of velocity in the cells \n",
    "6. Height - average height of players in the cell 0 - 1 (1 is tallest height)\n",
    "7. Variance of the height \n",
    "8. Channel for whether the football is there\n",
    "\n",
    "\n",
    "All channels should go to 0 to 1\n",
    "- Every continuosu variable can be represented with 2 variables- average and variance\n",
    "- \n",
    "\n"
   ]
  },
  {
   "cell_type": "markdown",
   "metadata": {},
   "source": [
    "List of Channels\n",
    "1. Spatial - 0 to 1 for percentage of players on the field at this location (0 = nobody 1 = all 21 players at this spot) -- [will never reach 1 but need to scale for a ton of linemen being in one spot or a tackling dogpile with many players- can change upper bound]\n",
    "2. Ball location: = 1 if ball at this location, = 0 if not\n",
    "3. [DEPRECIATED] Team ratio - if all in same team (1, half-half is 0.5, 2/3 on one team) --> 0 to 1\n",
    "4. Offense ratio - 0-1 ratio of offense (1 = only offense, 0 = nobody there, else = # offense / total people \n",
    "5. Defense ratio -  0 -1 ratio of defense (1 = only defense, 0 = nobody there, else = % of players in that cell on defense)\n",
    "6. Velocity (average, standardized 0-1)\n",
    "7. Velocity (variation, standardized 0-1)\n",
    "8. Acceleration (average, standardized 0-1)\n",
    "9. Acceleration (variation, standardized 0-1)\n",
    "10. Net??? angle of player motion – standardization to not include 0?? \n",
    "11. Angle of player orientation??????\n",
    "12. Height (average, standardized 0-1)\n",
    "13. Height (variation, standardized 0-1)\n",
    "14. Weight (average, standardized 0-1)\n",
    "15. Weight (variation, standardized 0-1)\n"
   ]
  },
  {
   "cell_type": "code",
   "execution_count": null,
   "metadata": {},
   "outputs": [],
   "source": [
    "single_frame_data = tracking_df_clean[(tracking_df_clean['gameId'] == 2022090800) & (tracking_df_clean['playId'] == 80) & (tracking_df_clean['frameId'] == 2)]\n",
    "single_frame_data "
   ]
  },
  {
   "cell_type": "markdown",
   "metadata": {},
   "source": [
    "Notes on update formulae: <br>\n",
    "\n",
    "Variables: <br>\n",
    "$n_o$ = total # offensive players checked so far <br>\n",
    "$n_d$ = total # defensive players checked so far <br>\n",
    "$p_0$ = existing % at this spot <br>\n",
    "\n",
    "note total players checked = $n_o + n_d$\n",
    "\n",
    "1. Spatial layer (% of players on field at this location):\n",
    "    - Formula to udpate = $\\frac{(p_0)(n_o + n_d) + 1}{(n_o + n_d) + 1}$ =  $\\frac{\\text{(existing \\% at this spot)} \\text{(\\# players checked)} + 1}{\\text{(\\# players checked)} + 1}$\n",
    "3. Offese ratio:\n",
    "    - Formula to update = $\\frac{(p_0)(n_o) + 1}{n_o + 1}$ "
   ]
  },
  {
   "cell_type": "markdown",
   "metadata": {},
   "source": [
    "### Proof of concept- build tensor with 1 frame"
   ]
  },
  {
   "cell_type": "markdown",
   "metadata": {},
   "source": [
    "#### A) Get max velocity, accel, etc. for normalizing from 0-1"
   ]
  },
  {
   "cell_type": "code",
   "execution_count": 138,
   "metadata": {},
   "outputs": [
    {
     "data": {
      "text/plain": [
       "0          0\n",
       "1          0\n",
       "2          0\n",
       "3          0\n",
       "4          0\n",
       "          ..\n",
       "8438163    0\n",
       "8438164    0\n",
       "8438165    0\n",
       "8438166    0\n",
       "8438167    0\n",
       "Name: isHomeTeam, Length: 8438168, dtype: int64"
      ]
     },
     "execution_count": 138,
     "metadata": {},
     "output_type": "execute_result"
    }
   ],
   "source": [
    "tracking_df_clean['isHomeTeam']"
   ]
  },
  {
   "cell_type": "code",
   "execution_count": 11,
   "metadata": {},
   "outputs": [
    {
     "data": {
      "text/plain": [
       "count    8.438168e+06\n",
       "mean     2.423730e+00\n",
       "std      1.922817e+00\n",
       "min      0.000000e+00\n",
       "25%      8.800000e-01\n",
       "50%      2.040000e+00\n",
       "75%      3.630000e+00\n",
       "max      3.640000e+01\n",
       "Name: s, dtype: float64"
      ]
     },
     "execution_count": 11,
     "metadata": {},
     "output_type": "execute_result"
    }
   ],
   "source": [
    "tracking_df_clean['s'].describe()"
   ]
  },
  {
   "cell_type": "code",
   "execution_count": 16,
   "metadata": {},
   "outputs": [],
   "source": [
    "max_a = tracking_df_clean['a'].max()\n",
    "max_s = tracking_df_clean['s'].max()\n",
    "max_height = tracking_df_clean['heightInches'].max()   \n",
    "max_weight = tracking_df_clean['weight'].max()  "
   ]
  },
  {
   "cell_type": "markdown",
   "metadata": {},
   "source": [
    "#### B) Building single frame"
   ]
  },
  {
   "cell_type": "code",
   "execution_count": 197,
   "metadata": {},
   "outputs": [],
   "source": [
    "def is_out_of_bounds(x, y):\n",
    "    i = int(x)\n",
    "    j = int(y)\n",
    "    return i < 0 or i > 119 or j < 0 or j > 53"
   ]
  },
  {
   "cell_type": "code",
   "execution_count": 198,
   "metadata": {},
   "outputs": [],
   "source": [
    "# Conflicts to test\n",
    "# (2022090800, 2360, 17) at (68, 27) --> double\n",
    "# (2022091100, 546, 16) at (41, 23) --> triple"
   ]
  },
  {
   "cell_type": "code",
   "execution_count": 199,
   "metadata": {},
   "outputs": [
    {
     "name": "stderr",
     "output_type": "stream",
     "text": [
      "/Library/Frameworks/Python.framework/Versions/3.10/lib/python3.10/site-packages/numpy/core/fromnumeric.py:3747: RuntimeWarning: Degrees of freedom <= 0 for slice\n",
      "  return _methods._var(a, axis=axis, dtype=dtype, out=out, ddof=ddof,\n",
      "/Library/Frameworks/Python.framework/Versions/3.10/lib/python3.10/site-packages/numpy/core/_methods.py:261: RuntimeWarning: invalid value encountered in scalar divide\n",
      "  ret = ret.dtype.type(ret / rcount)\n"
     ]
    }
   ],
   "source": [
    "single_frame_data = tracking_df_clean[(tracking_df_clean['gameId'] == 2022090800) & (tracking_df_clean['playId'] == 2360) & (tracking_df_clean['frameId'] == 17)]\n",
    "# single_frame_data = tracking_df_clean[(tracking_df_clean['gameId'] == 2022091100) & (tracking_df_clean['playId'] == 546) & (tracking_df_clean['frameId'] == 16)]\n",
    "\n",
    "# STEP 0: Create a blank matrix\n",
    "image = np.zeros((120, 54, 15))\n",
    "\n",
    "# STEP 1: Record ball location before looping through players in Channel 1\n",
    "i = int(single_frame_data[single_frame_data['nflId'].isnull()]['X_std'])\n",
    "j = int(single_frame_data[single_frame_data['nflId'].isnull()]['Y_std'])\n",
    "image[i, j, 1] = 1\n",
    "\n",
    "# STEP 2: Drop football from dataframe\n",
    "single_frame_data = single_frame_data.dropna(subset=['nflId'])\n",
    "\n",
    "# STEP 3: Populate player channels, person by person\n",
    "total_num_players_checked_on_field = 0\n",
    "num_players = np.zeros((120, 54, 4))  # Depth 0 is offense channel Depth 1 is defense, depth 2 is home, depth 3 is away\n",
    "temp_values = {}   # holds temporary values for calculating variances (0 = s, 1 = a, 2 = h, 3 = w)\n",
    "\n",
    "for _, row in single_frame_data.iterrows():\n",
    "    # Keep track of x and y locations of player (matrix indices)\n",
    "    i = int(row['X_std'])\n",
    "    j = int(row['Y_std'])\n",
    "    \n",
    "    # Make sure player is in the frame \n",
    "    if is_out_of_bounds(i, j):\n",
    "        continue\n",
    "\n",
    "    # Update total number of players checked\n",
    "    total_num_players_checked_on_field += 1\n",
    "\n",
    "    # Channel 0: Record position of this player\n",
    "    image[i, j, 0] = (image[i, j, 0] * 22 + 1) / 22\n",
    "\n",
    "    # Keep track of people on offense and defense\n",
    "    if row['isOnOffense'] == 1:\n",
    "        num_players[i, j, 0] += 1  # record offensive player\n",
    "    else: \n",
    "        num_players[i, j, 1] += 1  # record defensive player\n",
    "    total_players_in_cell = num_players[i, j, 0] + num_players[i, j, 1]\n",
    "    \n",
    "    # Channel 2: % offensive players in this cell\n",
    "    # Channel 3: Record defensive player ratio\n",
    "    image[i, j, 2] = num_players[i, j, 0] / (num_players[i, j, 0] + num_players[i, j, 1])  # calculate % offensive players at this cell\n",
    "    image[i, j, 3] = num_players[i, j, 1] / (num_players[i, j, 0] + num_players[i, j, 1])  # calculate % offensive players at this cell\n",
    "\n",
    "    # Channel 4: Velocity (average, standardized 0-1)\n",
    "    image[i, j, 4] = (image[i, j, 4] * (total_players_in_cell - 1) + row['s'] / max_s) / total_players_in_cell\n",
    "\n",
    "    # Store continuous variables so we can calculate variances at the end\n",
    "    if (i, j) not in temp_values.keys():\n",
    "        temp_values[(i, j)] = {'s': [],\n",
    "                               'a': [],\n",
    "                               'heightInches':[],\n",
    "                               'weight': []}\n",
    "    temp_values[(i, j)]['s'] += [row['s'] / max_s]  # Channel 5: Velocity (variance, standardized 0-1)\n",
    "    temp_values[(i, j)]['a'] += [row['a'] / max_a]  # Channel 7: Acceleration (variance, standardized 0-1)\n",
    "    temp_values[(i, j)]['heightInches'] += [row['heightInches'] / max_height]  # Channel 9: Height (variance, standardized 0-1)\n",
    "    temp_values[(i, j)]['weight'] += [row['weight'] / max_weight]  # Channel 11: Weight (variance, standardized 0-1)\n",
    "    \n",
    "    # Channel 6: Acceleration (average, standardized 0-1)\n",
    "    image[i, j, 6] = (image[i, j, 6] * (total_players_in_cell - 1) + row['a'] / max_a) / total_players_in_cell\n",
    "    \n",
    "    # Channel 8: Height (average, standardized 0-1)\n",
    "    image[i, j, 8] = (image[i, j, 8] * (total_players_in_cell - 1) + row['heightInches'] / max_height) / total_players_in_cell\n",
    "    \n",
    "    # Channel 10: Weight (average, standardized 0-1)\n",
    "    image[i, j, 10] = (image[i, j, 10] * (total_players_in_cell - 1) + row['weight'] / max_weight) / total_players_in_cell\n",
    "\n",
    "    # Keep track of people home and away\n",
    "    if row['isHomeTeam'] == 1:\n",
    "        num_players[i, j, 2] += 1  # record home team player\n",
    "    else: \n",
    "        num_players[i, j, 3] += 1  # record away team player\n",
    "    # Update channels\n",
    "    # Channel 12: % home team in this cell\n",
    "    # Channel 13: % away team in this cell\n",
    "    image[i, j, 12] = num_players[i, j, 2] / total_players_in_cell  # calculate % home team players at this cell\n",
    "    image[i, j, 13] = num_players[i, j, 3] / total_players_in_cell  # calculate % away team players at this cell\n",
    "\n",
    "# Compute variances \n",
    "for (i, j) in temp_values.keys():\n",
    "    # Channel 5: Velocity (variance, standardized 0-1)\n",
    "    image[i, j, 5] = np.var(temp_values[(i,j)]['s'], ddof = 1)\n",
    "\n",
    "    # Channel 7: Acceleration (variance, standardized 0-1)\n",
    "    image[i, j, 7] = np.var(temp_values[(i,j)]['a'], ddof = 1)\n",
    "\n",
    "    # Channel 9: Height (variance, standardized 0-1)\n",
    "    image[i, j, 9] = np.var(temp_values[(i,j)]['heightInches'], ddof = 1)\n",
    "    \n",
    "    # Channel 11: Weight (variance, standardized 0-1)\n",
    "    image[i, j, 11] = np.var(temp_values[(i,j)]['weight'], ddof = 1)\n",
    "    \n",
    "\n",
    "    \n",
    "    # 10. Net??? angle of player motion – standardization to not include 0?? \n",
    "    # 11. Angle of player orientation??????\n",
    "    # 16. PFF rating?"
   ]
  },
  {
   "cell_type": "code",
   "execution_count": 192,
   "metadata": {},
   "outputs": [
    {
     "name": "stderr",
     "output_type": "stream",
     "text": [
      "/var/folders/nt/y2pysqbx2wg4rrlhdnq0djrc0000gn/T/ipykernel_70440/3021543655.py:1: UserWarning: Boolean Series key will be reindexed to match DataFrame index.\n",
      "  vals = single_frame_data.astype({'X_std': 'int64', 'Y_std': 'int64'})[(tracking_df_clean['X_std'].astype(int) == 41) & (tracking_df_clean['Y_std'].astype(int) ==23)]['heightInches'].values\n"
     ]
    },
    {
     "data": {
      "text/plain": [
       "array([76., 77., 75.])"
      ]
     },
     "execution_count": 192,
     "metadata": {},
     "output_type": "execute_result"
    }
   ],
   "source": [
    "vals = single_frame_data.astype({'X_std': 'int64', 'Y_std': 'int64'})[(tracking_df_clean['X_std'].astype(int) == 41) & (tracking_df_clean['Y_std'].astype(int) ==23)]['heightInches'].values\n",
    "vals"
   ]
  },
  {
   "cell_type": "code",
   "execution_count": 194,
   "metadata": {},
   "outputs": [
    {
     "name": "stdout",
     "output_type": "stream",
     "text": [
      "0.9382716049382716\n",
      "0.9506172839506173\n",
      "0.9259259259259259\n"
     ]
    }
   ],
   "source": [
    "for i in vals:\n",
    "    print(i / max_height)"
   ]
  },
  {
   "cell_type": "code",
   "execution_count": 195,
   "metadata": {},
   "outputs": [
    {
     "data": {
      "text/plain": [
       "[0.9382716049382716, 0.9506172839506173, 0.9259259259259259]"
      ]
     },
     "execution_count": 195,
     "metadata": {},
     "output_type": "execute_result"
    }
   ],
   "source": [
    "temp_values[(41,23)]['heightInches']"
   ]
  },
  {
   "cell_type": "code",
   "execution_count": 196,
   "metadata": {},
   "outputs": [
    {
     "data": {
      "text/plain": [
       "0.00015241579027587256"
      ]
     },
     "execution_count": 196,
     "metadata": {},
     "output_type": "execute_result"
    }
   ],
   "source": [
    "image[41, 23, 9]"
   ]
  },
  {
   "cell_type": "code",
   "execution_count": null,
   "metadata": {},
   "outputs": [],
   "source": [
    "# 68, 27\n",
    "# (41, 23)"
   ]
  }
 ],
 "metadata": {
  "kernelspec": {
   "display_name": "Python 3",
   "language": "python",
   "name": "python3"
  },
  "language_info": {
   "codemirror_mode": {
    "name": "ipython",
    "version": 3
   },
   "file_extension": ".py",
   "mimetype": "text/x-python",
   "name": "python",
   "nbconvert_exporter": "python",
   "pygments_lexer": "ipython3",
   "version": "3.10.1"
  }
 },
 "nbformat": 4,
 "nbformat_minor": 2
}
