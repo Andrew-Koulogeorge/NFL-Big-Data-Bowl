{
 "cells": [
  {
   "cell_type": "code",
   "execution_count": 42,
   "metadata": {},
   "outputs": [],
   "source": [
    "# Andrew Koulogeorge --> Preliminary Analysis 10/30\n",
    "import pandas as pd\n",
    "import matplotlib.pyplot as plt"
   ]
  },
  {
   "cell_type": "code",
   "execution_count": 3,
   "metadata": {},
   "outputs": [
    {
     "data": {
      "text/html": [
       "<div>\n",
       "<style scoped>\n",
       "    .dataframe tbody tr th:only-of-type {\n",
       "        vertical-align: middle;\n",
       "    }\n",
       "\n",
       "    .dataframe tbody tr th {\n",
       "        vertical-align: top;\n",
       "    }\n",
       "\n",
       "    .dataframe thead th {\n",
       "        text-align: right;\n",
       "    }\n",
       "</style>\n",
       "<table border=\"1\" class=\"dataframe\">\n",
       "  <thead>\n",
       "    <tr style=\"text-align: right;\">\n",
       "      <th></th>\n",
       "      <th>gameId</th>\n",
       "      <th>playId</th>\n",
       "      <th>ballCarrierId</th>\n",
       "      <th>ballCarrierDisplayName</th>\n",
       "      <th>playDescription</th>\n",
       "      <th>quarter</th>\n",
       "      <th>down</th>\n",
       "      <th>yardsToGo</th>\n",
       "      <th>possessionTeam</th>\n",
       "      <th>defensiveTeam</th>\n",
       "      <th>...</th>\n",
       "      <th>preSnapHomeTeamWinProbability</th>\n",
       "      <th>preSnapVisitorTeamWinProbability</th>\n",
       "      <th>homeTeamWinProbabilityAdded</th>\n",
       "      <th>visitorTeamWinProbilityAdded</th>\n",
       "      <th>expectedPoints</th>\n",
       "      <th>expectedPointsAdded</th>\n",
       "      <th>foulName1</th>\n",
       "      <th>foulName2</th>\n",
       "      <th>foulNFLId1</th>\n",
       "      <th>foulNFLId2</th>\n",
       "    </tr>\n",
       "  </thead>\n",
       "  <tbody>\n",
       "    <tr>\n",
       "      <th>0</th>\n",
       "      <td>2022100908</td>\n",
       "      <td>3537</td>\n",
       "      <td>48723</td>\n",
       "      <td>Parker Hesse</td>\n",
       "      <td>(7:52) (Shotgun) M.Mariota pass short middle t...</td>\n",
       "      <td>4</td>\n",
       "      <td>1</td>\n",
       "      <td>10</td>\n",
       "      <td>ATL</td>\n",
       "      <td>TB</td>\n",
       "      <td>...</td>\n",
       "      <td>0.976785</td>\n",
       "      <td>0.023215</td>\n",
       "      <td>-0.006110</td>\n",
       "      <td>0.006110</td>\n",
       "      <td>2.360609</td>\n",
       "      <td>0.981955</td>\n",
       "      <td>NaN</td>\n",
       "      <td>NaN</td>\n",
       "      <td>NaN</td>\n",
       "      <td>NaN</td>\n",
       "    </tr>\n",
       "    <tr>\n",
       "      <th>1</th>\n",
       "      <td>2022091103</td>\n",
       "      <td>3126</td>\n",
       "      <td>52457</td>\n",
       "      <td>Chase Claypool</td>\n",
       "      <td>(7:38) (Shotgun) C.Claypool right end to PIT 3...</td>\n",
       "      <td>4</td>\n",
       "      <td>1</td>\n",
       "      <td>10</td>\n",
       "      <td>PIT</td>\n",
       "      <td>CIN</td>\n",
       "      <td>...</td>\n",
       "      <td>0.160485</td>\n",
       "      <td>0.839515</td>\n",
       "      <td>-0.010865</td>\n",
       "      <td>0.010865</td>\n",
       "      <td>1.733344</td>\n",
       "      <td>-0.263424</td>\n",
       "      <td>NaN</td>\n",
       "      <td>NaN</td>\n",
       "      <td>NaN</td>\n",
       "      <td>NaN</td>\n",
       "    </tr>\n",
       "    <tr>\n",
       "      <th>2</th>\n",
       "      <td>2022091111</td>\n",
       "      <td>1148</td>\n",
       "      <td>42547</td>\n",
       "      <td>Darren Waller</td>\n",
       "      <td>(8:57) D.Carr pass short middle to D.Waller to...</td>\n",
       "      <td>2</td>\n",
       "      <td>2</td>\n",
       "      <td>5</td>\n",
       "      <td>LV</td>\n",
       "      <td>LAC</td>\n",
       "      <td>...</td>\n",
       "      <td>0.756661</td>\n",
       "      <td>0.243339</td>\n",
       "      <td>-0.037409</td>\n",
       "      <td>0.037409</td>\n",
       "      <td>1.312855</td>\n",
       "      <td>1.133666</td>\n",
       "      <td>NaN</td>\n",
       "      <td>NaN</td>\n",
       "      <td>NaN</td>\n",
       "      <td>NaN</td>\n",
       "    </tr>\n",
       "    <tr>\n",
       "      <th>3</th>\n",
       "      <td>2022100212</td>\n",
       "      <td>2007</td>\n",
       "      <td>46461</td>\n",
       "      <td>Mike Boone</td>\n",
       "      <td>(13:12) M.Boone left tackle to DEN 44 for 7 ya...</td>\n",
       "      <td>3</td>\n",
       "      <td>2</td>\n",
       "      <td>10</td>\n",
       "      <td>DEN</td>\n",
       "      <td>LV</td>\n",
       "      <td>...</td>\n",
       "      <td>0.620552</td>\n",
       "      <td>0.379448</td>\n",
       "      <td>-0.002451</td>\n",
       "      <td>0.002451</td>\n",
       "      <td>1.641006</td>\n",
       "      <td>-0.043580</td>\n",
       "      <td>NaN</td>\n",
       "      <td>NaN</td>\n",
       "      <td>NaN</td>\n",
       "      <td>NaN</td>\n",
       "    </tr>\n",
       "    <tr>\n",
       "      <th>4</th>\n",
       "      <td>2022091900</td>\n",
       "      <td>1372</td>\n",
       "      <td>47857</td>\n",
       "      <td>Devin Singletary</td>\n",
       "      <td>(8:33) D.Singletary right guard to TEN 32 for ...</td>\n",
       "      <td>2</td>\n",
       "      <td>1</td>\n",
       "      <td>10</td>\n",
       "      <td>BUF</td>\n",
       "      <td>TEN</td>\n",
       "      <td>...</td>\n",
       "      <td>0.836290</td>\n",
       "      <td>0.163710</td>\n",
       "      <td>0.001053</td>\n",
       "      <td>-0.001053</td>\n",
       "      <td>3.686428</td>\n",
       "      <td>-0.167903</td>\n",
       "      <td>NaN</td>\n",
       "      <td>NaN</td>\n",
       "      <td>NaN</td>\n",
       "      <td>NaN</td>\n",
       "    </tr>\n",
       "  </tbody>\n",
       "</table>\n",
       "<p>5 rows × 35 columns</p>\n",
       "</div>"
      ],
      "text/plain": [
       "       gameId  playId  ballCarrierId ballCarrierDisplayName  \\\n",
       "0  2022100908    3537          48723           Parker Hesse   \n",
       "1  2022091103    3126          52457         Chase Claypool   \n",
       "2  2022091111    1148          42547          Darren Waller   \n",
       "3  2022100212    2007          46461             Mike Boone   \n",
       "4  2022091900    1372          47857       Devin Singletary   \n",
       "\n",
       "                                     playDescription  quarter  down  \\\n",
       "0  (7:52) (Shotgun) M.Mariota pass short middle t...        4     1   \n",
       "1  (7:38) (Shotgun) C.Claypool right end to PIT 3...        4     1   \n",
       "2  (8:57) D.Carr pass short middle to D.Waller to...        2     2   \n",
       "3  (13:12) M.Boone left tackle to DEN 44 for 7 ya...        3     2   \n",
       "4  (8:33) D.Singletary right guard to TEN 32 for ...        2     1   \n",
       "\n",
       "   yardsToGo possessionTeam defensiveTeam  ... preSnapHomeTeamWinProbability  \\\n",
       "0         10            ATL            TB  ...                      0.976785   \n",
       "1         10            PIT           CIN  ...                      0.160485   \n",
       "2          5             LV           LAC  ...                      0.756661   \n",
       "3         10            DEN            LV  ...                      0.620552   \n",
       "4         10            BUF           TEN  ...                      0.836290   \n",
       "\n",
       "   preSnapVisitorTeamWinProbability homeTeamWinProbabilityAdded  \\\n",
       "0                          0.023215                   -0.006110   \n",
       "1                          0.839515                   -0.010865   \n",
       "2                          0.243339                   -0.037409   \n",
       "3                          0.379448                   -0.002451   \n",
       "4                          0.163710                    0.001053   \n",
       "\n",
       "   visitorTeamWinProbilityAdded  expectedPoints expectedPointsAdded  \\\n",
       "0                      0.006110        2.360609            0.981955   \n",
       "1                      0.010865        1.733344           -0.263424   \n",
       "2                      0.037409        1.312855            1.133666   \n",
       "3                      0.002451        1.641006           -0.043580   \n",
       "4                     -0.001053        3.686428           -0.167903   \n",
       "\n",
       "   foulName1  foulName2  foulNFLId1  foulNFLId2  \n",
       "0        NaN        NaN         NaN         NaN  \n",
       "1        NaN        NaN         NaN         NaN  \n",
       "2        NaN        NaN         NaN         NaN  \n",
       "3        NaN        NaN         NaN         NaN  \n",
       "4        NaN        NaN         NaN         NaN  \n",
       "\n",
       "[5 rows x 35 columns]"
      ]
     },
     "execution_count": 3,
     "metadata": {},
     "output_type": "execute_result"
    }
   ],
   "source": [
    "player_data = pd.read_csv(\"plays.csv\")\n",
    "player_data.head()"
   ]
  },
  {
   "cell_type": "code",
   "execution_count": 4,
   "metadata": {},
   "outputs": [
    {
     "data": {
      "text/plain": [
       "(12486, 35)"
      ]
     },
     "execution_count": 4,
     "metadata": {},
     "output_type": "execute_result"
    }
   ],
   "source": [
    "# number of total plays and number of features\n",
    "player_data.shape"
   ]
  },
  {
   "cell_type": "code",
   "execution_count": 5,
   "metadata": {},
   "outputs": [
    {
     "data": {
      "text/plain": [
       "136"
      ]
     },
     "execution_count": 5,
     "metadata": {},
     "output_type": "execute_result"
    }
   ],
   "source": [
    "# number of games we have data for\n",
    "player_data['gameId'].nunique()"
   ]
  },
  {
   "cell_type": "code",
   "execution_count": 35,
   "metadata": {},
   "outputs": [
    {
     "data": {
      "text/plain": [
       "Index(['gameId', 'playId', 'ballCarrierId', 'ballCarrierDisplayName',\n",
       "       'playDescription', 'quarter', 'down', 'yardsToGo', 'possessionTeam',\n",
       "       'defensiveTeam', 'yardlineSide', 'yardlineNumber', 'gameClock',\n",
       "       'preSnapHomeScore', 'preSnapVisitorScore', 'passResult', 'passLength',\n",
       "       'penaltyYards', 'prePenaltyPlayResult', 'playResult',\n",
       "       'playNullifiedByPenalty', 'absoluteYardlineNumber', 'offenseFormation',\n",
       "       'defendersInTheBox', 'passProbability', 'preSnapHomeTeamWinProbability',\n",
       "       'preSnapVisitorTeamWinProbability', 'homeTeamWinProbabilityAdded',\n",
       "       'visitorTeamWinProbilityAdded', 'expectedPoints', 'expectedPointsAdded',\n",
       "       'foulName1', 'foulName2', 'foulNFLId1', 'foulNFLId2'],\n",
       "      dtype='object')"
      ]
     },
     "execution_count": 35,
     "metadata": {},
     "output_type": "execute_result"
    }
   ],
   "source": [
    "# features for the play information dataset\n",
    "player_data.columns"
   ]
  },
  {
   "cell_type": "code",
   "execution_count": 24,
   "metadata": {},
   "outputs": [
    {
     "data": {
      "text/plain": [
       "array(['ATL', 'PIT', 'LV', 'DEN', 'BUF', 'TEN', 'SF', 'KC', 'SEA', 'GB',\n",
       "       'NYJ', 'LA', 'JAX', 'DAL', 'DET', 'CAR', 'IND', 'MIN', 'CLE',\n",
       "       'WAS', 'CIN', 'BAL', 'PHI', 'TB', 'NO', 'ARI', 'NE', 'NYG', 'MIA',\n",
       "       'CHI', 'HOU', 'LAC'], dtype=object)"
      ]
     },
     "execution_count": 24,
     "metadata": {},
     "output_type": "execute_result"
    }
   ],
   "source": [
    "teams = player_data['possessionTeam'].unique()\n",
    "teams"
   ]
  },
  {
   "cell_type": "code",
   "execution_count": 53,
   "metadata": {},
   "outputs": [],
   "source": [
    "# what do we want our cutoff to be?\n",
    "CUTOFF = 5\n",
    "player_data[\"sucsessfulPlay\"] = player_data[\"playResult\"] > 5"
   ]
  },
  {
   "cell_type": "code",
   "execution_count": 34,
   "metadata": {},
   "outputs": [
    {
     "data": {
      "text/plain": [
       "(447, 'ARI')"
      ]
     },
     "execution_count": 34,
     "metadata": {},
     "output_type": "execute_result"
    }
   ],
   "source": [
    "# want to analyze the team that has the most offensive plays --> Looks like we are going with Arizona!\n",
    "# idea is that we want to be able to help predict if a play is worth running or not. May not be enough data to predict the outcome of a play for a single team?\n",
    "offensive_team_grouped = player_data.groupby('possessionTeam')\n",
    "play_and_team = []\n",
    "for team in teams:\n",
    "    num_offensive_plays = len(offensive_team_grouped.get_group(team))\n",
    "    play_and_team.append((num_offensive_plays,team))\n",
    "play_and_team.sort()\n",
    "play_and_team[-1]"
   ]
  },
  {
   "attachments": {},
   "cell_type": "markdown",
   "metadata": {},
   "source": [
    "## What information do we want to use that would be helpful for predicting the yards gained on a play?"
   ]
  },
  {
   "attachments": {},
   "cell_type": "markdown",
   "metadata": {},
   "source": [
    "We dont want to use any of the NFL Next Gen Stat features to do prediction; this is just there own models. We also want to make sure that we are only using data that we can acess before the play starts"
   ]
  },
  {
   "attachments": {},
   "cell_type": "markdown",
   "metadata": {},
   "source": [
    "Brainstorm:\n",
    "(1) Is there a time dependency to the outcome of a play? My intution is that there is. Maybe there is a notion of a \"hot\" offense where if a play gains more than 4 yards than the next play is more likley to also gain more than 4 yards. How do we capture this?\n"
   ]
  },
  {
   "cell_type": "code",
   "execution_count": 58,
   "metadata": {},
   "outputs": [
    {
     "data": {
      "text/html": [
       "<div>\n",
       "<style scoped>\n",
       "    .dataframe tbody tr th:only-of-type {\n",
       "        vertical-align: middle;\n",
       "    }\n",
       "\n",
       "    .dataframe tbody tr th {\n",
       "        vertical-align: top;\n",
       "    }\n",
       "\n",
       "    .dataframe thead th {\n",
       "        text-align: right;\n",
       "    }\n",
       "</style>\n",
       "<table border=\"1\" class=\"dataframe\">\n",
       "  <thead>\n",
       "    <tr style=\"text-align: right;\">\n",
       "      <th></th>\n",
       "      <th>gameId</th>\n",
       "      <th>playId</th>\n",
       "      <th>ballCarrierId</th>\n",
       "      <th>ballCarrierDisplayName</th>\n",
       "      <th>quarter</th>\n",
       "      <th>down</th>\n",
       "      <th>yardsToGo</th>\n",
       "      <th>possessionTeam</th>\n",
       "      <th>defensiveTeam</th>\n",
       "      <th>yardlineSide</th>\n",
       "      <th>yardlineNumber</th>\n",
       "      <th>gameClock</th>\n",
       "      <th>preSnapHomeScore</th>\n",
       "      <th>preSnapVisitorScore</th>\n",
       "      <th>offenseFormation</th>\n",
       "      <th>defendersInTheBox</th>\n",
       "    </tr>\n",
       "  </thead>\n",
       "  <tbody>\n",
       "    <tr>\n",
       "      <th>42</th>\n",
       "      <td>2022101609</td>\n",
       "      <td>3660</td>\n",
       "      <td>39983</td>\n",
       "      <td>Zach Ertz</td>\n",
       "      <td>4</td>\n",
       "      <td>1</td>\n",
       "      <td>10</td>\n",
       "      <td>ARI</td>\n",
       "      <td>SEA</td>\n",
       "      <td>ARI</td>\n",
       "      <td>7</td>\n",
       "      <td>6:40</td>\n",
       "      <td>19</td>\n",
       "      <td>9</td>\n",
       "      <td>SHOTGUN</td>\n",
       "      <td>5.0</td>\n",
       "    </tr>\n",
       "    <tr>\n",
       "      <th>51</th>\n",
       "      <td>2022091811</td>\n",
       "      <td>3698</td>\n",
       "      <td>47784</td>\n",
       "      <td>Kyler Murray</td>\n",
       "      <td>4</td>\n",
       "      <td>4</td>\n",
       "      <td>1</td>\n",
       "      <td>ARI</td>\n",
       "      <td>LV</td>\n",
       "      <td>LV</td>\n",
       "      <td>43</td>\n",
       "      <td>2:28</td>\n",
       "      <td>23</td>\n",
       "      <td>15</td>\n",
       "      <td>I_FORM</td>\n",
       "      <td>8.0</td>\n",
       "    </tr>\n",
       "    <tr>\n",
       "      <th>81</th>\n",
       "      <td>2022092510</td>\n",
       "      <td>3686</td>\n",
       "      <td>47784</td>\n",
       "      <td>Kyler Murray</td>\n",
       "      <td>4</td>\n",
       "      <td>1</td>\n",
       "      <td>10</td>\n",
       "      <td>ARI</td>\n",
       "      <td>LA</td>\n",
       "      <td>ARI</td>\n",
       "      <td>38</td>\n",
       "      <td>4:21</td>\n",
       "      <td>9</td>\n",
       "      <td>20</td>\n",
       "      <td>SHOTGUN</td>\n",
       "      <td>5.0</td>\n",
       "    </tr>\n",
       "    <tr>\n",
       "      <th>89</th>\n",
       "      <td>2022100911</td>\n",
       "      <td>1566</td>\n",
       "      <td>47808</td>\n",
       "      <td>Marquise Brown</td>\n",
       "      <td>2</td>\n",
       "      <td>3</td>\n",
       "      <td>3</td>\n",
       "      <td>ARI</td>\n",
       "      <td>PHI</td>\n",
       "      <td>PHI</td>\n",
       "      <td>25</td>\n",
       "      <td>5:33</td>\n",
       "      <td>0</td>\n",
       "      <td>14</td>\n",
       "      <td>EMPTY</td>\n",
       "      <td>6.0</td>\n",
       "    </tr>\n",
       "    <tr>\n",
       "      <th>92</th>\n",
       "      <td>2022091811</td>\n",
       "      <td>2213</td>\n",
       "      <td>48646</td>\n",
       "      <td>Greg Dortch</td>\n",
       "      <td>3</td>\n",
       "      <td>1</td>\n",
       "      <td>15</td>\n",
       "      <td>ARI</td>\n",
       "      <td>LV</td>\n",
       "      <td>ARI</td>\n",
       "      <td>16</td>\n",
       "      <td>11:05</td>\n",
       "      <td>20</td>\n",
       "      <td>0</td>\n",
       "      <td>SHOTGUN</td>\n",
       "      <td>6.0</td>\n",
       "    </tr>\n",
       "  </tbody>\n",
       "</table>\n",
       "</div>"
      ],
      "text/plain": [
       "        gameId  playId  ballCarrierId ballCarrierDisplayName  quarter  down  \\\n",
       "42  2022101609    3660          39983              Zach Ertz        4     1   \n",
       "51  2022091811    3698          47784           Kyler Murray        4     4   \n",
       "81  2022092510    3686          47784           Kyler Murray        4     1   \n",
       "89  2022100911    1566          47808         Marquise Brown        2     3   \n",
       "92  2022091811    2213          48646            Greg Dortch        3     1   \n",
       "\n",
       "    yardsToGo possessionTeam defensiveTeam yardlineSide  yardlineNumber  \\\n",
       "42         10            ARI           SEA          ARI               7   \n",
       "51          1            ARI            LV           LV              43   \n",
       "81         10            ARI            LA          ARI              38   \n",
       "89          3            ARI           PHI          PHI              25   \n",
       "92         15            ARI            LV          ARI              16   \n",
       "\n",
       "   gameClock  preSnapHomeScore  preSnapVisitorScore offenseFormation  \\\n",
       "42      6:40                19                    9          SHOTGUN   \n",
       "51      2:28                23                   15           I_FORM   \n",
       "81      4:21                 9                   20          SHOTGUN   \n",
       "89      5:33                 0                   14            EMPTY   \n",
       "92     11:05                20                    0          SHOTGUN   \n",
       "\n",
       "    defendersInTheBox  \n",
       "42                5.0  \n",
       "51                8.0  \n",
       "81                5.0  \n",
       "89                6.0  \n",
       "92                6.0  "
      ]
     },
     "execution_count": 58,
     "metadata": {},
     "output_type": "execute_result"
    }
   ],
   "source": [
    "# only look at information about the play thats avalible before the snap\n",
    "all_team_features = player_data[[\"gameId\", \"playId\", \"ballCarrierId\", \"ballCarrierDisplayName\", 'quarter', 'down', 'yardsToGo', 'possessionTeam',\n",
    "       'defensiveTeam', 'yardlineSide', 'yardlineNumber', 'gameClock',\n",
    "       'preSnapHomeScore', 'preSnapVisitorScore','offenseFormation', \"defendersInTheBox\"]]\n",
    "\n",
    "all_team_target =player_data[[\"gameId\", \"playId\", 'possessionTeam', \"playResult\"]]\n",
    "\n",
    "team_level_features = all_team_features.groupby(\"possessionTeam\")\n",
    "team_level_targets = all_team_target.groupby(\"possessionTeam\")\n",
    "\n",
    "cardinal_features = team_level_features.get_group(\"ARI\")\n",
    "cardinal_targets = team_level_targets.get_group(\"ARI\")\n",
    "\n",
    "cardinal_features.head()"
   ]
  },
  {
   "cell_type": "code",
   "execution_count": 64,
   "metadata": {},
   "outputs": [
    {
     "data": {
      "text/html": [
       "<div>\n",
       "<style scoped>\n",
       "    .dataframe tbody tr th:only-of-type {\n",
       "        vertical-align: middle;\n",
       "    }\n",
       "\n",
       "    .dataframe tbody tr th {\n",
       "        vertical-align: top;\n",
       "    }\n",
       "\n",
       "    .dataframe thead th {\n",
       "        text-align: right;\n",
       "    }\n",
       "</style>\n",
       "<table border=\"1\" class=\"dataframe\">\n",
       "  <thead>\n",
       "    <tr style=\"text-align: right;\">\n",
       "      <th></th>\n",
       "      <th>gameId</th>\n",
       "      <th>playId</th>\n",
       "      <th>possessionTeam</th>\n",
       "      <th>playResult</th>\n",
       "    </tr>\n",
       "  </thead>\n",
       "  <tbody>\n",
       "    <tr>\n",
       "      <th>42</th>\n",
       "      <td>2022101609</td>\n",
       "      <td>3660</td>\n",
       "      <td>ARI</td>\n",
       "      <td>7</td>\n",
       "    </tr>\n",
       "    <tr>\n",
       "      <th>51</th>\n",
       "      <td>2022091811</td>\n",
       "      <td>3698</td>\n",
       "      <td>ARI</td>\n",
       "      <td>2</td>\n",
       "    </tr>\n",
       "    <tr>\n",
       "      <th>81</th>\n",
       "      <td>2022092510</td>\n",
       "      <td>3686</td>\n",
       "      <td>ARI</td>\n",
       "      <td>2</td>\n",
       "    </tr>\n",
       "    <tr>\n",
       "      <th>89</th>\n",
       "      <td>2022100911</td>\n",
       "      <td>1566</td>\n",
       "      <td>ARI</td>\n",
       "      <td>25</td>\n",
       "    </tr>\n",
       "    <tr>\n",
       "      <th>92</th>\n",
       "      <td>2022091811</td>\n",
       "      <td>2213</td>\n",
       "      <td>ARI</td>\n",
       "      <td>29</td>\n",
       "    </tr>\n",
       "  </tbody>\n",
       "</table>\n",
       "</div>"
      ],
      "text/plain": [
       "        gameId  playId possessionTeam  playResult\n",
       "42  2022101609    3660            ARI           7\n",
       "51  2022091811    3698            ARI           2\n",
       "81  2022092510    3686            ARI           2\n",
       "89  2022100911    1566            ARI          25\n",
       "92  2022091811    2213            ARI          29"
      ]
     },
     "execution_count": 64,
     "metadata": {},
     "output_type": "execute_result"
    }
   ],
   "source": [
    "cardinal_targets.head()"
   ]
  },
  {
   "cell_type": "code",
   "execution_count": 60,
   "metadata": {},
   "outputs": [],
   "source": [
    "def visualize_target(target_data, threshold):\n",
    "    min = target_data.min()\n",
    "    max = target_data.max()\n",
    "    median = target_data.median()\n",
    "    mean = target_data.mean()\n",
    "    std = target_data.std()\n",
    "\n",
    "    for i, val in enumerate(target_data):\n",
    "        if val < threshold:\n",
    "            plt.plot(i, val, 'ro')  # Red dot for values less than x\n",
    "        else:\n",
    "            plt.plot(i, val, 'go')  # Green dot for values greater than x\n",
    "        \n",
    "        # Adding lines for statistics\n",
    "    plt.axhline(y=min, color='b', linestyle='--', label=f'Min: {min}')\n",
    "    plt.axhline(y=max, color='c', linestyle='--', label=f'Max: {max}')\n",
    "    plt.axhline(y=std, color='m', linestyle='--', label=f'Std Dev: {std:.2f}')\n",
    "    plt.axhline(y=mean, color='y', linestyle='-', label=f'Mean: {mean:.2f}')\n",
    "    plt.axhline(y=median, color='k', linestyle='-', label=f'Median: {median}')\n",
    "\n",
    "    # Adding labels and title\n",
    "    plt.xlabel('Play')\n",
    "    plt.ylabel('Yards Gained')\n",
    "\n",
    "    # Adding a legend\n",
    "    plt.legend()\n",
    "\n",
    "    # Show the plot\n",
    "    plt.show()\n",
    "\n"
   ]
  },
  {
   "cell_type": "code",
   "execution_count": 62,
   "metadata": {},
   "outputs": [
    {
     "data": {
      "image/png": "[encoded data removed]",
      "text/plain": [
       "<Figure size 640x480 with 1 Axes>"
      ]
     },
     "metadata": {},
     "output_type": "display_data"
    }
   ],
   "source": [
    "visualize_target(target_data=cardinal_targets[\"playResult\"], threshold=5)"
   ]
  },
  {
   "cell_type": "code",
   "execution_count": null,
   "metadata": {},
   "outputs": [],
   "source": []
  }
 ],
 "metadata": {
  "kernelspec": {
   "display_name": "Python 3",
   "language": "python",
   "name": "python3"
  },
  "language_info": {
   "codemirror_mode": {
    "name": "ipython",
    "version": 3
   },
   "file_extension": ".py",
   "mimetype": "text/x-python",
   "name": "python",
   "nbconvert_exporter": "python",
   "pygments_lexer": "ipython3",
   "version": "3.9.13"
  },
  "orig_nbformat": 4,
  "vscode": {
   "interpreter": {
    "hash": "7961bf74c67771b7beefe07f72234c9e60147cd11f44af514571589cb90ed3f3"
   }
  }
 },
 "nbformat": 4,
 "nbformat_minor": 2
}
